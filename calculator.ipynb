{
  "nbformat": 4,
  "nbformat_minor": 0,
  "metadata": {
    "colab": {
      "provenance": [],
      "toc_visible": true,
      "authorship_tag": "ABX9TyMSfGGrqVPgwGdsIiN4A74m",
      "include_colab_link": true
    },
    "kernelspec": {
      "name": "python3",
      "display_name": "Python 3"
    },
    "language_info": {
      "name": "python"
    }
  },
  "cells": [
    {
      "cell_type": "markdown",
      "metadata": {
        "id": "view-in-github",
        "colab_type": "text"
      },
      "source": [
        "<a href=\"https://colab.research.google.com/github/AngeloOttendorfer/Python_Projects/blob/master/calculator.ipynb\" target=\"_parent\"><img src=\"https://colab.research.google.com/assets/colab-badge.svg\" alt=\"Open In Colab\"/></a>"
      ]
    },
    {
      "cell_type": "markdown",
      "source": [
        "# Calculator"
      ],
      "metadata": {
        "id": "8Up_GHLXQA4k"
      }
    },
    {
      "cell_type": "markdown",
      "source": [
        "\n",
        "\n",
        "*   Create a function called add that takes an arbitrary amount of arguments to perform an add operation between multiple numbers\n",
        "*   Create a function called subtract that takes an arbitrary amount of arguments to perform an subtract operation between multiple numbers\n",
        "\n",
        "*   Create a function called multiply that takes an arbitrary amount of arguments to perform an multiply operation between multiple arguments\n",
        "*   Create a function called divide that takes an arbitrary amount of arguments to perform an divide operation between multiple numbers\n",
        "\n",
        "*   Save the math operations performed in in a list or dictionary\n",
        "*   Allow user input to perform calculations\n",
        "\n",
        "\n",
        "\n",
        "\n",
        "\n"
      ],
      "metadata": {
        "id": "aWuHHan1QIbo"
      }
    },
    {
      "cell_type": "markdown",
      "source": [
        "## Addition"
      ],
      "metadata": {
        "id": "exaID1rOSmZM"
      }
    },
    {
      "cell_type": "code",
      "source": [
        "def add(numbers):\n",
        "  result = 0\n",
        "  for num in numbers:\n",
        "    result = result + num\n",
        "\n",
        "  return result"
      ],
      "metadata": {
        "id": "H7Ds9yzPRwBz"
      },
      "execution_count": 14,
      "outputs": []
    },
    {
      "cell_type": "markdown",
      "source": [
        "## Subtraction"
      ],
      "metadata": {
        "id": "mIEynscRTZpp"
      }
    },
    {
      "cell_type": "code",
      "source": [
        "def subtract(numbers):\n",
        "  for num in numbers:\n",
        "    if num == numbers[0]:\n",
        "      result = num\n",
        "    else:\n",
        "      result = result - num\n",
        "\n",
        "  return result"
      ],
      "metadata": {
        "id": "3_RUXkfRTiZG"
      },
      "execution_count": 15,
      "outputs": []
    },
    {
      "cell_type": "markdown",
      "source": [
        "## Multiplication"
      ],
      "metadata": {
        "id": "d4UkklcITzXx"
      }
    },
    {
      "cell_type": "code",
      "source": [
        "def multiply(numbers):\n",
        "  result = 1\n",
        "  for num in numbers:\n",
        "    result = result * num\n",
        "\n",
        "  return result"
      ],
      "metadata": {
        "id": "YWL4K45cT2aB"
      },
      "execution_count": 16,
      "outputs": []
    },
    {
      "cell_type": "markdown",
      "source": [
        "## Division"
      ],
      "metadata": {
        "id": "kPfZQb5PZeqb"
      }
    },
    {
      "cell_type": "code",
      "source": [
        "def divide(numbers):\n",
        "  for num in numbers:\n",
        "    if num == numbers[0]:\n",
        "      result = num\n",
        "    else:\n",
        "      result = result / num\n",
        "\n",
        "  return result"
      ],
      "metadata": {
        "id": "oqtoZUB4ZkER"
      },
      "execution_count": 17,
      "outputs": []
    },
    {
      "cell_type": "markdown",
      "source": [
        "## User interaction"
      ],
      "metadata": {
        "id": "T2optyLeahJ5"
      }
    },
    {
      "cell_type": "code",
      "source": [
        "def app():\n",
        "  operation_count_dict = {\"addition\":0, \"subtraction\":0, \"multiplication\":0, \"division\":0}\n",
        "  print(\"Enter a math operation to perform.\" + \"\\n\"\n",
        "        \"Type add for multiplication, \" + \"\\n\"\n",
        "        \"subtract for subtraction, \" + \"\\n\"\n",
        "        \"multiply for multiplication, \" + \"\\n\"\n",
        "        \"divide for division or type q to exit this application!\"\n",
        "        \"Then type an arbitrary amount of numeric operators as a sequence, \" + \"\\n\"\n",
        "        \"hence without whitespaces or any special symbols in between!\")\n",
        "\n",
        "  operation = \"\"\n",
        "\n",
        "  while operation != 'q':\n",
        "    operation = input(\"operation or q for quit: \")\n",
        "    if operation == 'q':\n",
        "      print(operation_count_dict)\n",
        "      return\n",
        "\n",
        "    op_input = list(input(\"operators: \"))\n",
        "    if any(char.isalpha() for char in op_input):\n",
        "      raise Exception(\"Letters are invalid arguments for operators!!!\" + \"\\n\"\n",
        "                      \"Please enter a number!!!\")\n",
        "    operators = [eval(operator) for operator in op_input]\n",
        "\n",
        "    print(\"list of operators: \" + str(operators))\n",
        "\n",
        "    if operation == \"add\":\n",
        "      print(add(operators))\n",
        "      operation_count_dict[\"addition\"] += 1\n",
        "    elif operation == \"subtract\":\n",
        "      print(subtract(operators))\n",
        "      operation_count_dict[\"subtraction\"] += 1\n",
        "    elif operation == \"multiply\":\n",
        "      print(multiply(operators))\n",
        "      operation_count_dict[\"multiplication\"] += 1\n",
        "    elif operation == \"divide\":\n",
        "      print(divide(operators))\n",
        "      operation_count_dict[\"division\"] += 1\n",
        "    else:\n",
        "      raise Exception(\"Be sure to enter one of the four math operations \"\n",
        "                      \"or type 'q' to quit the application\")\n",
        "\n",
        "app()"
      ],
      "metadata": {
        "id": "B1mPoVyratmc"
      },
      "execution_count": null,
      "outputs": []
    },
    {
      "cell_type": "code",
      "source": [],
      "metadata": {
        "id": "B-b-e7J5hTCL"
      },
      "execution_count": 21,
      "outputs": []
    }
  ]
}
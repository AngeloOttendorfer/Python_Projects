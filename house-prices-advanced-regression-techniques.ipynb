{
 "cells": [
  {
   "cell_type": "code",
   "execution_count": 1,
   "id": "9724b7ba",
   "metadata": {
    "_cell_guid": "b1076dfc-b9ad-4769-8c92-a6c4dae69d19",
    "_uuid": "8f2839f25d086af736a60e9eeb907d3b93b6e0e5",
    "execution": {
     "iopub.execute_input": "2024-01-24T13:22:16.341601Z",
     "iopub.status.busy": "2024-01-24T13:22:16.341106Z",
     "iopub.status.idle": "2024-01-24T13:22:16.791798Z",
     "shell.execute_reply": "2024-01-24T13:22:16.790370Z"
    },
    "papermill": {
     "duration": 0.464873,
     "end_time": "2024-01-24T13:22:16.794593",
     "exception": false,
     "start_time": "2024-01-24T13:22:16.329720",
     "status": "completed"
    },
    "tags": []
   },
   "outputs": [
    {
     "name": "stdout",
     "output_type": "stream",
     "text": [
      "/kaggle/input/house-prices-prediction/sample_submission.csv\n",
      "/kaggle/input/house-prices-prediction/data_description.txt\n",
      "/kaggle/input/house-prices-prediction/train.csv\n",
      "/kaggle/input/house-prices-prediction/test.csv\n"
     ]
    }
   ],
   "source": [
    "# This Python 3 environment comes with many helpful analytics libraries installed\n",
    "# It is defined by the kaggle/python Docker image: https://github.com/kaggle/docker-python\n",
    "# For example, here's several helpful packages to load\n",
    "\n",
    "import numpy as np # linear algebra\n",
    "import pandas as pd # data processing, CSV file I/O (e.g. pd.read_csv)\n",
    "\n",
    "# Input data files are available in the read-only \"../input/\" directory\n",
    "# For example, running this (by clicking run or pressing Shift+Enter) will list all files under the input directory\n",
    "\n",
    "import os\n",
    "for dirname, _, filenames in os.walk('/kaggle/input'):\n",
    "    for filename in filenames:\n",
    "        print(os.path.join(dirname, filename))\n",
    "\n",
    "# You can write up to 20GB to the current directory (/kaggle/working/) that gets preserved as output when you create a version using \"Save & Run All\" \n",
    "# You can also write temporary files to /kaggle/temp/, but they won't be saved outside of the current session"
   ]
  },
  {
   "cell_type": "markdown",
   "id": "57a79e28",
   "metadata": {
    "papermill": {
     "duration": 0.008896,
     "end_time": "2024-01-24T13:22:16.812537",
     "exception": false,
     "start_time": "2024-01-24T13:22:16.803641",
     "status": "completed"
    },
    "tags": []
   },
   "source": [
    "# Create a Dataframe containing the data set"
   ]
  },
  {
   "cell_type": "code",
   "execution_count": 2,
   "id": "9a8e2b03",
   "metadata": {
    "execution": {
     "iopub.execute_input": "2024-01-24T13:22:16.832063Z",
     "iopub.status.busy": "2024-01-24T13:22:16.831527Z",
     "iopub.status.idle": "2024-01-24T13:22:16.928776Z",
     "shell.execute_reply": "2024-01-24T13:22:16.927640Z"
    },
    "papermill": {
     "duration": 0.110137,
     "end_time": "2024-01-24T13:22:16.931638",
     "exception": false,
     "start_time": "2024-01-24T13:22:16.821501",
     "status": "completed"
    },
    "tags": []
   },
   "outputs": [],
   "source": [
    "df_train = pd.read_csv('/kaggle/input/house-prices-prediction/test.csv')\n",
    "df_test = pd.read_csv('/kaggle/input/house-prices-prediction/test.csv')\n",
    "df_sample_submission = pd.read_csv('/kaggle/input/house-prices-prediction/sample_submission.csv')"
   ]
  },
  {
   "cell_type": "markdown",
   "id": "d60cc7e0",
   "metadata": {
    "papermill": {
     "duration": 0.008385,
     "end_time": "2024-01-24T13:22:16.949282",
     "exception": false,
     "start_time": "2024-01-24T13:22:16.940897",
     "status": "completed"
    },
    "tags": []
   },
   "source": [
    "# Look up the Train Dataset"
   ]
  },
  {
   "cell_type": "code",
   "execution_count": 3,
   "id": "063f612f",
   "metadata": {
    "execution": {
     "iopub.execute_input": "2024-01-24T13:22:16.969066Z",
     "iopub.status.busy": "2024-01-24T13:22:16.968391Z",
     "iopub.status.idle": "2024-01-24T13:22:17.011000Z",
     "shell.execute_reply": "2024-01-24T13:22:17.010061Z"
    },
    "papermill": {
     "duration": 0.055299,
     "end_time": "2024-01-24T13:22:17.013250",
     "exception": false,
     "start_time": "2024-01-24T13:22:16.957951",
     "status": "completed"
    },
    "tags": []
   },
   "outputs": [
    {
     "data": {
      "text/html": [
       "<div>\n",
       "<style scoped>\n",
       "    .dataframe tbody tr th:only-of-type {\n",
       "        vertical-align: middle;\n",
       "    }\n",
       "\n",
       "    .dataframe tbody tr th {\n",
       "        vertical-align: top;\n",
       "    }\n",
       "\n",
       "    .dataframe thead th {\n",
       "        text-align: right;\n",
       "    }\n",
       "</style>\n",
       "<table border=\"1\" class=\"dataframe\">\n",
       "  <thead>\n",
       "    <tr style=\"text-align: right;\">\n",
       "      <th></th>\n",
       "      <th>Id</th>\n",
       "      <th>MSSubClass</th>\n",
       "      <th>MSZoning</th>\n",
       "      <th>LotFrontage</th>\n",
       "      <th>LotArea</th>\n",
       "      <th>Street</th>\n",
       "      <th>Alley</th>\n",
       "      <th>LotShape</th>\n",
       "      <th>LandContour</th>\n",
       "      <th>Utilities</th>\n",
       "      <th>...</th>\n",
       "      <th>ScreenPorch</th>\n",
       "      <th>PoolArea</th>\n",
       "      <th>PoolQC</th>\n",
       "      <th>Fence</th>\n",
       "      <th>MiscFeature</th>\n",
       "      <th>MiscVal</th>\n",
       "      <th>MoSold</th>\n",
       "      <th>YrSold</th>\n",
       "      <th>SaleType</th>\n",
       "      <th>SaleCondition</th>\n",
       "    </tr>\n",
       "  </thead>\n",
       "  <tbody>\n",
       "    <tr>\n",
       "      <th>0</th>\n",
       "      <td>1461</td>\n",
       "      <td>20</td>\n",
       "      <td>RH</td>\n",
       "      <td>80.0</td>\n",
       "      <td>11622</td>\n",
       "      <td>Pave</td>\n",
       "      <td>NaN</td>\n",
       "      <td>Reg</td>\n",
       "      <td>Lvl</td>\n",
       "      <td>AllPub</td>\n",
       "      <td>...</td>\n",
       "      <td>120</td>\n",
       "      <td>0</td>\n",
       "      <td>NaN</td>\n",
       "      <td>MnPrv</td>\n",
       "      <td>NaN</td>\n",
       "      <td>0</td>\n",
       "      <td>6</td>\n",
       "      <td>2010</td>\n",
       "      <td>WD</td>\n",
       "      <td>Normal</td>\n",
       "    </tr>\n",
       "    <tr>\n",
       "      <th>1</th>\n",
       "      <td>1462</td>\n",
       "      <td>20</td>\n",
       "      <td>RL</td>\n",
       "      <td>81.0</td>\n",
       "      <td>14267</td>\n",
       "      <td>Pave</td>\n",
       "      <td>NaN</td>\n",
       "      <td>IR1</td>\n",
       "      <td>Lvl</td>\n",
       "      <td>AllPub</td>\n",
       "      <td>...</td>\n",
       "      <td>0</td>\n",
       "      <td>0</td>\n",
       "      <td>NaN</td>\n",
       "      <td>NaN</td>\n",
       "      <td>Gar2</td>\n",
       "      <td>12500</td>\n",
       "      <td>6</td>\n",
       "      <td>2010</td>\n",
       "      <td>WD</td>\n",
       "      <td>Normal</td>\n",
       "    </tr>\n",
       "    <tr>\n",
       "      <th>2</th>\n",
       "      <td>1463</td>\n",
       "      <td>60</td>\n",
       "      <td>RL</td>\n",
       "      <td>74.0</td>\n",
       "      <td>13830</td>\n",
       "      <td>Pave</td>\n",
       "      <td>NaN</td>\n",
       "      <td>IR1</td>\n",
       "      <td>Lvl</td>\n",
       "      <td>AllPub</td>\n",
       "      <td>...</td>\n",
       "      <td>0</td>\n",
       "      <td>0</td>\n",
       "      <td>NaN</td>\n",
       "      <td>MnPrv</td>\n",
       "      <td>NaN</td>\n",
       "      <td>0</td>\n",
       "      <td>3</td>\n",
       "      <td>2010</td>\n",
       "      <td>WD</td>\n",
       "      <td>Normal</td>\n",
       "    </tr>\n",
       "    <tr>\n",
       "      <th>3</th>\n",
       "      <td>1464</td>\n",
       "      <td>60</td>\n",
       "      <td>RL</td>\n",
       "      <td>78.0</td>\n",
       "      <td>9978</td>\n",
       "      <td>Pave</td>\n",
       "      <td>NaN</td>\n",
       "      <td>IR1</td>\n",
       "      <td>Lvl</td>\n",
       "      <td>AllPub</td>\n",
       "      <td>...</td>\n",
       "      <td>0</td>\n",
       "      <td>0</td>\n",
       "      <td>NaN</td>\n",
       "      <td>NaN</td>\n",
       "      <td>NaN</td>\n",
       "      <td>0</td>\n",
       "      <td>6</td>\n",
       "      <td>2010</td>\n",
       "      <td>WD</td>\n",
       "      <td>Normal</td>\n",
       "    </tr>\n",
       "    <tr>\n",
       "      <th>4</th>\n",
       "      <td>1465</td>\n",
       "      <td>120</td>\n",
       "      <td>RL</td>\n",
       "      <td>43.0</td>\n",
       "      <td>5005</td>\n",
       "      <td>Pave</td>\n",
       "      <td>NaN</td>\n",
       "      <td>IR1</td>\n",
       "      <td>HLS</td>\n",
       "      <td>AllPub</td>\n",
       "      <td>...</td>\n",
       "      <td>144</td>\n",
       "      <td>0</td>\n",
       "      <td>NaN</td>\n",
       "      <td>NaN</td>\n",
       "      <td>NaN</td>\n",
       "      <td>0</td>\n",
       "      <td>1</td>\n",
       "      <td>2010</td>\n",
       "      <td>WD</td>\n",
       "      <td>Normal</td>\n",
       "    </tr>\n",
       "  </tbody>\n",
       "</table>\n",
       "<p>5 rows × 80 columns</p>\n",
       "</div>"
      ],
      "text/plain": [
       "     Id  MSSubClass MSZoning  LotFrontage  LotArea Street Alley LotShape  \\\n",
       "0  1461          20       RH         80.0    11622   Pave   NaN      Reg   \n",
       "1  1462          20       RL         81.0    14267   Pave   NaN      IR1   \n",
       "2  1463          60       RL         74.0    13830   Pave   NaN      IR1   \n",
       "3  1464          60       RL         78.0     9978   Pave   NaN      IR1   \n",
       "4  1465         120       RL         43.0     5005   Pave   NaN      IR1   \n",
       "\n",
       "  LandContour Utilities  ... ScreenPorch PoolArea PoolQC  Fence MiscFeature  \\\n",
       "0         Lvl    AllPub  ...         120        0    NaN  MnPrv         NaN   \n",
       "1         Lvl    AllPub  ...           0        0    NaN    NaN        Gar2   \n",
       "2         Lvl    AllPub  ...           0        0    NaN  MnPrv         NaN   \n",
       "3         Lvl    AllPub  ...           0        0    NaN    NaN         NaN   \n",
       "4         HLS    AllPub  ...         144        0    NaN    NaN         NaN   \n",
       "\n",
       "  MiscVal MoSold  YrSold  SaleType  SaleCondition  \n",
       "0       0      6    2010        WD         Normal  \n",
       "1   12500      6    2010        WD         Normal  \n",
       "2       0      3    2010        WD         Normal  \n",
       "3       0      6    2010        WD         Normal  \n",
       "4       0      1    2010        WD         Normal  \n",
       "\n",
       "[5 rows x 80 columns]"
      ]
     },
     "execution_count": 3,
     "metadata": {},
     "output_type": "execute_result"
    }
   ],
   "source": [
    "df_train.head()"
   ]
  },
  {
   "cell_type": "code",
   "execution_count": 4,
   "id": "4ee13a42",
   "metadata": {
    "execution": {
     "iopub.execute_input": "2024-01-24T13:22:17.033731Z",
     "iopub.status.busy": "2024-01-24T13:22:17.033239Z",
     "iopub.status.idle": "2024-01-24T13:22:17.041170Z",
     "shell.execute_reply": "2024-01-24T13:22:17.040071Z"
    },
    "papermill": {
     "duration": 0.021312,
     "end_time": "2024-01-24T13:22:17.043793",
     "exception": false,
     "start_time": "2024-01-24T13:22:17.022481",
     "status": "completed"
    },
    "tags": []
   },
   "outputs": [
    {
     "data": {
      "text/plain": [
       "(1459, 80)"
      ]
     },
     "execution_count": 4,
     "metadata": {},
     "output_type": "execute_result"
    }
   ],
   "source": [
    "df_train.shape"
   ]
  },
  {
   "cell_type": "code",
   "execution_count": 5,
   "id": "5e16e637",
   "metadata": {
    "execution": {
     "iopub.execute_input": "2024-01-24T13:22:17.064491Z",
     "iopub.status.busy": "2024-01-24T13:22:17.064017Z",
     "iopub.status.idle": "2024-01-24T13:22:17.075883Z",
     "shell.execute_reply": "2024-01-24T13:22:17.074410Z"
    },
    "papermill": {
     "duration": 0.025231,
     "end_time": "2024-01-24T13:22:17.078509",
     "exception": false,
     "start_time": "2024-01-24T13:22:17.053278",
     "status": "completed"
    },
    "tags": []
   },
   "outputs": [
    {
     "data": {
      "text/plain": [
       "Index(['Id', 'MSSubClass', 'MSZoning', 'LotFrontage', 'LotArea', 'Street',\n",
       "       'Alley', 'LotShape', 'LandContour', 'Utilities', 'LotConfig',\n",
       "       'LandSlope', 'Neighborhood', 'Condition1', 'Condition2', 'BldgType',\n",
       "       'HouseStyle', 'OverallQual', 'OverallCond', 'YearBuilt', 'YearRemodAdd',\n",
       "       'RoofStyle', 'RoofMatl', 'Exterior1st', 'Exterior2nd', 'MasVnrType',\n",
       "       'MasVnrArea', 'ExterQual', 'ExterCond', 'Foundation', 'BsmtQual',\n",
       "       'BsmtCond', 'BsmtExposure', 'BsmtFinType1', 'BsmtFinSF1',\n",
       "       'BsmtFinType2', 'BsmtFinSF2', 'BsmtUnfSF', 'TotalBsmtSF', 'Heating',\n",
       "       'HeatingQC', 'CentralAir', 'Electrical', '1stFlrSF', '2ndFlrSF',\n",
       "       'LowQualFinSF', 'GrLivArea', 'BsmtFullBath', 'BsmtHalfBath', 'FullBath',\n",
       "       'HalfBath', 'BedroomAbvGr', 'KitchenAbvGr', 'KitchenQual',\n",
       "       'TotRmsAbvGrd', 'Functional', 'Fireplaces', 'FireplaceQu', 'GarageType',\n",
       "       'GarageYrBlt', 'GarageFinish', 'GarageCars', 'GarageArea', 'GarageQual',\n",
       "       'GarageCond', 'PavedDrive', 'WoodDeckSF', 'OpenPorchSF',\n",
       "       'EnclosedPorch', '3SsnPorch', 'ScreenPorch', 'PoolArea', 'PoolQC',\n",
       "       'Fence', 'MiscFeature', 'MiscVal', 'MoSold', 'YrSold', 'SaleType',\n",
       "       'SaleCondition'],\n",
       "      dtype='object')"
      ]
     },
     "execution_count": 5,
     "metadata": {},
     "output_type": "execute_result"
    }
   ],
   "source": [
    "df_train.columns"
   ]
  },
  {
   "cell_type": "markdown",
   "id": "4b6a2567",
   "metadata": {
    "papermill": {
     "duration": 0.0096,
     "end_time": "2024-01-24T13:22:17.097707",
     "exception": false,
     "start_time": "2024-01-24T13:22:17.088107",
     "status": "completed"
    },
    "tags": []
   },
   "source": [
    "# Look up the Test Dataset"
   ]
  },
  {
   "cell_type": "code",
   "execution_count": 6,
   "id": "2c5d2f10",
   "metadata": {
    "execution": {
     "iopub.execute_input": "2024-01-24T13:22:17.118907Z",
     "iopub.status.busy": "2024-01-24T13:22:17.118405Z",
     "iopub.status.idle": "2024-01-24T13:22:17.144617Z",
     "shell.execute_reply": "2024-01-24T13:22:17.143442Z"
    },
    "papermill": {
     "duration": 0.04023,
     "end_time": "2024-01-24T13:22:17.147404",
     "exception": false,
     "start_time": "2024-01-24T13:22:17.107174",
     "status": "completed"
    },
    "tags": []
   },
   "outputs": [
    {
     "data": {
      "text/html": [
       "<div>\n",
       "<style scoped>\n",
       "    .dataframe tbody tr th:only-of-type {\n",
       "        vertical-align: middle;\n",
       "    }\n",
       "\n",
       "    .dataframe tbody tr th {\n",
       "        vertical-align: top;\n",
       "    }\n",
       "\n",
       "    .dataframe thead th {\n",
       "        text-align: right;\n",
       "    }\n",
       "</style>\n",
       "<table border=\"1\" class=\"dataframe\">\n",
       "  <thead>\n",
       "    <tr style=\"text-align: right;\">\n",
       "      <th></th>\n",
       "      <th>Id</th>\n",
       "      <th>MSSubClass</th>\n",
       "      <th>MSZoning</th>\n",
       "      <th>LotFrontage</th>\n",
       "      <th>LotArea</th>\n",
       "      <th>Street</th>\n",
       "      <th>Alley</th>\n",
       "      <th>LotShape</th>\n",
       "      <th>LandContour</th>\n",
       "      <th>Utilities</th>\n",
       "      <th>...</th>\n",
       "      <th>ScreenPorch</th>\n",
       "      <th>PoolArea</th>\n",
       "      <th>PoolQC</th>\n",
       "      <th>Fence</th>\n",
       "      <th>MiscFeature</th>\n",
       "      <th>MiscVal</th>\n",
       "      <th>MoSold</th>\n",
       "      <th>YrSold</th>\n",
       "      <th>SaleType</th>\n",
       "      <th>SaleCondition</th>\n",
       "    </tr>\n",
       "  </thead>\n",
       "  <tbody>\n",
       "    <tr>\n",
       "      <th>0</th>\n",
       "      <td>1461</td>\n",
       "      <td>20</td>\n",
       "      <td>RH</td>\n",
       "      <td>80.0</td>\n",
       "      <td>11622</td>\n",
       "      <td>Pave</td>\n",
       "      <td>NaN</td>\n",
       "      <td>Reg</td>\n",
       "      <td>Lvl</td>\n",
       "      <td>AllPub</td>\n",
       "      <td>...</td>\n",
       "      <td>120</td>\n",
       "      <td>0</td>\n",
       "      <td>NaN</td>\n",
       "      <td>MnPrv</td>\n",
       "      <td>NaN</td>\n",
       "      <td>0</td>\n",
       "      <td>6</td>\n",
       "      <td>2010</td>\n",
       "      <td>WD</td>\n",
       "      <td>Normal</td>\n",
       "    </tr>\n",
       "    <tr>\n",
       "      <th>1</th>\n",
       "      <td>1462</td>\n",
       "      <td>20</td>\n",
       "      <td>RL</td>\n",
       "      <td>81.0</td>\n",
       "      <td>14267</td>\n",
       "      <td>Pave</td>\n",
       "      <td>NaN</td>\n",
       "      <td>IR1</td>\n",
       "      <td>Lvl</td>\n",
       "      <td>AllPub</td>\n",
       "      <td>...</td>\n",
       "      <td>0</td>\n",
       "      <td>0</td>\n",
       "      <td>NaN</td>\n",
       "      <td>NaN</td>\n",
       "      <td>Gar2</td>\n",
       "      <td>12500</td>\n",
       "      <td>6</td>\n",
       "      <td>2010</td>\n",
       "      <td>WD</td>\n",
       "      <td>Normal</td>\n",
       "    </tr>\n",
       "    <tr>\n",
       "      <th>2</th>\n",
       "      <td>1463</td>\n",
       "      <td>60</td>\n",
       "      <td>RL</td>\n",
       "      <td>74.0</td>\n",
       "      <td>13830</td>\n",
       "      <td>Pave</td>\n",
       "      <td>NaN</td>\n",
       "      <td>IR1</td>\n",
       "      <td>Lvl</td>\n",
       "      <td>AllPub</td>\n",
       "      <td>...</td>\n",
       "      <td>0</td>\n",
       "      <td>0</td>\n",
       "      <td>NaN</td>\n",
       "      <td>MnPrv</td>\n",
       "      <td>NaN</td>\n",
       "      <td>0</td>\n",
       "      <td>3</td>\n",
       "      <td>2010</td>\n",
       "      <td>WD</td>\n",
       "      <td>Normal</td>\n",
       "    </tr>\n",
       "    <tr>\n",
       "      <th>3</th>\n",
       "      <td>1464</td>\n",
       "      <td>60</td>\n",
       "      <td>RL</td>\n",
       "      <td>78.0</td>\n",
       "      <td>9978</td>\n",
       "      <td>Pave</td>\n",
       "      <td>NaN</td>\n",
       "      <td>IR1</td>\n",
       "      <td>Lvl</td>\n",
       "      <td>AllPub</td>\n",
       "      <td>...</td>\n",
       "      <td>0</td>\n",
       "      <td>0</td>\n",
       "      <td>NaN</td>\n",
       "      <td>NaN</td>\n",
       "      <td>NaN</td>\n",
       "      <td>0</td>\n",
       "      <td>6</td>\n",
       "      <td>2010</td>\n",
       "      <td>WD</td>\n",
       "      <td>Normal</td>\n",
       "    </tr>\n",
       "    <tr>\n",
       "      <th>4</th>\n",
       "      <td>1465</td>\n",
       "      <td>120</td>\n",
       "      <td>RL</td>\n",
       "      <td>43.0</td>\n",
       "      <td>5005</td>\n",
       "      <td>Pave</td>\n",
       "      <td>NaN</td>\n",
       "      <td>IR1</td>\n",
       "      <td>HLS</td>\n",
       "      <td>AllPub</td>\n",
       "      <td>...</td>\n",
       "      <td>144</td>\n",
       "      <td>0</td>\n",
       "      <td>NaN</td>\n",
       "      <td>NaN</td>\n",
       "      <td>NaN</td>\n",
       "      <td>0</td>\n",
       "      <td>1</td>\n",
       "      <td>2010</td>\n",
       "      <td>WD</td>\n",
       "      <td>Normal</td>\n",
       "    </tr>\n",
       "  </tbody>\n",
       "</table>\n",
       "<p>5 rows × 80 columns</p>\n",
       "</div>"
      ],
      "text/plain": [
       "     Id  MSSubClass MSZoning  LotFrontage  LotArea Street Alley LotShape  \\\n",
       "0  1461          20       RH         80.0    11622   Pave   NaN      Reg   \n",
       "1  1462          20       RL         81.0    14267   Pave   NaN      IR1   \n",
       "2  1463          60       RL         74.0    13830   Pave   NaN      IR1   \n",
       "3  1464          60       RL         78.0     9978   Pave   NaN      IR1   \n",
       "4  1465         120       RL         43.0     5005   Pave   NaN      IR1   \n",
       "\n",
       "  LandContour Utilities  ... ScreenPorch PoolArea PoolQC  Fence MiscFeature  \\\n",
       "0         Lvl    AllPub  ...         120        0    NaN  MnPrv         NaN   \n",
       "1         Lvl    AllPub  ...           0        0    NaN    NaN        Gar2   \n",
       "2         Lvl    AllPub  ...           0        0    NaN  MnPrv         NaN   \n",
       "3         Lvl    AllPub  ...           0        0    NaN    NaN         NaN   \n",
       "4         HLS    AllPub  ...         144        0    NaN    NaN         NaN   \n",
       "\n",
       "  MiscVal MoSold  YrSold  SaleType  SaleCondition  \n",
       "0       0      6    2010        WD         Normal  \n",
       "1   12500      6    2010        WD         Normal  \n",
       "2       0      3    2010        WD         Normal  \n",
       "3       0      6    2010        WD         Normal  \n",
       "4       0      1    2010        WD         Normal  \n",
       "\n",
       "[5 rows x 80 columns]"
      ]
     },
     "execution_count": 6,
     "metadata": {},
     "output_type": "execute_result"
    }
   ],
   "source": [
    "df_test.head()"
   ]
  },
  {
   "cell_type": "code",
   "execution_count": 7,
   "id": "5a61ba14",
   "metadata": {
    "execution": {
     "iopub.execute_input": "2024-01-24T13:22:17.170899Z",
     "iopub.status.busy": "2024-01-24T13:22:17.170423Z",
     "iopub.status.idle": "2024-01-24T13:22:17.178025Z",
     "shell.execute_reply": "2024-01-24T13:22:17.176917Z"
    },
    "papermill": {
     "duration": 0.02299,
     "end_time": "2024-01-24T13:22:17.180523",
     "exception": false,
     "start_time": "2024-01-24T13:22:17.157533",
     "status": "completed"
    },
    "tags": []
   },
   "outputs": [
    {
     "data": {
      "text/plain": [
       "(1459, 80)"
      ]
     },
     "execution_count": 7,
     "metadata": {},
     "output_type": "execute_result"
    }
   ],
   "source": [
    "df_test.shape"
   ]
  },
  {
   "cell_type": "code",
   "execution_count": 8,
   "id": "7c15b64c",
   "metadata": {
    "execution": {
     "iopub.execute_input": "2024-01-24T13:22:17.203265Z",
     "iopub.status.busy": "2024-01-24T13:22:17.202835Z",
     "iopub.status.idle": "2024-01-24T13:22:17.210847Z",
     "shell.execute_reply": "2024-01-24T13:22:17.209848Z"
    },
    "papermill": {
     "duration": 0.022674,
     "end_time": "2024-01-24T13:22:17.213602",
     "exception": false,
     "start_time": "2024-01-24T13:22:17.190928",
     "status": "completed"
    },
    "tags": []
   },
   "outputs": [
    {
     "data": {
      "text/plain": [
       "Index(['Id', 'MSSubClass', 'MSZoning', 'LotFrontage', 'LotArea', 'Street',\n",
       "       'Alley', 'LotShape', 'LandContour', 'Utilities', 'LotConfig',\n",
       "       'LandSlope', 'Neighborhood', 'Condition1', 'Condition2', 'BldgType',\n",
       "       'HouseStyle', 'OverallQual', 'OverallCond', 'YearBuilt', 'YearRemodAdd',\n",
       "       'RoofStyle', 'RoofMatl', 'Exterior1st', 'Exterior2nd', 'MasVnrType',\n",
       "       'MasVnrArea', 'ExterQual', 'ExterCond', 'Foundation', 'BsmtQual',\n",
       "       'BsmtCond', 'BsmtExposure', 'BsmtFinType1', 'BsmtFinSF1',\n",
       "       'BsmtFinType2', 'BsmtFinSF2', 'BsmtUnfSF', 'TotalBsmtSF', 'Heating',\n",
       "       'HeatingQC', 'CentralAir', 'Electrical', '1stFlrSF', '2ndFlrSF',\n",
       "       'LowQualFinSF', 'GrLivArea', 'BsmtFullBath', 'BsmtHalfBath', 'FullBath',\n",
       "       'HalfBath', 'BedroomAbvGr', 'KitchenAbvGr', 'KitchenQual',\n",
       "       'TotRmsAbvGrd', 'Functional', 'Fireplaces', 'FireplaceQu', 'GarageType',\n",
       "       'GarageYrBlt', 'GarageFinish', 'GarageCars', 'GarageArea', 'GarageQual',\n",
       "       'GarageCond', 'PavedDrive', 'WoodDeckSF', 'OpenPorchSF',\n",
       "       'EnclosedPorch', '3SsnPorch', 'ScreenPorch', 'PoolArea', 'PoolQC',\n",
       "       'Fence', 'MiscFeature', 'MiscVal', 'MoSold', 'YrSold', 'SaleType',\n",
       "       'SaleCondition'],\n",
       "      dtype='object')"
      ]
     },
     "execution_count": 8,
     "metadata": {},
     "output_type": "execute_result"
    }
   ],
   "source": [
    "df_test.columns"
   ]
  },
  {
   "cell_type": "markdown",
   "id": "e04ead65",
   "metadata": {
    "papermill": {
     "duration": 0.010336,
     "end_time": "2024-01-24T13:22:17.234538",
     "exception": false,
     "start_time": "2024-01-24T13:22:17.224202",
     "status": "completed"
    },
    "tags": []
   },
   "source": [
    "# Look up the sample submission containing the predicting value"
   ]
  },
  {
   "cell_type": "code",
   "execution_count": 9,
   "id": "b753536c",
   "metadata": {
    "execution": {
     "iopub.execute_input": "2024-01-24T13:22:17.257330Z",
     "iopub.status.busy": "2024-01-24T13:22:17.256896Z",
     "iopub.status.idle": "2024-01-24T13:22:17.267014Z",
     "shell.execute_reply": "2024-01-24T13:22:17.266261Z"
    },
    "papermill": {
     "duration": 0.024276,
     "end_time": "2024-01-24T13:22:17.269367",
     "exception": false,
     "start_time": "2024-01-24T13:22:17.245091",
     "status": "completed"
    },
    "tags": []
   },
   "outputs": [
    {
     "data": {
      "text/html": [
       "<div>\n",
       "<style scoped>\n",
       "    .dataframe tbody tr th:only-of-type {\n",
       "        vertical-align: middle;\n",
       "    }\n",
       "\n",
       "    .dataframe tbody tr th {\n",
       "        vertical-align: top;\n",
       "    }\n",
       "\n",
       "    .dataframe thead th {\n",
       "        text-align: right;\n",
       "    }\n",
       "</style>\n",
       "<table border=\"1\" class=\"dataframe\">\n",
       "  <thead>\n",
       "    <tr style=\"text-align: right;\">\n",
       "      <th></th>\n",
       "      <th>Id</th>\n",
       "      <th>SalePrice</th>\n",
       "    </tr>\n",
       "  </thead>\n",
       "  <tbody>\n",
       "    <tr>\n",
       "      <th>0</th>\n",
       "      <td>1461</td>\n",
       "      <td>169277.052498</td>\n",
       "    </tr>\n",
       "    <tr>\n",
       "      <th>1</th>\n",
       "      <td>1462</td>\n",
       "      <td>187758.393989</td>\n",
       "    </tr>\n",
       "    <tr>\n",
       "      <th>2</th>\n",
       "      <td>1463</td>\n",
       "      <td>183583.683570</td>\n",
       "    </tr>\n",
       "    <tr>\n",
       "      <th>3</th>\n",
       "      <td>1464</td>\n",
       "      <td>179317.477511</td>\n",
       "    </tr>\n",
       "    <tr>\n",
       "      <th>4</th>\n",
       "      <td>1465</td>\n",
       "      <td>150730.079977</td>\n",
       "    </tr>\n",
       "  </tbody>\n",
       "</table>\n",
       "</div>"
      ],
      "text/plain": [
       "     Id      SalePrice\n",
       "0  1461  169277.052498\n",
       "1  1462  187758.393989\n",
       "2  1463  183583.683570\n",
       "3  1464  179317.477511\n",
       "4  1465  150730.079977"
      ]
     },
     "execution_count": 9,
     "metadata": {},
     "output_type": "execute_result"
    }
   ],
   "source": [
    "df_sample_submission.head()"
   ]
  },
  {
   "cell_type": "code",
   "execution_count": 10,
   "id": "824d19c7",
   "metadata": {
    "execution": {
     "iopub.execute_input": "2024-01-24T13:22:17.293463Z",
     "iopub.status.busy": "2024-01-24T13:22:17.293060Z",
     "iopub.status.idle": "2024-01-24T13:22:17.300346Z",
     "shell.execute_reply": "2024-01-24T13:22:17.299223Z"
    },
    "papermill": {
     "duration": 0.022425,
     "end_time": "2024-01-24T13:22:17.302622",
     "exception": false,
     "start_time": "2024-01-24T13:22:17.280197",
     "status": "completed"
    },
    "tags": []
   },
   "outputs": [
    {
     "data": {
      "text/plain": [
       "(1459, 2)"
      ]
     },
     "execution_count": 10,
     "metadata": {},
     "output_type": "execute_result"
    }
   ],
   "source": [
    "df_sample_submission.shape"
   ]
  },
  {
   "cell_type": "code",
   "execution_count": 11,
   "id": "9766462c",
   "metadata": {
    "execution": {
     "iopub.execute_input": "2024-01-24T13:22:17.326244Z",
     "iopub.status.busy": "2024-01-24T13:22:17.325866Z",
     "iopub.status.idle": "2024-01-24T13:22:17.332948Z",
     "shell.execute_reply": "2024-01-24T13:22:17.331652Z"
    },
    "papermill": {
     "duration": 0.022025,
     "end_time": "2024-01-24T13:22:17.335598",
     "exception": false,
     "start_time": "2024-01-24T13:22:17.313573",
     "status": "completed"
    },
    "tags": []
   },
   "outputs": [
    {
     "data": {
      "text/plain": [
       "Index(['Id', 'SalePrice'], dtype='object')"
      ]
     },
     "execution_count": 11,
     "metadata": {},
     "output_type": "execute_result"
    }
   ],
   "source": [
    "df_sample_submission.columns"
   ]
  },
  {
   "cell_type": "markdown",
   "id": "ef59750a",
   "metadata": {
    "papermill": {
     "duration": 0.010763,
     "end_time": "2024-01-24T13:22:17.357818",
     "exception": false,
     "start_time": "2024-01-24T13:22:17.347055",
     "status": "completed"
    },
    "tags": []
   },
   "source": [
    "# NaN Value Handling"
   ]
  },
  {
   "cell_type": "code",
   "execution_count": 12,
   "id": "2021264f",
   "metadata": {
    "execution": {
     "iopub.execute_input": "2024-01-24T13:22:17.381798Z",
     "iopub.status.busy": "2024-01-24T13:22:17.381389Z",
     "iopub.status.idle": "2024-01-24T13:22:17.398695Z",
     "shell.execute_reply": "2024-01-24T13:22:17.397551Z"
    },
    "papermill": {
     "duration": 0.032687,
     "end_time": "2024-01-24T13:22:17.401651",
     "exception": false,
     "start_time": "2024-01-24T13:22:17.368964",
     "status": "completed"
    },
    "tags": []
   },
   "outputs": [],
   "source": [
    "df_train = df_train.fillna(0)"
   ]
  },
  {
   "cell_type": "markdown",
   "id": "74d587fa",
   "metadata": {
    "papermill": {
     "duration": 0.010568,
     "end_time": "2024-01-24T13:22:17.423764",
     "exception": false,
     "start_time": "2024-01-24T13:22:17.413196",
     "status": "completed"
    },
    "tags": []
   },
   "source": [
    "# Simple Linear Regression With scikit-learn"
   ]
  },
  {
   "cell_type": "markdown",
   "id": "bc77793b",
   "metadata": {
    "papermill": {
     "duration": 0.010487,
     "end_time": "2024-01-24T13:22:17.445758",
     "exception": false,
     "start_time": "2024-01-24T13:22:17.435271",
     "status": "completed"
    },
    "tags": []
   },
   "source": [
    "## Import Linear Regression Module"
   ]
  },
  {
   "cell_type": "code",
   "execution_count": 13,
   "id": "0150b7d1",
   "metadata": {
    "execution": {
     "iopub.execute_input": "2024-01-24T13:22:17.469481Z",
     "iopub.status.busy": "2024-01-24T13:22:17.469077Z",
     "iopub.status.idle": "2024-01-24T13:22:19.017720Z",
     "shell.execute_reply": "2024-01-24T13:22:19.016363Z"
    },
    "papermill": {
     "duration": 1.563857,
     "end_time": "2024-01-24T13:22:19.020599",
     "exception": false,
     "start_time": "2024-01-24T13:22:17.456742",
     "status": "completed"
    },
    "tags": []
   },
   "outputs": [],
   "source": [
    "from sklearn.linear_model import LinearRegression"
   ]
  },
  {
   "cell_type": "markdown",
   "id": "0cbcd346",
   "metadata": {
    "papermill": {
     "duration": 0.010366,
     "end_time": "2024-01-24T13:22:19.042177",
     "exception": false,
     "start_time": "2024-01-24T13:22:19.031811",
     "status": "completed"
    },
    "tags": []
   },
   "source": [
    "## Provide the input Variables"
   ]
  },
  {
   "cell_type": "code",
   "execution_count": 14,
   "id": "e08ce487",
   "metadata": {
    "execution": {
     "iopub.execute_input": "2024-01-24T13:22:19.066094Z",
     "iopub.status.busy": "2024-01-24T13:22:19.065223Z",
     "iopub.status.idle": "2024-01-24T13:22:19.073838Z",
     "shell.execute_reply": "2024-01-24T13:22:19.072869Z"
    },
    "papermill": {
     "duration": 0.023672,
     "end_time": "2024-01-24T13:22:19.076412",
     "exception": false,
     "start_time": "2024-01-24T13:22:19.052740",
     "status": "completed"
    },
    "tags": []
   },
   "outputs": [],
   "source": [
    "x_lotArea = np.array([df_train['LotArea']]).reshape((-1, 1))\n",
    "x_lotFrontage = np.array([df_train['LotFrontage']]).reshape((-1, 1))\n",
    "x_msSubClass = np.array([df_train['MSSubClass']]).reshape((-1, 1))\n",
    "x_overallQual = np.array([df_train['OverallQual']]).reshape(-1, 1)\n",
    "x_overallCond = np.array([df_train['OverallCond']]).reshape(-1, 1)\n",
    "y_salePrice = np.array([df_sample_submission['SalePrice']]).reshape((-1, 1))"
   ]
  },
  {
   "cell_type": "markdown",
   "id": "1c4e7231",
   "metadata": {
    "papermill": {
     "duration": 0.011243,
     "end_time": "2024-01-24T13:22:19.100200",
     "exception": false,
     "start_time": "2024-01-24T13:22:19.088957",
     "status": "completed"
    },
    "tags": []
   },
   "source": [
    "## Create a Model and fit it"
   ]
  },
  {
   "cell_type": "code",
   "execution_count": 15,
   "id": "61ea303d",
   "metadata": {
    "execution": {
     "iopub.execute_input": "2024-01-24T13:22:19.123939Z",
     "iopub.status.busy": "2024-01-24T13:22:19.123058Z",
     "iopub.status.idle": "2024-01-24T13:22:19.147768Z",
     "shell.execute_reply": "2024-01-24T13:22:19.146468Z"
    },
    "papermill": {
     "duration": 0.039978,
     "end_time": "2024-01-24T13:22:19.150726",
     "exception": false,
     "start_time": "2024-01-24T13:22:19.110748",
     "status": "completed"
    },
    "tags": []
   },
   "outputs": [],
   "source": [
    "model_lotArea = LinearRegression().fit(x_lotArea, y_salePrice)\n",
    "model_lotFrontage = LinearRegression().fit(x_lotFrontage, y_salePrice)\n",
    "model_msSubClass = LinearRegression().fit(x_msSubClass, y_salePrice)\n",
    "model_overallQual = LinearRegression().fit(x_overallQual, y_salePrice)\n",
    "model_overallCond = LinearRegression().fit(x_overallCond, y_salePrice)"
   ]
  },
  {
   "cell_type": "markdown",
   "id": "0633da6e",
   "metadata": {
    "papermill": {
     "duration": 0.010416,
     "end_time": "2024-01-24T13:22:19.171761",
     "exception": false,
     "start_time": "2024-01-24T13:22:19.161345",
     "status": "completed"
    },
    "tags": []
   },
   "source": [
    "## Get results"
   ]
  },
  {
   "cell_type": "code",
   "execution_count": 16,
   "id": "d14987bd",
   "metadata": {
    "execution": {
     "iopub.execute_input": "2024-01-24T13:22:19.195439Z",
     "iopub.status.busy": "2024-01-24T13:22:19.194963Z",
     "iopub.status.idle": "2024-01-24T13:22:19.209138Z",
     "shell.execute_reply": "2024-01-24T13:22:19.207716Z"
    },
    "papermill": {
     "duration": 0.028976,
     "end_time": "2024-01-24T13:22:19.211524",
     "exception": false,
     "start_time": "2024-01-24T13:22:19.182548",
     "status": "completed"
    },
    "tags": []
   },
   "outputs": [
    {
     "name": "stdout",
     "output_type": "stream",
     "text": [
      "Input Feature: LotArea\n",
      "coefficient of determination: 0.5123629952730855\n",
      "===============================================================\n",
      "Input Feature: LotFrontage\n",
      "coefficient of determination: 0.03486342370470641\n",
      "===============================================================\n",
      "Input Feature: MSSubClass\n",
      "coefficient of determination: 0.04240173426407168\n",
      "===============================================================\n",
      "Input Feature: OverallQual\n",
      "coefficient of determination: 0.008769092824928881\n",
      "===============================================================\n",
      "Input Feature: OverallCond\n",
      "coefficient of determination: 0.007014545671814809\n",
      "===============================================================\n"
     ]
    }
   ],
   "source": [
    "r_sq_lotArea = model_lotArea.score(x_lotArea, y_salePrice)\n",
    "r_sq_lotFrontage = model_lotFrontage.score(x_lotFrontage, y_salePrice)\n",
    "r_sq_msSubClass = model_msSubClass.score(x_msSubClass, y_salePrice)\n",
    "r_sq_overallQual = model_overallQual.score(x_overallQual, y_salePrice)\n",
    "r_sq_overallCond = model_overallCond.score(x_overallCond, y_salePrice)\n",
    "\n",
    "dict_features = {'LotArea':r_sq_lotArea, 'LotFrontage':r_sq_lotFrontage, 'MSSubClass': r_sq_msSubClass, 'OverallQual':r_sq_overallQual, 'OverallCond':r_sq_overallCond}\n",
    "for feature, score in dict_features.items():\n",
    "    print(f\"Input Feature: {feature}\")\n",
    "    print(f\"coefficient of determination: {score}\")\n",
    "    print(\"===============================================================\")"
   ]
  },
  {
   "cell_type": "markdown",
   "id": "a2752a55",
   "metadata": {
    "papermill": {
     "duration": 0.01096,
     "end_time": "2024-01-24T13:22:19.234385",
     "exception": false,
     "start_time": "2024-01-24T13:22:19.223425",
     "status": "completed"
    },
    "tags": []
   },
   "source": [
    "## Predict the response"
   ]
  },
  {
   "cell_type": "code",
   "execution_count": 17,
   "id": "2b66e244",
   "metadata": {
    "execution": {
     "iopub.execute_input": "2024-01-24T13:22:19.259263Z",
     "iopub.status.busy": "2024-01-24T13:22:19.258130Z",
     "iopub.status.idle": "2024-01-24T13:22:19.269372Z",
     "shell.execute_reply": "2024-01-24T13:22:19.268236Z"
    },
    "papermill": {
     "duration": 0.026244,
     "end_time": "2024-01-24T13:22:19.271911",
     "exception": false,
     "start_time": "2024-01-24T13:22:19.245667",
     "status": "completed"
    },
    "tags": []
   },
   "outputs": [
    {
     "name": "stdout",
     "output_type": "stream",
     "text": [
      "predicted response with LotArea as input: \n",
      "[[183485.44111251]\n",
      " [189796.33655443]\n",
      " [188753.66687273]\n",
      " ...\n",
      " [203475.11295086]\n",
      " [180667.6084029 ]\n",
      " [178725.42734819]]\n",
      "predicted response with LotFrontage as input: \n",
      "[[181295.44275988]\n",
      " [181391.0310273 ]\n",
      " [180721.91315537]\n",
      " ...\n",
      " [188942.50415335]\n",
      " [179574.85394635]\n",
      " [180721.91315537]]\n",
      "predicted response with MSSubClass as input: \n",
      "[[182158.13658041]\n",
      " [182158.13658041]\n",
      " [178975.31119871]\n",
      " ...\n",
      " [182158.13658041]\n",
      " [176986.04533515]\n",
      " [178975.31119871]]\n",
      "predicted response with OverallQual as input: \n",
      "[[178022.49005643]\n",
      " [179099.06167251]\n",
      " [178022.49005643]\n",
      " ...\n",
      " [178022.49005643]\n",
      " [178022.49005643]\n",
      " [180175.6332886 ]]\n",
      "predicted response with OverallCond as input: \n",
      "[[178629.66628348]\n",
      " [178629.66628348]\n",
      " [179871.83772502]\n",
      " ...\n",
      " [177387.49484194]\n",
      " [179871.83772502]\n",
      " [179871.83772502]]\n"
     ]
    }
   ],
   "source": [
    "y_pred_lotArea = model_lotArea.predict(x_lotArea)\n",
    "y_pred_lotFrontage = model_lotFrontage.predict(x_lotFrontage)\n",
    "y_pred_msSubClass = model_msSubClass.predict(x_msSubClass)\n",
    "y_pred_overallQual = model_overallQual.predict(x_overallQual)\n",
    "y_pred_overallCond = model_overallCond.predict(x_overallCond)\n",
    "\n",
    "print(f\"predicted response with LotArea as input: \\n{y_pred_lotArea}\")\n",
    "print(f\"predicted response with LotFrontage as input: \\n{y_pred_lotFrontage}\")\n",
    "print(f\"predicted response with MSSubClass as input: \\n{y_pred_msSubClass}\")\n",
    "print(f\"predicted response with OverallQual as input: \\n{y_pred_overallQual}\")\n",
    "print(f\"predicted response with OverallCond as input: \\n{y_pred_overallCond}\")"
   ]
  }
 ],
 "metadata": {
  "kaggle": {
   "accelerator": "none",
   "dataSources": [
    {
     "datasetId": 4348542,
     "sourceId": 7470021,
     "sourceType": "datasetVersion"
    }
   ],
   "dockerImageVersionId": 30635,
   "isGpuEnabled": false,
   "isInternetEnabled": false,
   "language": "python",
   "sourceType": "notebook"
  },
  "kernelspec": {
   "display_name": "Python 3",
   "language": "python",
   "name": "python3"
  },
  "language_info": {
   "codemirror_mode": {
    "name": "ipython",
    "version": 3
   },
   "file_extension": ".py",
   "mimetype": "text/x-python",
   "name": "python",
   "nbconvert_exporter": "python",
   "pygments_lexer": "ipython3",
   "version": "3.10.12"
  },
  "papermill": {
   "default_parameters": {},
   "duration": 7.407231,
   "end_time": "2024-01-24T13:22:20.005392",
   "environment_variables": {},
   "exception": null,
   "input_path": "__notebook__.ipynb",
   "output_path": "__notebook__.ipynb",
   "parameters": {},
   "start_time": "2024-01-24T13:22:12.598161",
   "version": "2.4.0"
  }
 },
 "nbformat": 4,
 "nbformat_minor": 5
}

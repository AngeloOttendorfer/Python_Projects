{
 "cells": [
  {
   "cell_type": "code",
   "execution_count": 1,
   "id": "43ed4f42",
   "metadata": {
    "_cell_guid": "b1076dfc-b9ad-4769-8c92-a6c4dae69d19",
    "_uuid": "8f2839f25d086af736a60e9eeb907d3b93b6e0e5",
    "execution": {
     "iopub.execute_input": "2024-02-05T14:18:31.322559Z",
     "iopub.status.busy": "2024-02-05T14:18:31.321574Z",
     "iopub.status.idle": "2024-02-05T14:18:32.435923Z",
     "shell.execute_reply": "2024-02-05T14:18:32.434675Z"
    },
    "papermill": {
     "duration": 1.148716,
     "end_time": "2024-02-05T14:18:32.439895",
     "exception": false,
     "start_time": "2024-02-05T14:18:31.291179",
     "status": "completed"
    },
    "tags": []
   },
   "outputs": [
    {
     "name": "stdout",
     "output_type": "stream",
     "text": [
      "/kaggle/input/house-prices-prediction/sample_submission.csv\n",
      "/kaggle/input/house-prices-prediction/data_description.txt\n",
      "/kaggle/input/house-prices-prediction/train.csv\n",
      "/kaggle/input/house-prices-prediction/test.csv\n"
     ]
    }
   ],
   "source": [
    "# This Python 3 environment comes with many helpful analytics libraries installed\n",
    "# It is defined by the kaggle/python Docker image: https://github.com/kaggle/docker-python\n",
    "# For example, here's several helpful packages to load\n",
    "\n",
    "import numpy as np # linear algebra\n",
    "import pandas as pd # data processing, CSV file I/O (e.g. pd.read_csv)\n",
    "\n",
    "# Input data files are available in the read-only \"../input/\" directory\n",
    "# For example, running this (by clicking run or pressing Shift+Enter) will list all files under the input directory\n",
    "\n",
    "import os\n",
    "for dirname, _, filenames in os.walk('/kaggle/input'):\n",
    "    for filename in filenames:\n",
    "        print(os.path.join(dirname, filename))\n",
    "\n",
    "# You can write up to 20GB to the current directory (/kaggle/working/) that gets preserved as output when you create a version using \"Save & Run All\" \n",
    "# You can also write temporary files to /kaggle/temp/, but they won't be saved outside of the current session"
   ]
  },
  {
   "cell_type": "markdown",
   "id": "cf7707a3",
   "metadata": {
    "papermill": {
     "duration": 0.022706,
     "end_time": "2024-02-05T14:18:32.492102",
     "exception": false,
     "start_time": "2024-02-05T14:18:32.469396",
     "status": "completed"
    },
    "tags": []
   },
   "source": [
    "# Create a Dataframe containing the data set"
   ]
  },
  {
   "cell_type": "code",
   "execution_count": 2,
   "id": "622793ec",
   "metadata": {
    "execution": {
     "iopub.execute_input": "2024-02-05T14:18:32.551471Z",
     "iopub.status.busy": "2024-02-05T14:18:32.550071Z",
     "iopub.status.idle": "2024-02-05T14:18:32.652876Z",
     "shell.execute_reply": "2024-02-05T14:18:32.651122Z"
    },
    "papermill": {
     "duration": 0.139241,
     "end_time": "2024-02-05T14:18:32.656640",
     "exception": false,
     "start_time": "2024-02-05T14:18:32.517399",
     "status": "completed"
    },
    "tags": []
   },
   "outputs": [],
   "source": [
    "df_train = pd.read_csv('/kaggle/input/house-prices-prediction/test.csv')\n",
    "df_test = pd.read_csv('/kaggle/input/house-prices-prediction/test.csv')\n",
    "df_sample_submission = pd.read_csv('/kaggle/input/house-prices-prediction/sample_submission.csv')"
   ]
  },
  {
   "cell_type": "markdown",
   "id": "57e0f98b",
   "metadata": {
    "papermill": {
     "duration": 0.022858,
     "end_time": "2024-02-05T14:18:32.702657",
     "exception": false,
     "start_time": "2024-02-05T14:18:32.679799",
     "status": "completed"
    },
    "tags": []
   },
   "source": [
    "# Look up the Train Dataset"
   ]
  },
  {
   "cell_type": "code",
   "execution_count": 3,
   "id": "83e2ae3b",
   "metadata": {
    "execution": {
     "iopub.execute_input": "2024-02-05T14:18:32.752672Z",
     "iopub.status.busy": "2024-02-05T14:18:32.752266Z",
     "iopub.status.idle": "2024-02-05T14:18:32.799330Z",
     "shell.execute_reply": "2024-02-05T14:18:32.797964Z"
    },
    "papermill": {
     "duration": 0.076411,
     "end_time": "2024-02-05T14:18:32.802251",
     "exception": false,
     "start_time": "2024-02-05T14:18:32.725840",
     "status": "completed"
    },
    "tags": []
   },
   "outputs": [
    {
     "data": {
      "text/html": [
       "<div>\n",
       "<style scoped>\n",
       "    .dataframe tbody tr th:only-of-type {\n",
       "        vertical-align: middle;\n",
       "    }\n",
       "\n",
       "    .dataframe tbody tr th {\n",
       "        vertical-align: top;\n",
       "    }\n",
       "\n",
       "    .dataframe thead th {\n",
       "        text-align: right;\n",
       "    }\n",
       "</style>\n",
       "<table border=\"1\" class=\"dataframe\">\n",
       "  <thead>\n",
       "    <tr style=\"text-align: right;\">\n",
       "      <th></th>\n",
       "      <th>Id</th>\n",
       "      <th>MSSubClass</th>\n",
       "      <th>MSZoning</th>\n",
       "      <th>LotFrontage</th>\n",
       "      <th>LotArea</th>\n",
       "      <th>Street</th>\n",
       "      <th>Alley</th>\n",
       "      <th>LotShape</th>\n",
       "      <th>LandContour</th>\n",
       "      <th>Utilities</th>\n",
       "      <th>...</th>\n",
       "      <th>ScreenPorch</th>\n",
       "      <th>PoolArea</th>\n",
       "      <th>PoolQC</th>\n",
       "      <th>Fence</th>\n",
       "      <th>MiscFeature</th>\n",
       "      <th>MiscVal</th>\n",
       "      <th>MoSold</th>\n",
       "      <th>YrSold</th>\n",
       "      <th>SaleType</th>\n",
       "      <th>SaleCondition</th>\n",
       "    </tr>\n",
       "  </thead>\n",
       "  <tbody>\n",
       "    <tr>\n",
       "      <th>0</th>\n",
       "      <td>1461</td>\n",
       "      <td>20</td>\n",
       "      <td>RH</td>\n",
       "      <td>80.0</td>\n",
       "      <td>11622</td>\n",
       "      <td>Pave</td>\n",
       "      <td>NaN</td>\n",
       "      <td>Reg</td>\n",
       "      <td>Lvl</td>\n",
       "      <td>AllPub</td>\n",
       "      <td>...</td>\n",
       "      <td>120</td>\n",
       "      <td>0</td>\n",
       "      <td>NaN</td>\n",
       "      <td>MnPrv</td>\n",
       "      <td>NaN</td>\n",
       "      <td>0</td>\n",
       "      <td>6</td>\n",
       "      <td>2010</td>\n",
       "      <td>WD</td>\n",
       "      <td>Normal</td>\n",
       "    </tr>\n",
       "    <tr>\n",
       "      <th>1</th>\n",
       "      <td>1462</td>\n",
       "      <td>20</td>\n",
       "      <td>RL</td>\n",
       "      <td>81.0</td>\n",
       "      <td>14267</td>\n",
       "      <td>Pave</td>\n",
       "      <td>NaN</td>\n",
       "      <td>IR1</td>\n",
       "      <td>Lvl</td>\n",
       "      <td>AllPub</td>\n",
       "      <td>...</td>\n",
       "      <td>0</td>\n",
       "      <td>0</td>\n",
       "      <td>NaN</td>\n",
       "      <td>NaN</td>\n",
       "      <td>Gar2</td>\n",
       "      <td>12500</td>\n",
       "      <td>6</td>\n",
       "      <td>2010</td>\n",
       "      <td>WD</td>\n",
       "      <td>Normal</td>\n",
       "    </tr>\n",
       "    <tr>\n",
       "      <th>2</th>\n",
       "      <td>1463</td>\n",
       "      <td>60</td>\n",
       "      <td>RL</td>\n",
       "      <td>74.0</td>\n",
       "      <td>13830</td>\n",
       "      <td>Pave</td>\n",
       "      <td>NaN</td>\n",
       "      <td>IR1</td>\n",
       "      <td>Lvl</td>\n",
       "      <td>AllPub</td>\n",
       "      <td>...</td>\n",
       "      <td>0</td>\n",
       "      <td>0</td>\n",
       "      <td>NaN</td>\n",
       "      <td>MnPrv</td>\n",
       "      <td>NaN</td>\n",
       "      <td>0</td>\n",
       "      <td>3</td>\n",
       "      <td>2010</td>\n",
       "      <td>WD</td>\n",
       "      <td>Normal</td>\n",
       "    </tr>\n",
       "    <tr>\n",
       "      <th>3</th>\n",
       "      <td>1464</td>\n",
       "      <td>60</td>\n",
       "      <td>RL</td>\n",
       "      <td>78.0</td>\n",
       "      <td>9978</td>\n",
       "      <td>Pave</td>\n",
       "      <td>NaN</td>\n",
       "      <td>IR1</td>\n",
       "      <td>Lvl</td>\n",
       "      <td>AllPub</td>\n",
       "      <td>...</td>\n",
       "      <td>0</td>\n",
       "      <td>0</td>\n",
       "      <td>NaN</td>\n",
       "      <td>NaN</td>\n",
       "      <td>NaN</td>\n",
       "      <td>0</td>\n",
       "      <td>6</td>\n",
       "      <td>2010</td>\n",
       "      <td>WD</td>\n",
       "      <td>Normal</td>\n",
       "    </tr>\n",
       "    <tr>\n",
       "      <th>4</th>\n",
       "      <td>1465</td>\n",
       "      <td>120</td>\n",
       "      <td>RL</td>\n",
       "      <td>43.0</td>\n",
       "      <td>5005</td>\n",
       "      <td>Pave</td>\n",
       "      <td>NaN</td>\n",
       "      <td>IR1</td>\n",
       "      <td>HLS</td>\n",
       "      <td>AllPub</td>\n",
       "      <td>...</td>\n",
       "      <td>144</td>\n",
       "      <td>0</td>\n",
       "      <td>NaN</td>\n",
       "      <td>NaN</td>\n",
       "      <td>NaN</td>\n",
       "      <td>0</td>\n",
       "      <td>1</td>\n",
       "      <td>2010</td>\n",
       "      <td>WD</td>\n",
       "      <td>Normal</td>\n",
       "    </tr>\n",
       "  </tbody>\n",
       "</table>\n",
       "<p>5 rows × 80 columns</p>\n",
       "</div>"
      ],
      "text/plain": [
       "     Id  MSSubClass MSZoning  LotFrontage  LotArea Street Alley LotShape  \\\n",
       "0  1461          20       RH         80.0    11622   Pave   NaN      Reg   \n",
       "1  1462          20       RL         81.0    14267   Pave   NaN      IR1   \n",
       "2  1463          60       RL         74.0    13830   Pave   NaN      IR1   \n",
       "3  1464          60       RL         78.0     9978   Pave   NaN      IR1   \n",
       "4  1465         120       RL         43.0     5005   Pave   NaN      IR1   \n",
       "\n",
       "  LandContour Utilities  ... ScreenPorch PoolArea PoolQC  Fence MiscFeature  \\\n",
       "0         Lvl    AllPub  ...         120        0    NaN  MnPrv         NaN   \n",
       "1         Lvl    AllPub  ...           0        0    NaN    NaN        Gar2   \n",
       "2         Lvl    AllPub  ...           0        0    NaN  MnPrv         NaN   \n",
       "3         Lvl    AllPub  ...           0        0    NaN    NaN         NaN   \n",
       "4         HLS    AllPub  ...         144        0    NaN    NaN         NaN   \n",
       "\n",
       "  MiscVal MoSold  YrSold  SaleType  SaleCondition  \n",
       "0       0      6    2010        WD         Normal  \n",
       "1   12500      6    2010        WD         Normal  \n",
       "2       0      3    2010        WD         Normal  \n",
       "3       0      6    2010        WD         Normal  \n",
       "4       0      1    2010        WD         Normal  \n",
       "\n",
       "[5 rows x 80 columns]"
      ]
     },
     "execution_count": 3,
     "metadata": {},
     "output_type": "execute_result"
    }
   ],
   "source": [
    "df_train.head()"
   ]
  },
  {
   "cell_type": "code",
   "execution_count": 4,
   "id": "dc2b027b",
   "metadata": {
    "execution": {
     "iopub.execute_input": "2024-02-05T14:18:32.850694Z",
     "iopub.status.busy": "2024-02-05T14:18:32.850297Z",
     "iopub.status.idle": "2024-02-05T14:18:32.858815Z",
     "shell.execute_reply": "2024-02-05T14:18:32.857516Z"
    },
    "papermill": {
     "duration": 0.036072,
     "end_time": "2024-02-05T14:18:32.861565",
     "exception": false,
     "start_time": "2024-02-05T14:18:32.825493",
     "status": "completed"
    },
    "tags": []
   },
   "outputs": [
    {
     "data": {
      "text/plain": [
       "(1459, 80)"
      ]
     },
     "execution_count": 4,
     "metadata": {},
     "output_type": "execute_result"
    }
   ],
   "source": [
    "df_train.shape"
   ]
  },
  {
   "cell_type": "code",
   "execution_count": 5,
   "id": "c11ee2d0",
   "metadata": {
    "execution": {
     "iopub.execute_input": "2024-02-05T14:18:32.912160Z",
     "iopub.status.busy": "2024-02-05T14:18:32.911727Z",
     "iopub.status.idle": "2024-02-05T14:18:32.920944Z",
     "shell.execute_reply": "2024-02-05T14:18:32.919577Z"
    },
    "papermill": {
     "duration": 0.037626,
     "end_time": "2024-02-05T14:18:32.923558",
     "exception": false,
     "start_time": "2024-02-05T14:18:32.885932",
     "status": "completed"
    },
    "tags": []
   },
   "outputs": [
    {
     "data": {
      "text/plain": [
       "Index(['Id', 'MSSubClass', 'MSZoning', 'LotFrontage', 'LotArea', 'Street',\n",
       "       'Alley', 'LotShape', 'LandContour', 'Utilities', 'LotConfig',\n",
       "       'LandSlope', 'Neighborhood', 'Condition1', 'Condition2', 'BldgType',\n",
       "       'HouseStyle', 'OverallQual', 'OverallCond', 'YearBuilt', 'YearRemodAdd',\n",
       "       'RoofStyle', 'RoofMatl', 'Exterior1st', 'Exterior2nd', 'MasVnrType',\n",
       "       'MasVnrArea', 'ExterQual', 'ExterCond', 'Foundation', 'BsmtQual',\n",
       "       'BsmtCond', 'BsmtExposure', 'BsmtFinType1', 'BsmtFinSF1',\n",
       "       'BsmtFinType2', 'BsmtFinSF2', 'BsmtUnfSF', 'TotalBsmtSF', 'Heating',\n",
       "       'HeatingQC', 'CentralAir', 'Electrical', '1stFlrSF', '2ndFlrSF',\n",
       "       'LowQualFinSF', 'GrLivArea', 'BsmtFullBath', 'BsmtHalfBath', 'FullBath',\n",
       "       'HalfBath', 'BedroomAbvGr', 'KitchenAbvGr', 'KitchenQual',\n",
       "       'TotRmsAbvGrd', 'Functional', 'Fireplaces', 'FireplaceQu', 'GarageType',\n",
       "       'GarageYrBlt', 'GarageFinish', 'GarageCars', 'GarageArea', 'GarageQual',\n",
       "       'GarageCond', 'PavedDrive', 'WoodDeckSF', 'OpenPorchSF',\n",
       "       'EnclosedPorch', '3SsnPorch', 'ScreenPorch', 'PoolArea', 'PoolQC',\n",
       "       'Fence', 'MiscFeature', 'MiscVal', 'MoSold', 'YrSold', 'SaleType',\n",
       "       'SaleCondition'],\n",
       "      dtype='object')"
      ]
     },
     "execution_count": 5,
     "metadata": {},
     "output_type": "execute_result"
    }
   ],
   "source": [
    "df_train.columns"
   ]
  },
  {
   "cell_type": "markdown",
   "id": "1bc8ea6f",
   "metadata": {
    "papermill": {
     "duration": 0.123305,
     "end_time": "2024-02-05T14:18:33.070549",
     "exception": false,
     "start_time": "2024-02-05T14:18:32.947244",
     "status": "completed"
    },
    "tags": []
   },
   "source": [
    "# Look up the Test Dataset"
   ]
  },
  {
   "cell_type": "code",
   "execution_count": 6,
   "id": "14edb6f8",
   "metadata": {
    "execution": {
     "iopub.execute_input": "2024-02-05T14:18:33.121612Z",
     "iopub.status.busy": "2024-02-05T14:18:33.121100Z",
     "iopub.status.idle": "2024-02-05T14:18:33.148590Z",
     "shell.execute_reply": "2024-02-05T14:18:33.147164Z"
    },
    "papermill": {
     "duration": 0.056239,
     "end_time": "2024-02-05T14:18:33.151508",
     "exception": false,
     "start_time": "2024-02-05T14:18:33.095269",
     "status": "completed"
    },
    "tags": []
   },
   "outputs": [
    {
     "data": {
      "text/html": [
       "<div>\n",
       "<style scoped>\n",
       "    .dataframe tbody tr th:only-of-type {\n",
       "        vertical-align: middle;\n",
       "    }\n",
       "\n",
       "    .dataframe tbody tr th {\n",
       "        vertical-align: top;\n",
       "    }\n",
       "\n",
       "    .dataframe thead th {\n",
       "        text-align: right;\n",
       "    }\n",
       "</style>\n",
       "<table border=\"1\" class=\"dataframe\">\n",
       "  <thead>\n",
       "    <tr style=\"text-align: right;\">\n",
       "      <th></th>\n",
       "      <th>Id</th>\n",
       "      <th>MSSubClass</th>\n",
       "      <th>MSZoning</th>\n",
       "      <th>LotFrontage</th>\n",
       "      <th>LotArea</th>\n",
       "      <th>Street</th>\n",
       "      <th>Alley</th>\n",
       "      <th>LotShape</th>\n",
       "      <th>LandContour</th>\n",
       "      <th>Utilities</th>\n",
       "      <th>...</th>\n",
       "      <th>ScreenPorch</th>\n",
       "      <th>PoolArea</th>\n",
       "      <th>PoolQC</th>\n",
       "      <th>Fence</th>\n",
       "      <th>MiscFeature</th>\n",
       "      <th>MiscVal</th>\n",
       "      <th>MoSold</th>\n",
       "      <th>YrSold</th>\n",
       "      <th>SaleType</th>\n",
       "      <th>SaleCondition</th>\n",
       "    </tr>\n",
       "  </thead>\n",
       "  <tbody>\n",
       "    <tr>\n",
       "      <th>0</th>\n",
       "      <td>1461</td>\n",
       "      <td>20</td>\n",
       "      <td>RH</td>\n",
       "      <td>80.0</td>\n",
       "      <td>11622</td>\n",
       "      <td>Pave</td>\n",
       "      <td>NaN</td>\n",
       "      <td>Reg</td>\n",
       "      <td>Lvl</td>\n",
       "      <td>AllPub</td>\n",
       "      <td>...</td>\n",
       "      <td>120</td>\n",
       "      <td>0</td>\n",
       "      <td>NaN</td>\n",
       "      <td>MnPrv</td>\n",
       "      <td>NaN</td>\n",
       "      <td>0</td>\n",
       "      <td>6</td>\n",
       "      <td>2010</td>\n",
       "      <td>WD</td>\n",
       "      <td>Normal</td>\n",
       "    </tr>\n",
       "    <tr>\n",
       "      <th>1</th>\n",
       "      <td>1462</td>\n",
       "      <td>20</td>\n",
       "      <td>RL</td>\n",
       "      <td>81.0</td>\n",
       "      <td>14267</td>\n",
       "      <td>Pave</td>\n",
       "      <td>NaN</td>\n",
       "      <td>IR1</td>\n",
       "      <td>Lvl</td>\n",
       "      <td>AllPub</td>\n",
       "      <td>...</td>\n",
       "      <td>0</td>\n",
       "      <td>0</td>\n",
       "      <td>NaN</td>\n",
       "      <td>NaN</td>\n",
       "      <td>Gar2</td>\n",
       "      <td>12500</td>\n",
       "      <td>6</td>\n",
       "      <td>2010</td>\n",
       "      <td>WD</td>\n",
       "      <td>Normal</td>\n",
       "    </tr>\n",
       "    <tr>\n",
       "      <th>2</th>\n",
       "      <td>1463</td>\n",
       "      <td>60</td>\n",
       "      <td>RL</td>\n",
       "      <td>74.0</td>\n",
       "      <td>13830</td>\n",
       "      <td>Pave</td>\n",
       "      <td>NaN</td>\n",
       "      <td>IR1</td>\n",
       "      <td>Lvl</td>\n",
       "      <td>AllPub</td>\n",
       "      <td>...</td>\n",
       "      <td>0</td>\n",
       "      <td>0</td>\n",
       "      <td>NaN</td>\n",
       "      <td>MnPrv</td>\n",
       "      <td>NaN</td>\n",
       "      <td>0</td>\n",
       "      <td>3</td>\n",
       "      <td>2010</td>\n",
       "      <td>WD</td>\n",
       "      <td>Normal</td>\n",
       "    </tr>\n",
       "    <tr>\n",
       "      <th>3</th>\n",
       "      <td>1464</td>\n",
       "      <td>60</td>\n",
       "      <td>RL</td>\n",
       "      <td>78.0</td>\n",
       "      <td>9978</td>\n",
       "      <td>Pave</td>\n",
       "      <td>NaN</td>\n",
       "      <td>IR1</td>\n",
       "      <td>Lvl</td>\n",
       "      <td>AllPub</td>\n",
       "      <td>...</td>\n",
       "      <td>0</td>\n",
       "      <td>0</td>\n",
       "      <td>NaN</td>\n",
       "      <td>NaN</td>\n",
       "      <td>NaN</td>\n",
       "      <td>0</td>\n",
       "      <td>6</td>\n",
       "      <td>2010</td>\n",
       "      <td>WD</td>\n",
       "      <td>Normal</td>\n",
       "    </tr>\n",
       "    <tr>\n",
       "      <th>4</th>\n",
       "      <td>1465</td>\n",
       "      <td>120</td>\n",
       "      <td>RL</td>\n",
       "      <td>43.0</td>\n",
       "      <td>5005</td>\n",
       "      <td>Pave</td>\n",
       "      <td>NaN</td>\n",
       "      <td>IR1</td>\n",
       "      <td>HLS</td>\n",
       "      <td>AllPub</td>\n",
       "      <td>...</td>\n",
       "      <td>144</td>\n",
       "      <td>0</td>\n",
       "      <td>NaN</td>\n",
       "      <td>NaN</td>\n",
       "      <td>NaN</td>\n",
       "      <td>0</td>\n",
       "      <td>1</td>\n",
       "      <td>2010</td>\n",
       "      <td>WD</td>\n",
       "      <td>Normal</td>\n",
       "    </tr>\n",
       "  </tbody>\n",
       "</table>\n",
       "<p>5 rows × 80 columns</p>\n",
       "</div>"
      ],
      "text/plain": [
       "     Id  MSSubClass MSZoning  LotFrontage  LotArea Street Alley LotShape  \\\n",
       "0  1461          20       RH         80.0    11622   Pave   NaN      Reg   \n",
       "1  1462          20       RL         81.0    14267   Pave   NaN      IR1   \n",
       "2  1463          60       RL         74.0    13830   Pave   NaN      IR1   \n",
       "3  1464          60       RL         78.0     9978   Pave   NaN      IR1   \n",
       "4  1465         120       RL         43.0     5005   Pave   NaN      IR1   \n",
       "\n",
       "  LandContour Utilities  ... ScreenPorch PoolArea PoolQC  Fence MiscFeature  \\\n",
       "0         Lvl    AllPub  ...         120        0    NaN  MnPrv         NaN   \n",
       "1         Lvl    AllPub  ...           0        0    NaN    NaN        Gar2   \n",
       "2         Lvl    AllPub  ...           0        0    NaN  MnPrv         NaN   \n",
       "3         Lvl    AllPub  ...           0        0    NaN    NaN         NaN   \n",
       "4         HLS    AllPub  ...         144        0    NaN    NaN         NaN   \n",
       "\n",
       "  MiscVal MoSold  YrSold  SaleType  SaleCondition  \n",
       "0       0      6    2010        WD         Normal  \n",
       "1   12500      6    2010        WD         Normal  \n",
       "2       0      3    2010        WD         Normal  \n",
       "3       0      6    2010        WD         Normal  \n",
       "4       0      1    2010        WD         Normal  \n",
       "\n",
       "[5 rows x 80 columns]"
      ]
     },
     "execution_count": 6,
     "metadata": {},
     "output_type": "execute_result"
    }
   ],
   "source": [
    "df_test.head()"
   ]
  },
  {
   "cell_type": "code",
   "execution_count": 7,
   "id": "f1d5b07a",
   "metadata": {
    "execution": {
     "iopub.execute_input": "2024-02-05T14:18:33.202386Z",
     "iopub.status.busy": "2024-02-05T14:18:33.201961Z",
     "iopub.status.idle": "2024-02-05T14:18:33.209997Z",
     "shell.execute_reply": "2024-02-05T14:18:33.208563Z"
    },
    "papermill": {
     "duration": 0.036811,
     "end_time": "2024-02-05T14:18:33.212798",
     "exception": false,
     "start_time": "2024-02-05T14:18:33.175987",
     "status": "completed"
    },
    "tags": []
   },
   "outputs": [
    {
     "data": {
      "text/plain": [
       "(1459, 80)"
      ]
     },
     "execution_count": 7,
     "metadata": {},
     "output_type": "execute_result"
    }
   ],
   "source": [
    "df_test.shape"
   ]
  },
  {
   "cell_type": "code",
   "execution_count": 8,
   "id": "d142011c",
   "metadata": {
    "execution": {
     "iopub.execute_input": "2024-02-05T14:18:33.266818Z",
     "iopub.status.busy": "2024-02-05T14:18:33.265335Z",
     "iopub.status.idle": "2024-02-05T14:18:33.274955Z",
     "shell.execute_reply": "2024-02-05T14:18:33.273481Z"
    },
    "papermill": {
     "duration": 0.038751,
     "end_time": "2024-02-05T14:18:33.277693",
     "exception": false,
     "start_time": "2024-02-05T14:18:33.238942",
     "status": "completed"
    },
    "tags": []
   },
   "outputs": [
    {
     "data": {
      "text/plain": [
       "Index(['Id', 'MSSubClass', 'MSZoning', 'LotFrontage', 'LotArea', 'Street',\n",
       "       'Alley', 'LotShape', 'LandContour', 'Utilities', 'LotConfig',\n",
       "       'LandSlope', 'Neighborhood', 'Condition1', 'Condition2', 'BldgType',\n",
       "       'HouseStyle', 'OverallQual', 'OverallCond', 'YearBuilt', 'YearRemodAdd',\n",
       "       'RoofStyle', 'RoofMatl', 'Exterior1st', 'Exterior2nd', 'MasVnrType',\n",
       "       'MasVnrArea', 'ExterQual', 'ExterCond', 'Foundation', 'BsmtQual',\n",
       "       'BsmtCond', 'BsmtExposure', 'BsmtFinType1', 'BsmtFinSF1',\n",
       "       'BsmtFinType2', 'BsmtFinSF2', 'BsmtUnfSF', 'TotalBsmtSF', 'Heating',\n",
       "       'HeatingQC', 'CentralAir', 'Electrical', '1stFlrSF', '2ndFlrSF',\n",
       "       'LowQualFinSF', 'GrLivArea', 'BsmtFullBath', 'BsmtHalfBath', 'FullBath',\n",
       "       'HalfBath', 'BedroomAbvGr', 'KitchenAbvGr', 'KitchenQual',\n",
       "       'TotRmsAbvGrd', 'Functional', 'Fireplaces', 'FireplaceQu', 'GarageType',\n",
       "       'GarageYrBlt', 'GarageFinish', 'GarageCars', 'GarageArea', 'GarageQual',\n",
       "       'GarageCond', 'PavedDrive', 'WoodDeckSF', 'OpenPorchSF',\n",
       "       'EnclosedPorch', '3SsnPorch', 'ScreenPorch', 'PoolArea', 'PoolQC',\n",
       "       'Fence', 'MiscFeature', 'MiscVal', 'MoSold', 'YrSold', 'SaleType',\n",
       "       'SaleCondition'],\n",
       "      dtype='object')"
      ]
     },
     "execution_count": 8,
     "metadata": {},
     "output_type": "execute_result"
    }
   ],
   "source": [
    "df_test.columns"
   ]
  },
  {
   "cell_type": "markdown",
   "id": "ed9676f4",
   "metadata": {
    "papermill": {
     "duration": 0.024147,
     "end_time": "2024-02-05T14:18:33.327951",
     "exception": false,
     "start_time": "2024-02-05T14:18:33.303804",
     "status": "completed"
    },
    "tags": []
   },
   "source": [
    "# Look up the sample submission containing the predicting value"
   ]
  },
  {
   "cell_type": "code",
   "execution_count": 9,
   "id": "ee5191c5",
   "metadata": {
    "execution": {
     "iopub.execute_input": "2024-02-05T14:18:33.380676Z",
     "iopub.status.busy": "2024-02-05T14:18:33.380123Z",
     "iopub.status.idle": "2024-02-05T14:18:33.392646Z",
     "shell.execute_reply": "2024-02-05T14:18:33.391450Z"
    },
    "papermill": {
     "duration": 0.042491,
     "end_time": "2024-02-05T14:18:33.395809",
     "exception": false,
     "start_time": "2024-02-05T14:18:33.353318",
     "status": "completed"
    },
    "tags": []
   },
   "outputs": [
    {
     "data": {
      "text/html": [
       "<div>\n",
       "<style scoped>\n",
       "    .dataframe tbody tr th:only-of-type {\n",
       "        vertical-align: middle;\n",
       "    }\n",
       "\n",
       "    .dataframe tbody tr th {\n",
       "        vertical-align: top;\n",
       "    }\n",
       "\n",
       "    .dataframe thead th {\n",
       "        text-align: right;\n",
       "    }\n",
       "</style>\n",
       "<table border=\"1\" class=\"dataframe\">\n",
       "  <thead>\n",
       "    <tr style=\"text-align: right;\">\n",
       "      <th></th>\n",
       "      <th>Id</th>\n",
       "      <th>SalePrice</th>\n",
       "    </tr>\n",
       "  </thead>\n",
       "  <tbody>\n",
       "    <tr>\n",
       "      <th>0</th>\n",
       "      <td>1461</td>\n",
       "      <td>169277.052498</td>\n",
       "    </tr>\n",
       "    <tr>\n",
       "      <th>1</th>\n",
       "      <td>1462</td>\n",
       "      <td>187758.393989</td>\n",
       "    </tr>\n",
       "    <tr>\n",
       "      <th>2</th>\n",
       "      <td>1463</td>\n",
       "      <td>183583.683570</td>\n",
       "    </tr>\n",
       "    <tr>\n",
       "      <th>3</th>\n",
       "      <td>1464</td>\n",
       "      <td>179317.477511</td>\n",
       "    </tr>\n",
       "    <tr>\n",
       "      <th>4</th>\n",
       "      <td>1465</td>\n",
       "      <td>150730.079977</td>\n",
       "    </tr>\n",
       "  </tbody>\n",
       "</table>\n",
       "</div>"
      ],
      "text/plain": [
       "     Id      SalePrice\n",
       "0  1461  169277.052498\n",
       "1  1462  187758.393989\n",
       "2  1463  183583.683570\n",
       "3  1464  179317.477511\n",
       "4  1465  150730.079977"
      ]
     },
     "execution_count": 9,
     "metadata": {},
     "output_type": "execute_result"
    }
   ],
   "source": [
    "df_sample_submission.head()"
   ]
  },
  {
   "cell_type": "code",
   "execution_count": 10,
   "id": "3b6ac9d7",
   "metadata": {
    "execution": {
     "iopub.execute_input": "2024-02-05T14:18:33.447753Z",
     "iopub.status.busy": "2024-02-05T14:18:33.447335Z",
     "iopub.status.idle": "2024-02-05T14:18:33.454940Z",
     "shell.execute_reply": "2024-02-05T14:18:33.453677Z"
    },
    "papermill": {
     "duration": 0.037228,
     "end_time": "2024-02-05T14:18:33.457820",
     "exception": false,
     "start_time": "2024-02-05T14:18:33.420592",
     "status": "completed"
    },
    "tags": []
   },
   "outputs": [
    {
     "data": {
      "text/plain": [
       "(1459, 2)"
      ]
     },
     "execution_count": 10,
     "metadata": {},
     "output_type": "execute_result"
    }
   ],
   "source": [
    "df_sample_submission.shape"
   ]
  },
  {
   "cell_type": "code",
   "execution_count": 11,
   "id": "75aa6037",
   "metadata": {
    "execution": {
     "iopub.execute_input": "2024-02-05T14:18:33.511799Z",
     "iopub.status.busy": "2024-02-05T14:18:33.510669Z",
     "iopub.status.idle": "2024-02-05T14:18:33.519795Z",
     "shell.execute_reply": "2024-02-05T14:18:33.518486Z"
    },
    "papermill": {
     "duration": 0.038774,
     "end_time": "2024-02-05T14:18:33.522385",
     "exception": false,
     "start_time": "2024-02-05T14:18:33.483611",
     "status": "completed"
    },
    "tags": []
   },
   "outputs": [
    {
     "data": {
      "text/plain": [
       "Index(['Id', 'SalePrice'], dtype='object')"
      ]
     },
     "execution_count": 11,
     "metadata": {},
     "output_type": "execute_result"
    }
   ],
   "source": [
    "df_sample_submission.columns"
   ]
  },
  {
   "cell_type": "markdown",
   "id": "de1416cf",
   "metadata": {
    "papermill": {
     "duration": 0.024381,
     "end_time": "2024-02-05T14:18:33.573166",
     "exception": false,
     "start_time": "2024-02-05T14:18:33.548785",
     "status": "completed"
    },
    "tags": []
   },
   "source": [
    "# NaN Value Handling"
   ]
  },
  {
   "cell_type": "code",
   "execution_count": 12,
   "id": "62a1abb0",
   "metadata": {
    "execution": {
     "iopub.execute_input": "2024-02-05T14:18:33.625496Z",
     "iopub.status.busy": "2024-02-05T14:18:33.625023Z",
     "iopub.status.idle": "2024-02-05T14:18:33.642441Z",
     "shell.execute_reply": "2024-02-05T14:18:33.641129Z"
    },
    "papermill": {
     "duration": 0.047537,
     "end_time": "2024-02-05T14:18:33.645677",
     "exception": false,
     "start_time": "2024-02-05T14:18:33.598140",
     "status": "completed"
    },
    "tags": []
   },
   "outputs": [],
   "source": [
    "df_train = df_train.fillna(0)"
   ]
  },
  {
   "cell_type": "markdown",
   "id": "6d14585e",
   "metadata": {
    "papermill": {
     "duration": 0.024234,
     "end_time": "2024-02-05T14:18:33.694904",
     "exception": false,
     "start_time": "2024-02-05T14:18:33.670670",
     "status": "completed"
    },
    "tags": []
   },
   "source": [
    "# Simple Linear Regression With scikit-learn"
   ]
  },
  {
   "cell_type": "markdown",
   "id": "809ef8d9",
   "metadata": {
    "papermill": {
     "duration": 0.024161,
     "end_time": "2024-02-05T14:18:33.744449",
     "exception": false,
     "start_time": "2024-02-05T14:18:33.720288",
     "status": "completed"
    },
    "tags": []
   },
   "source": [
    "## Import Linear Regression Module"
   ]
  },
  {
   "cell_type": "code",
   "execution_count": 13,
   "id": "06f2d557",
   "metadata": {
    "execution": {
     "iopub.execute_input": "2024-02-05T14:18:33.798869Z",
     "iopub.status.busy": "2024-02-05T14:18:33.798376Z",
     "iopub.status.idle": "2024-02-05T14:18:35.574207Z",
     "shell.execute_reply": "2024-02-05T14:18:35.572804Z"
    },
    "papermill": {
     "duration": 1.807132,
     "end_time": "2024-02-05T14:18:35.577328",
     "exception": false,
     "start_time": "2024-02-05T14:18:33.770196",
     "status": "completed"
    },
    "tags": []
   },
   "outputs": [],
   "source": [
    "from sklearn.linear_model import LinearRegression"
   ]
  },
  {
   "cell_type": "markdown",
   "id": "3d542acb",
   "metadata": {
    "papermill": {
     "duration": 0.024114,
     "end_time": "2024-02-05T14:18:35.626077",
     "exception": false,
     "start_time": "2024-02-05T14:18:35.601963",
     "status": "completed"
    },
    "tags": []
   },
   "source": [
    "## Provide the input Variables"
   ]
  },
  {
   "cell_type": "code",
   "execution_count": 14,
   "id": "693bd08e",
   "metadata": {
    "execution": {
     "iopub.execute_input": "2024-02-05T14:18:35.678106Z",
     "iopub.status.busy": "2024-02-05T14:18:35.676977Z",
     "iopub.status.idle": "2024-02-05T14:18:35.686282Z",
     "shell.execute_reply": "2024-02-05T14:18:35.685001Z"
    },
    "papermill": {
     "duration": 0.038667,
     "end_time": "2024-02-05T14:18:35.689423",
     "exception": false,
     "start_time": "2024-02-05T14:18:35.650756",
     "status": "completed"
    },
    "tags": []
   },
   "outputs": [],
   "source": [
    "x_lotArea = np.array([df_train['LotArea']]).reshape((-1, 1))\n",
    "x_lotFrontage = np.array([df_train['LotFrontage']]).reshape((-1, 1))\n",
    "x_msSubClass = np.array([df_train['MSSubClass']]).reshape((-1, 1))\n",
    "x_overallQual = np.array([df_train['OverallQual']]).reshape(-1, 1)\n",
    "x_overallCond = np.array([df_train['OverallCond']]).reshape(-1, 1)\n",
    "y_salePrice = np.array([df_sample_submission['SalePrice']]).reshape((-1, 1))"
   ]
  },
  {
   "cell_type": "markdown",
   "id": "57c1418e",
   "metadata": {
    "papermill": {
     "duration": 0.025293,
     "end_time": "2024-02-05T14:18:35.740077",
     "exception": false,
     "start_time": "2024-02-05T14:18:35.714784",
     "status": "completed"
    },
    "tags": []
   },
   "source": [
    "## Create a Model and fit it"
   ]
  },
  {
   "cell_type": "code",
   "execution_count": 15,
   "id": "a3cc6ff8",
   "metadata": {
    "execution": {
     "iopub.execute_input": "2024-02-05T14:18:35.794741Z",
     "iopub.status.busy": "2024-02-05T14:18:35.793788Z",
     "iopub.status.idle": "2024-02-05T14:18:35.819826Z",
     "shell.execute_reply": "2024-02-05T14:18:35.818663Z"
    },
    "papermill": {
     "duration": 0.05654,
     "end_time": "2024-02-05T14:18:35.822972",
     "exception": false,
     "start_time": "2024-02-05T14:18:35.766432",
     "status": "completed"
    },
    "tags": []
   },
   "outputs": [],
   "source": [
    "model_lotArea = LinearRegression().fit(x_lotArea, y_salePrice)\n",
    "model_lotFrontage = LinearRegression().fit(x_lotFrontage, y_salePrice)\n",
    "model_msSubClass = LinearRegression().fit(x_msSubClass, y_salePrice)\n",
    "model_overallQual = LinearRegression().fit(x_overallQual, y_salePrice)\n",
    "model_overallCond = LinearRegression().fit(x_overallCond, y_salePrice)"
   ]
  },
  {
   "cell_type": "markdown",
   "id": "fa1eed47",
   "metadata": {
    "papermill": {
     "duration": 0.026314,
     "end_time": "2024-02-05T14:18:35.874979",
     "exception": false,
     "start_time": "2024-02-05T14:18:35.848665",
     "status": "completed"
    },
    "tags": []
   },
   "source": [
    "## Get results"
   ]
  },
  {
   "cell_type": "code",
   "execution_count": 16,
   "id": "675d1ad8",
   "metadata": {
    "execution": {
     "iopub.execute_input": "2024-02-05T14:18:35.929425Z",
     "iopub.status.busy": "2024-02-05T14:18:35.928489Z",
     "iopub.status.idle": "2024-02-05T14:18:35.942497Z",
     "shell.execute_reply": "2024-02-05T14:18:35.940599Z"
    },
    "papermill": {
     "duration": 0.044866,
     "end_time": "2024-02-05T14:18:35.945623",
     "exception": false,
     "start_time": "2024-02-05T14:18:35.900757",
     "status": "completed"
    },
    "tags": []
   },
   "outputs": [
    {
     "name": "stdout",
     "output_type": "stream",
     "text": [
      "Input Feature: LotArea\n",
      "coefficient of determination: 0.5123629952730855\n",
      "===============================================================\n",
      "Input Feature: LotFrontage\n",
      "coefficient of determination: 0.03486342370470641\n",
      "===============================================================\n",
      "Input Feature: MSSubClass\n",
      "coefficient of determination: 0.04240173426407168\n",
      "===============================================================\n",
      "Input Feature: OverallQual\n",
      "coefficient of determination: 0.008769092824928881\n",
      "===============================================================\n",
      "Input Feature: OverallCond\n",
      "coefficient of determination: 0.007014545671814809\n",
      "===============================================================\n"
     ]
    }
   ],
   "source": [
    "r_sq_lotArea = model_lotArea.score(x_lotArea, y_salePrice)\n",
    "r_sq_lotFrontage = model_lotFrontage.score(x_lotFrontage, y_salePrice)\n",
    "r_sq_msSubClass = model_msSubClass.score(x_msSubClass, y_salePrice)\n",
    "r_sq_overallQual = model_overallQual.score(x_overallQual, y_salePrice)\n",
    "r_sq_overallCond = model_overallCond.score(x_overallCond, y_salePrice)\n",
    "\n",
    "dict_features = {'LotArea':r_sq_lotArea, 'LotFrontage':r_sq_lotFrontage, 'MSSubClass': r_sq_msSubClass, 'OverallQual':r_sq_overallQual, 'OverallCond':r_sq_overallCond}\n",
    "for feature, score in dict_features.items():\n",
    "    print(f\"Input Feature: {feature}\")\n",
    "    print(f\"coefficient of determination: {score}\")\n",
    "    print(\"===============================================================\")"
   ]
  },
  {
   "cell_type": "markdown",
   "id": "d9c9e2b7",
   "metadata": {
    "papermill": {
     "duration": 0.025124,
     "end_time": "2024-02-05T14:18:35.996448",
     "exception": false,
     "start_time": "2024-02-05T14:18:35.971324",
     "status": "completed"
    },
    "tags": []
   },
   "source": [
    "## Predict the response"
   ]
  },
  {
   "cell_type": "code",
   "execution_count": 17,
   "id": "d2a8bc6a",
   "metadata": {
    "execution": {
     "iopub.execute_input": "2024-02-05T14:18:36.050236Z",
     "iopub.status.busy": "2024-02-05T14:18:36.049492Z",
     "iopub.status.idle": "2024-02-05T14:18:36.060513Z",
     "shell.execute_reply": "2024-02-05T14:18:36.059320Z"
    },
    "papermill": {
     "duration": 0.040947,
     "end_time": "2024-02-05T14:18:36.063247",
     "exception": false,
     "start_time": "2024-02-05T14:18:36.022300",
     "status": "completed"
    },
    "tags": []
   },
   "outputs": [
    {
     "name": "stdout",
     "output_type": "stream",
     "text": [
      "predicted response with LotArea as input: \n",
      "[[183485.44111251]\n",
      " [189796.33655443]\n",
      " [188753.66687273]\n",
      " ...\n",
      " [203475.11295086]\n",
      " [180667.6084029 ]\n",
      " [178725.42734819]]\n",
      "\n",
      "predicted response with LotFrontage as input: \n",
      "[[181295.44275988]\n",
      " [181391.0310273 ]\n",
      " [180721.91315537]\n",
      " ...\n",
      " [188942.50415335]\n",
      " [179574.85394635]\n",
      " [180721.91315537]]\n",
      "\n",
      "predicted response with MSSubClass as input: \n",
      "[[182158.13658041]\n",
      " [182158.13658041]\n",
      " [178975.31119871]\n",
      " ...\n",
      " [182158.13658041]\n",
      " [176986.04533515]\n",
      " [178975.31119871]]\n",
      "\n",
      "predicted response with OverallQual as input: \n",
      "[[178022.49005643]\n",
      " [179099.06167251]\n",
      " [178022.49005643]\n",
      " ...\n",
      " [178022.49005643]\n",
      " [178022.49005643]\n",
      " [180175.6332886 ]]\n",
      "\n",
      "predicted response with OverallCond as input: \n",
      "[[178629.66628348]\n",
      " [178629.66628348]\n",
      " [179871.83772502]\n",
      " ...\n",
      " [177387.49484194]\n",
      " [179871.83772502]\n",
      " [179871.83772502]]\n",
      "\n"
     ]
    }
   ],
   "source": [
    "y_pred_lotArea = model_lotArea.predict(x_lotArea)\n",
    "y_pred_lotFrontage = model_lotFrontage.predict(x_lotFrontage)\n",
    "y_pred_msSubClass = model_msSubClass.predict(x_msSubClass)\n",
    "y_pred_overallQual = model_overallQual.predict(x_overallQual)\n",
    "y_pred_overallCond = model_overallCond.predict(x_overallCond)\n",
    "\n",
    "print(f\"predicted response with LotArea as input: \\n{y_pred_lotArea}\\n\")\n",
    "print(f\"predicted response with LotFrontage as input: \\n{y_pred_lotFrontage}\\n\")\n",
    "print(f\"predicted response with MSSubClass as input: \\n{y_pred_msSubClass}\\n\")\n",
    "print(f\"predicted response with OverallQual as input: \\n{y_pred_overallQual}\\n\")\n",
    "print(f\"predicted response with OverallCond as input: \\n{y_pred_overallCond}\\n\")"
   ]
  },
  {
   "cell_type": "markdown",
   "id": "fc2abd54",
   "metadata": {
    "papermill": {
     "duration": 0.02615,
     "end_time": "2024-02-05T14:18:36.114684",
     "exception": false,
     "start_time": "2024-02-05T14:18:36.088534",
     "status": "completed"
    },
    "tags": []
   },
   "source": [
    "# Multiple Linear Regression"
   ]
  },
  {
   "cell_type": "markdown",
   "id": "0e97b2be",
   "metadata": {
    "papermill": {
     "duration": 0.0252,
     "end_time": "2024-02-05T14:18:36.165822",
     "exception": false,
     "start_time": "2024-02-05T14:18:36.140622",
     "status": "completed"
    },
    "tags": []
   },
   "source": [
    "## Import necessary modules"
   ]
  },
  {
   "cell_type": "code",
   "execution_count": 18,
   "id": "dbc4062e",
   "metadata": {
    "execution": {
     "iopub.execute_input": "2024-02-05T14:18:36.219552Z",
     "iopub.status.busy": "2024-02-05T14:18:36.218761Z",
     "iopub.status.idle": "2024-02-05T14:18:36.223290Z",
     "shell.execute_reply": "2024-02-05T14:18:36.222480Z"
    },
    "papermill": {
     "duration": 0.034752,
     "end_time": "2024-02-05T14:18:36.226160",
     "exception": false,
     "start_time": "2024-02-05T14:18:36.191408",
     "status": "completed"
    },
    "tags": []
   },
   "outputs": [],
   "source": [
    "import numpy as np\n",
    "from sklearn.linear_model import LinearRegression"
   ]
  },
  {
   "cell_type": "markdown",
   "id": "379dfefa",
   "metadata": {
    "papermill": {
     "duration": 0.025205,
     "end_time": "2024-02-05T14:18:36.278339",
     "exception": false,
     "start_time": "2024-02-05T14:18:36.253134",
     "status": "completed"
    },
    "tags": []
   },
   "source": [
    "## Provide the input variables"
   ]
  },
  {
   "cell_type": "code",
   "execution_count": 19,
   "id": "a7fd150a",
   "metadata": {
    "execution": {
     "iopub.execute_input": "2024-02-05T14:18:36.332158Z",
     "iopub.status.busy": "2024-02-05T14:18:36.331446Z",
     "iopub.status.idle": "2024-02-05T14:18:36.355021Z",
     "shell.execute_reply": "2024-02-05T14:18:36.353684Z"
    },
    "papermill": {
     "duration": 0.054321,
     "end_time": "2024-02-05T14:18:36.358476",
     "exception": false,
     "start_time": "2024-02-05T14:18:36.304155",
     "status": "completed"
    },
    "tags": []
   },
   "outputs": [],
   "source": [
    "x_lotArea_lotFrontage = np.array([df_train[['LotArea', 'LotFrontage']]]).reshape((-1, 2))\n",
    "x_lotArea_msSubClass = np.array([df_train[['LotArea', 'MSSubClass']]]).reshape((-1, 2))\n",
    "x_lotArea_overallQual = np.array([df_train[['LotArea', 'OverallQual']]]).reshape((-1, 2))\n",
    "x_lotArea_overallCond = np.array([df_train[['LotArea', 'OverallCond']]]).reshape((-1, 2))\n",
    "x_lotFrontage_msSubClass = np.array([df_train[['LotFrontage', 'MSSubClass']]]).reshape((-1, 2))\n",
    "x_lotFrontage_overallQual = np.array([df_train[['LotFrontage', 'OverallQual']]]).reshape((-1, 2))\n",
    "x_lotFrontage_overallCond = np.array([df_train[['LotFrontage', 'OverallCond']]]).reshape((-1, 2))\n",
    "x_msSubClass_overallQual = np.array([df_train[['MSSubClass', 'OverallQual']]]).reshape((-1, 2))\n",
    "x_msSubClass_overallCond = np.array([df_train[['MSSubClass', 'OverallCond']]]).reshape((-1, 2))\n",
    "x_overallQual_overallCond = np.array([df_train[['OverallQual', 'OverallCond']]]).reshape((-1, 2))\n",
    "\n",
    "# y_salePrice = np.array([df_sample_submission['SalePrice']]).reshape((-1, 1))"
   ]
  },
  {
   "cell_type": "markdown",
   "id": "3ab9de7b",
   "metadata": {
    "papermill": {
     "duration": 0.025522,
     "end_time": "2024-02-05T14:18:36.409842",
     "exception": false,
     "start_time": "2024-02-05T14:18:36.384320",
     "status": "completed"
    },
    "tags": []
   },
   "source": [
    "## Inspect the x input variables"
   ]
  },
  {
   "cell_type": "code",
   "execution_count": 20,
   "id": "fff01933",
   "metadata": {
    "execution": {
     "iopub.execute_input": "2024-02-05T14:18:36.463906Z",
     "iopub.status.busy": "2024-02-05T14:18:36.462886Z",
     "iopub.status.idle": "2024-02-05T14:18:36.472438Z",
     "shell.execute_reply": "2024-02-05T14:18:36.471626Z"
    },
    "papermill": {
     "duration": 0.040181,
     "end_time": "2024-02-05T14:18:36.475845",
     "exception": false,
     "start_time": "2024-02-05T14:18:36.435664",
     "status": "completed"
    },
    "tags": []
   },
   "outputs": [
    {
     "name": "stdout",
     "output_type": "stream",
     "text": [
      "LotArea and LotFrontage: \n",
      "[[11622.    80.]\n",
      " [14267.    81.]\n",
      " [13830.    74.]\n",
      " ...\n",
      " [20000.   160.]\n",
      " [10441.    62.]\n",
      " [ 9627.    74.]]\n",
      "\n",
      "LotArea and MSSubClass: \n",
      "[[11622    20]\n",
      " [14267    20]\n",
      " [13830    60]\n",
      " ...\n",
      " [20000    20]\n",
      " [10441    85]\n",
      " [ 9627    60]]\n",
      "\n",
      "LotArea and OverallQual: \n",
      "[[11622     5]\n",
      " [14267     6]\n",
      " [13830     5]\n",
      " ...\n",
      " [20000     5]\n",
      " [10441     5]\n",
      " [ 9627     7]]\n",
      "\n",
      "LotArea and OverallCond: \n",
      "[[11622     6]\n",
      " [14267     6]\n",
      " [13830     5]\n",
      " ...\n",
      " [20000     7]\n",
      " [10441     5]\n",
      " [ 9627     5]]\n",
      "\n",
      "LotFrontage and MSSubClass: \n",
      "[[ 80.  20.]\n",
      " [ 81.  20.]\n",
      " [ 74.  60.]\n",
      " ...\n",
      " [160.  20.]\n",
      " [ 62.  85.]\n",
      " [ 74.  60.]]\n",
      "\n",
      "LotFrontage and OverallQual: \n",
      "[[ 80.   5.]\n",
      " [ 81.   6.]\n",
      " [ 74.   5.]\n",
      " ...\n",
      " [160.   5.]\n",
      " [ 62.   5.]\n",
      " [ 74.   7.]]\n",
      "\n",
      "LotFrontage and OverallCond: \n",
      "[[ 80.   6.]\n",
      " [ 81.   6.]\n",
      " [ 74.   5.]\n",
      " ...\n",
      " [160.   7.]\n",
      " [ 62.   5.]\n",
      " [ 74.   5.]]\n",
      "\n",
      "MSSubClass and OverallQual: \n",
      "[[20  5]\n",
      " [20  6]\n",
      " [60  5]\n",
      " ...\n",
      " [20  5]\n",
      " [85  5]\n",
      " [60  7]]\n",
      "\n",
      "MSSubClass and OverallCond: \n",
      "[[20  6]\n",
      " [20  6]\n",
      " [60  5]\n",
      " ...\n",
      " [20  7]\n",
      " [85  5]\n",
      " [60  5]]\n",
      "\n",
      "OverallQual and OverallCond: \n",
      "[[5 6]\n",
      " [6 6]\n",
      " [5 5]\n",
      " ...\n",
      " [5 7]\n",
      " [5 5]\n",
      " [7 5]]\n",
      "\n"
     ]
    }
   ],
   "source": [
    "print(f\"LotArea and LotFrontage: \\n{x_lotArea_lotFrontage}\\n\")\n",
    "print(f\"LotArea and MSSubClass: \\n{x_lotArea_msSubClass}\\n\")\n",
    "print(f\"LotArea and OverallQual: \\n{x_lotArea_overallQual}\\n\")\n",
    "print(f\"LotArea and OverallCond: \\n{x_lotArea_overallCond}\\n\")\n",
    "print(f\"LotFrontage and MSSubClass: \\n{x_lotFrontage_msSubClass}\\n\")\n",
    "print(f\"LotFrontage and OverallQual: \\n{x_lotFrontage_overallQual}\\n\")\n",
    "print(f\"LotFrontage and OverallCond: \\n{x_lotFrontage_overallCond}\\n\")\n",
    "print(f\"MSSubClass and OverallQual: \\n{x_msSubClass_overallQual}\\n\")\n",
    "print(f\"MSSubClass and OverallCond: \\n{x_msSubClass_overallCond}\\n\")\n",
    "print(f\"OverallQual and OverallCond: \\n{x_overallQual_overallCond}\\n\")"
   ]
  },
  {
   "cell_type": "markdown",
   "id": "e26437b3",
   "metadata": {
    "papermill": {
     "duration": 0.025622,
     "end_time": "2024-02-05T14:18:36.527437",
     "exception": false,
     "start_time": "2024-02-05T14:18:36.501815",
     "status": "completed"
    },
    "tags": []
   },
   "source": [
    "## Create a multilinear model and fit it"
   ]
  },
  {
   "cell_type": "code",
   "execution_count": 21,
   "id": "6f72e112",
   "metadata": {
    "execution": {
     "iopub.execute_input": "2024-02-05T14:18:36.581256Z",
     "iopub.status.busy": "2024-02-05T14:18:36.580133Z",
     "iopub.status.idle": "2024-02-05T14:18:36.615138Z",
     "shell.execute_reply": "2024-02-05T14:18:36.613482Z"
    },
    "papermill": {
     "duration": 0.065134,
     "end_time": "2024-02-05T14:18:36.618206",
     "exception": false,
     "start_time": "2024-02-05T14:18:36.553072",
     "status": "completed"
    },
    "tags": []
   },
   "outputs": [],
   "source": [
    "model_lotArea_lotFrontage = LinearRegression().fit(x_lotArea_lotFrontage, y_salePrice)\n",
    "model_lotArea_msSubClass = LinearRegression().fit(x_lotArea_msSubClass, y_salePrice)\n",
    "model_lotArea_overallQual = LinearRegression().fit(x_lotArea_overallQual, y_salePrice)\n",
    "model_lotArea_overallCond = LinearRegression().fit(x_lotArea_overallCond, y_salePrice)\n",
    "\n",
    "model_lotFrontage_msSubClass = LinearRegression().fit(x_lotFrontage_msSubClass, y_salePrice)\n",
    "model_lotFrontage_overallQual = LinearRegression().fit(x_lotFrontage_overallQual, y_salePrice)\n",
    "model_lotFrontage_overallCond = LinearRegression().fit(x_lotFrontage_overallCond, y_salePrice)\n",
    "\n",
    "model_msSubClass_overallQual = LinearRegression().fit(x_msSubClass_overallQual, y_salePrice)\n",
    "model_msSubClass_overallCond = LinearRegression().fit(x_msSubClass_overallCond, y_salePrice)\n",
    "\n",
    "model_overallQual_overallCond = LinearRegression().fit(x_overallQual_overallCond, y_salePrice)"
   ]
  },
  {
   "cell_type": "markdown",
   "id": "85374a5c",
   "metadata": {
    "papermill": {
     "duration": 0.026455,
     "end_time": "2024-02-05T14:18:36.670665",
     "exception": false,
     "start_time": "2024-02-05T14:18:36.644210",
     "status": "completed"
    },
    "tags": []
   },
   "source": [
    "## Get results"
   ]
  },
  {
   "cell_type": "code",
   "execution_count": 22,
   "id": "3c40fd74",
   "metadata": {
    "execution": {
     "iopub.execute_input": "2024-02-05T14:18:36.727301Z",
     "iopub.status.busy": "2024-02-05T14:18:36.725894Z",
     "iopub.status.idle": "2024-02-05T14:18:36.743470Z",
     "shell.execute_reply": "2024-02-05T14:18:36.742297Z"
    },
    "papermill": {
     "duration": 0.049312,
     "end_time": "2024-02-05T14:18:36.746585",
     "exception": false,
     "start_time": "2024-02-05T14:18:36.697273",
     "status": "completed"
    },
    "tags": []
   },
   "outputs": [
    {
     "name": "stdout",
     "output_type": "stream",
     "text": [
      "Input Feature: LotArea and LotFrontage\n",
      "coefficient of determination: 0.5128940223745833\n",
      "===============================================================\n",
      "Input Feature: LotArea and MSSubClass\n",
      "coefficient of determination: 0.515401669427938\n",
      "===============================================================\n",
      "Input Feature: LotArea and OverallQual\n",
      "coefficient of determination: 0.5126333129216907\n",
      "===============================================================\n",
      "Input Feature: LotArea and OverallCond\n",
      "coefficient of determination: 0.5124588589872286\n",
      "===============================================================\n",
      "Input Feature: LotFrontage and MSSubClass\n",
      "coefficient of determination: 0.0621055520398438\n",
      "===============================================================\n",
      "Input Feature: LotFrontage and OverallQual\n",
      "coefficient of determination: 0.04088116942415998\n",
      "===============================================================\n",
      "Input Feature: LotFrontage and OverallCond\n",
      "coefficient of determination: 0.0413361542178583\n",
      "===============================================================\n",
      "Input Feature: MSSubClass and OverallQual\n",
      "coefficient of determination: 0.05257194312346136\n",
      "===============================================================\n",
      "Input Feature: MSSubClass and OverallCond\n",
      "coefficient of determination: 0.05216038738153139\n",
      "===============================================================\n",
      "Input Feature: OverallQual and OverallCond\n",
      "coefficient of determination: 0.014412252186155938\n",
      "===============================================================\n"
     ]
    }
   ],
   "source": [
    "r_sq_lotArea_lotFrontage = model_lotArea_lotFrontage.score(x_lotArea_lotFrontage, y_salePrice)\n",
    "r_sq_lotArea_msSubClass = model_lotArea_msSubClass.score(x_lotArea_msSubClass, y_salePrice)\n",
    "r_sq_lotArea_overallQual = model_lotArea_overallQual.score(x_lotArea_overallQual, y_salePrice)\n",
    "r_sq_lotArea_overallCond = model_lotArea_overallCond.score(x_lotArea_overallCond, y_salePrice)\n",
    "\n",
    "r_sq_lotFrontage_msSubClass = model_lotFrontage_msSubClass.score(x_lotFrontage_msSubClass, y_salePrice)\n",
    "r_sq_lotFrontage_overallQual = model_lotFrontage_overallQual.score(x_lotFrontage_overallQual, y_salePrice)\n",
    "r_sq_lotFrontage_overallCond = model_lotFrontage_overallCond.score(x_lotFrontage_overallCond, y_salePrice)\n",
    "\n",
    "r_sq_msSubClass_overallQual = model_msSubClass_overallQual.score(x_msSubClass_overallQual, y_salePrice)\n",
    "r_sq_msSubClass_overallCond = model_msSubClass_overallCond.score(x_msSubClass_overallCond, y_salePrice)\n",
    "\n",
    "r_sq_overallQual_overallCond = model_overallQual_overallCond.score(x_overallQual_overallCond, y_salePrice)\n",
    "\n",
    "dict_features = {'LotArea and LotFrontage':r_sq_lotArea_lotFrontage, \n",
    "                 'LotArea and MSSubClass':r_sq_lotArea_msSubClass, \n",
    "                 'LotArea and OverallQual':r_sq_lotArea_overallQual, \n",
    "                 'LotArea and OverallCond':r_sq_lotArea_overallCond, \n",
    "                 'LotFrontage and MSSubClass':r_sq_lotFrontage_msSubClass, \n",
    "                 'LotFrontage and OverallQual':r_sq_lotFrontage_overallQual, \n",
    "                 'LotFrontage and OverallCond':r_sq_lotFrontage_overallCond, \n",
    "                 'MSSubClass and OverallQual':r_sq_msSubClass_overallQual,\n",
    "                 'MSSubClass and OverallCond':r_sq_msSubClass_overallCond, \n",
    "                 'OverallQual and OverallCond':r_sq_overallQual_overallCond}\n",
    "for duo_feature, score in dict_features.items():\n",
    "    print(f\"Input Feature: {duo_feature}\")\n",
    "    print(f\"coefficient of determination: {score}\")\n",
    "    print(\"===============================================================\")"
   ]
  },
  {
   "cell_type": "markdown",
   "id": "e2b2d914",
   "metadata": {
    "papermill": {
     "duration": 0.026819,
     "end_time": "2024-02-05T14:18:36.800715",
     "exception": false,
     "start_time": "2024-02-05T14:18:36.773896",
     "status": "completed"
    },
    "tags": []
   },
   "source": [
    "## Predict the response for considering two input features"
   ]
  },
  {
   "cell_type": "code",
   "execution_count": 23,
   "id": "55ee3a15",
   "metadata": {
    "execution": {
     "iopub.execute_input": "2024-02-05T14:18:36.855408Z",
     "iopub.status.busy": "2024-02-05T14:18:36.854948Z",
     "iopub.status.idle": "2024-02-05T14:18:36.871692Z",
     "shell.execute_reply": "2024-02-05T14:18:36.870083Z"
    },
    "papermill": {
     "duration": 0.048059,
     "end_time": "2024-02-05T14:18:36.875091",
     "exception": false,
     "start_time": "2024-02-05T14:18:36.827032",
     "status": "completed"
    },
    "tags": []
   },
   "outputs": [
    {
     "name": "stdout",
     "output_type": "stream",
     "text": [
      "predicted response with LotArea and Lot Frontage as input: \n",
      "[[183720.52989267]\n",
      " [189995.635597  ]\n",
      " [188876.03634239]\n",
      " ...\n",
      " [204528.10558872]\n",
      " [180705.91593207]\n",
      " [178923.92829614]]\n",
      "\n",
      "predicted response with LotArea and MSSubClass as input: \n",
      "[[182759.81969211]\n",
      " [189257.97519109]\n",
      " [189097.47147067]\n",
      " ...\n",
      " [203342.63510628]\n",
      " [181342.16977759]\n",
      " [178771.66898968]]\n",
      "\n",
      "predicted response with LotArea and OverallQual as input: \n",
      "[[183269.59273119]\n",
      " [189754.87198856]\n",
      " [188524.67409557]\n",
      " ...\n",
      " [203209.38968352]\n",
      " [180458.79060649]\n",
      " [178901.71476972]]\n",
      "\n",
      "predicted response with LotArea and OverallCond as input: \n",
      "[[183414.18118963]\n",
      " [189716.10253805]\n",
      " [188820.91225524]\n",
      " ...\n",
      " [203229.43099146]\n",
      " [180746.3521608 ]\n",
      " [178806.9328876 ]]\n",
      "\n",
      "predicted response with Lot Frontage and MSSubClass as input: \n",
      "[[183281.2356805 ]\n",
      " [183355.37585321]\n",
      " [180204.30698275]\n",
      " ...\n",
      " [189212.44949747]\n",
      " [177669.57012178]\n",
      " [180204.30698275]]\n",
      "\n",
      "predicted response with Lot Frontage and OverallQual as input: \n",
      "[[180252.39949856]\n",
      " [181239.77039683]\n",
      " [179699.83861114]\n",
      " ...\n",
      " [187619.87799747]\n",
      " [178594.71683631]\n",
      " [181490.39344521]]\n",
      "\n",
      "predicted response with Lot Frontage and OverallQual as input: \n",
      "[[180746.80060091]\n",
      " [180841.6581139 ]\n",
      " [181371.0770677 ]\n",
      " ...\n",
      " [187141.98009575]\n",
      " [180232.78691176]\n",
      " [181371.0770677 ]]\n",
      "\n",
      "predicted response with MSSubClass and OverallQual as input: \n",
      "[[180957.16708318]\n",
      " [182117.25794013]\n",
      " [177720.23442184]\n",
      " ...\n",
      " [180957.16708318]\n",
      " [175697.15150851]\n",
      " [180040.41613574]]\n",
      "\n",
      "predicted response with MSSubClass and OverallCond as input: \n",
      "[[181605.37707654]\n",
      " [181605.37707654]\n",
      " [179781.60388405]\n",
      " ...\n",
      " [180136.45738913]\n",
      " [177723.67083412]\n",
      " [179781.60388405]]\n",
      "\n",
      "predicted response with OverallQual and OverallCond as input: \n",
      "[[177612.80013478]\n",
      " [178606.18913686]\n",
      " [178732.10432852]\n",
      " ...\n",
      " [176493.49594103]\n",
      " [178732.10432852]\n",
      " [180718.88233269]]\n",
      "\n"
     ]
    }
   ],
   "source": [
    "y_pred_lotArea_lotFrontage = model_lotArea_lotFrontage.predict(x_lotArea_lotFrontage)\n",
    "y_pred_lotArea_msSubClass = model_lotArea_msSubClass.predict(x_lotArea_msSubClass)\n",
    "y_pred_lotArea_overallQual = model_lotArea_overallQual.predict(x_lotArea_overallQual)\n",
    "y_pred_lotArea_overallCond = model_lotArea_overallCond.predict(x_lotArea_overallCond)\n",
    "\n",
    "y_pred_lotFrontage_msSubClass = model_lotFrontage_msSubClass.predict(x_lotFrontage_msSubClass)\n",
    "y_pred_lotFrontage_overallQual = model_lotFrontage_overallQual.predict(x_lotFrontage_overallQual)\n",
    "y_pred_lotFrontage_overallCond = model_lotFrontage_overallCond.predict(x_lotFrontage_overallCond)\n",
    "\n",
    "y_pred_msSubClass_overallQual = model_msSubClass_overallQual.predict(x_msSubClass_overallQual)\n",
    "y_pred_msSubClass_overallCond = model_msSubClass_overallCond.predict(x_msSubClass_overallCond)\n",
    "\n",
    "y_pred_overallQual_overallCond = model_overallQual_overallCond.predict(x_overallQual_overallCond)\n",
    "\n",
    "print(f\"predicted response with LotArea and Lot Frontage as input: \\n{y_pred_lotArea_lotFrontage}\\n\")\n",
    "print(f\"predicted response with LotArea and MSSubClass as input: \\n{y_pred_lotArea_msSubClass}\\n\")\n",
    "print(f\"predicted response with LotArea and OverallQual as input: \\n{y_pred_lotArea_overallQual}\\n\")\n",
    "print(f\"predicted response with LotArea and OverallCond as input: \\n{y_pred_lotArea_overallCond}\\n\")\n",
    "\n",
    "print(f\"predicted response with Lot Frontage and MSSubClass as input: \\n{y_pred_lotFrontage_msSubClass}\\n\")\n",
    "print(f\"predicted response with Lot Frontage and OverallQual as input: \\n{y_pred_lotFrontage_overallQual}\\n\")\n",
    "print(f\"predicted response with Lot Frontage and OverallQual as input: \\n{y_pred_lotFrontage_overallCond}\\n\")\n",
    "\n",
    "print(f\"predicted response with MSSubClass and OverallQual as input: \\n{y_pred_msSubClass_overallQual}\\n\")\n",
    "print(f\"predicted response with MSSubClass and OverallCond as input: \\n{y_pred_msSubClass_overallCond}\\n\")\n",
    "\n",
    "print(f\"predicted response with OverallQual and OverallCond as input: \\n{y_pred_overallQual_overallCond}\\n\")"
   ]
  },
  {
   "cell_type": "markdown",
   "id": "d7fddc86",
   "metadata": {
    "papermill": {
     "duration": 0.025661,
     "end_time": "2024-02-05T14:18:36.926460",
     "exception": false,
     "start_time": "2024-02-05T14:18:36.900799",
     "status": "completed"
    },
    "tags": []
   },
   "source": [
    "# Polynomial Regression"
   ]
  },
  {
   "cell_type": "markdown",
   "id": "c7a2dda0",
   "metadata": {
    "papermill": {
     "duration": 0.024996,
     "end_time": "2024-02-05T14:18:36.978152",
     "exception": false,
     "start_time": "2024-02-05T14:18:36.953156",
     "status": "completed"
    },
    "tags": []
   },
   "source": [
    "## Import necessary modules"
   ]
  },
  {
   "cell_type": "code",
   "execution_count": 24,
   "id": "e3cb8ee7",
   "metadata": {
    "execution": {
     "iopub.execute_input": "2024-02-05T14:18:37.031509Z",
     "iopub.status.busy": "2024-02-05T14:18:37.031069Z",
     "iopub.status.idle": "2024-02-05T14:18:37.036849Z",
     "shell.execute_reply": "2024-02-05T14:18:37.035630Z"
    },
    "papermill": {
     "duration": 0.036142,
     "end_time": "2024-02-05T14:18:37.039552",
     "exception": false,
     "start_time": "2024-02-05T14:18:37.003410",
     "status": "completed"
    },
    "tags": []
   },
   "outputs": [],
   "source": [
    "import numpy as np\n",
    "from sklearn.linear_model import LinearRegression\n",
    "from sklearn.preprocessing import PolynomialFeatures"
   ]
  },
  {
   "cell_type": "markdown",
   "id": "c0c27957",
   "metadata": {
    "papermill": {
     "duration": 0.025201,
     "end_time": "2024-02-05T14:18:37.090108",
     "exception": false,
     "start_time": "2024-02-05T14:18:37.064907",
     "status": "completed"
    },
    "tags": []
   },
   "source": [
    "## Provide input features"
   ]
  },
  {
   "cell_type": "code",
   "execution_count": 25,
   "id": "afa851c2",
   "metadata": {
    "execution": {
     "iopub.execute_input": "2024-02-05T14:18:37.144546Z",
     "iopub.status.busy": "2024-02-05T14:18:37.144036Z",
     "iopub.status.idle": "2024-02-05T14:18:37.152662Z",
     "shell.execute_reply": "2024-02-05T14:18:37.151210Z"
    },
    "papermill": {
     "duration": 0.039108,
     "end_time": "2024-02-05T14:18:37.155649",
     "exception": false,
     "start_time": "2024-02-05T14:18:37.116541",
     "status": "completed"
    },
    "tags": []
   },
   "outputs": [],
   "source": [
    "x_lotArea = np.array([df_train['LotArea']]).reshape((-1, 1))\n",
    "x_lotFrontage = np.array([df_train['LotFrontage']]).reshape((-1, 1))\n",
    "x_msSubClass = np.array([df_train['MSSubClass']]).reshape((-1, 1))\n",
    "x_overallQual = np.array([df_train['OverallQual']]).reshape(-1, 1)\n",
    "x_overallCond = np.array([df_train['OverallCond']]).reshape(-1, 1)\n",
    "y_salePrice = np.array([df_sample_submission['SalePrice']]).reshape((-1, 1))"
   ]
  },
  {
   "cell_type": "markdown",
   "id": "1d3577f8",
   "metadata": {
    "papermill": {
     "duration": 0.0262,
     "end_time": "2024-02-05T14:18:37.208471",
     "exception": false,
     "start_time": "2024-02-05T14:18:37.182271",
     "status": "completed"
    },
    "tags": []
   },
   "source": [
    "## Transform input data"
   ]
  },
  {
   "cell_type": "code",
   "execution_count": 26,
   "id": "fe91ad9d",
   "metadata": {
    "execution": {
     "iopub.execute_input": "2024-02-05T14:18:37.263409Z",
     "iopub.status.busy": "2024-02-05T14:18:37.262933Z",
     "iopub.status.idle": "2024-02-05T14:18:37.279191Z",
     "shell.execute_reply": "2024-02-05T14:18:37.277745Z"
    },
    "papermill": {
     "duration": 0.047037,
     "end_time": "2024-02-05T14:18:37.281876",
     "exception": false,
     "start_time": "2024-02-05T14:18:37.234839",
     "status": "completed"
    },
    "tags": []
   },
   "outputs": [
    {
     "data": {
      "text/plain": [
       "[array([[1.16220000e+04, 1.35070884e+08],\n",
       "        [1.42670000e+04, 2.03547289e+08],\n",
       "        [1.38300000e+04, 1.91268900e+08],\n",
       "        ...,\n",
       "        [2.00000000e+04, 4.00000000e+08],\n",
       "        [1.04410000e+04, 1.09014481e+08],\n",
       "        [9.62700000e+03, 9.26791290e+07]]),\n",
       " array([[   80.,  6400.],\n",
       "        [   81.,  6561.],\n",
       "        [   74.,  5476.],\n",
       "        ...,\n",
       "        [  160., 25600.],\n",
       "        [   62.,  3844.],\n",
       "        [   74.,  5476.]]),\n",
       " array([[  20.,  400.],\n",
       "        [  20.,  400.],\n",
       "        [  60., 3600.],\n",
       "        ...,\n",
       "        [  20.,  400.],\n",
       "        [  85., 7225.],\n",
       "        [  60., 3600.]]),\n",
       " array([[ 5., 25.],\n",
       "        [ 6., 36.],\n",
       "        [ 5., 25.],\n",
       "        ...,\n",
       "        [ 5., 25.],\n",
       "        [ 5., 25.],\n",
       "        [ 7., 49.]]),\n",
       " array([[ 6., 36.],\n",
       "        [ 6., 36.],\n",
       "        [ 5., 25.],\n",
       "        ...,\n",
       "        [ 7., 49.],\n",
       "        [ 5., 25.],\n",
       "        [ 5., 25.]])]"
      ]
     },
     "execution_count": 26,
     "metadata": {},
     "output_type": "execute_result"
    }
   ],
   "source": [
    "x_lotArea = PolynomialFeatures(degree=2, include_bias=False).fit_transform(x_lotArea)\n",
    "x_lotFrontage = PolynomialFeatures(degree=2, include_bias=False).fit_transform(x_lotFrontage)\n",
    "x_msSubClass = PolynomialFeatures(degree=2, include_bias=False).fit_transform(x_msSubClass)\n",
    "x_overallQual = PolynomialFeatures(degree=2, include_bias=False).fit_transform(x_overallQual)\n",
    "x_overallCond = PolynomialFeatures(degree=2, include_bias=False).fit_transform(x_overallCond)\n",
    "\n",
    "transformer_list = [x_lotArea, x_lotFrontage, x_msSubClass, x_overallQual, x_overallCond]\n",
    "transformer_list"
   ]
  },
  {
   "cell_type": "markdown",
   "id": "c087284a",
   "metadata": {
    "papermill": {
     "duration": 0.025629,
     "end_time": "2024-02-05T14:18:37.333067",
     "exception": false,
     "start_time": "2024-02-05T14:18:37.307438",
     "status": "completed"
    },
    "tags": []
   },
   "source": [
    "## Create a Model and fit it"
   ]
  },
  {
   "cell_type": "code",
   "execution_count": 27,
   "id": "5ce26173",
   "metadata": {
    "execution": {
     "iopub.execute_input": "2024-02-05T14:18:37.387359Z",
     "iopub.status.busy": "2024-02-05T14:18:37.386884Z",
     "iopub.status.idle": "2024-02-05T14:18:37.403914Z",
     "shell.execute_reply": "2024-02-05T14:18:37.402489Z"
    },
    "papermill": {
     "duration": 0.048454,
     "end_time": "2024-02-05T14:18:37.407242",
     "exception": false,
     "start_time": "2024-02-05T14:18:37.358788",
     "status": "completed"
    },
    "tags": []
   },
   "outputs": [],
   "source": [
    "model_lotArea = LinearRegression().fit(x_lotArea, y_salePrice)\n",
    "model_lotFrontage = LinearRegression().fit(x_lotFrontage, y_salePrice)\n",
    "model_msSubClass = LinearRegression().fit(x_msSubClass, y_salePrice)\n",
    "model_overallQual = LinearRegression().fit(x_overallQual, y_salePrice)\n",
    "model_overallCond = LinearRegression().fit(x_overallCond, y_salePrice)"
   ]
  },
  {
   "cell_type": "markdown",
   "id": "df373672",
   "metadata": {
    "papermill": {
     "duration": 0.025304,
     "end_time": "2024-02-05T14:18:37.458947",
     "exception": false,
     "start_time": "2024-02-05T14:18:37.433643",
     "status": "completed"
    },
    "tags": []
   },
   "source": [
    "## Get results"
   ]
  },
  {
   "cell_type": "code",
   "execution_count": 28,
   "id": "1ea183ef",
   "metadata": {
    "execution": {
     "iopub.execute_input": "2024-02-05T14:18:37.512718Z",
     "iopub.status.busy": "2024-02-05T14:18:37.512269Z",
     "iopub.status.idle": "2024-02-05T14:18:37.526272Z",
     "shell.execute_reply": "2024-02-05T14:18:37.524887Z"
    },
    "papermill": {
     "duration": 0.044982,
     "end_time": "2024-02-05T14:18:37.529813",
     "exception": false,
     "start_time": "2024-02-05T14:18:37.484831",
     "status": "completed"
    },
    "tags": []
   },
   "outputs": [
    {
     "name": "stdout",
     "output_type": "stream",
     "text": [
      "Input Feature: LotArea\n",
      "coefficient of determination: 0.5202549233183307\n",
      "===============================================================\n",
      "Input Feature: LotFrontage\n",
      "coefficient of determination: 0.1331497860212988\n",
      "===============================================================\n",
      "Input Feature: MSSubClass\n",
      "coefficient of determination: 0.06035064062190987\n",
      "===============================================================\n",
      "Input Feature: OverallQual\n",
      "coefficient of determination: 0.009571097339512669\n",
      "===============================================================\n",
      "Input Feature: OverallCond\n",
      "coefficient of determination: 0.011088314171518898\n",
      "===============================================================\n"
     ]
    }
   ],
   "source": [
    "r_sq_lotArea = model_lotArea.score(x_lotArea, y_salePrice)\n",
    "r_sq_lotFrontage = model_lotFrontage.score(x_lotFrontage, y_salePrice)\n",
    "r_sq_msSubClass = model_msSubClass.score(x_msSubClass, y_salePrice)\n",
    "r_sq_overallQual = model_overallQual.score(x_overallQual, y_salePrice)\n",
    "r_sq_overallCond = model_overallCond.score(x_overallCond, y_salePrice)\n",
    "\n",
    "dict_features = {'LotArea':r_sq_lotArea, 'LotFrontage':r_sq_lotFrontage, 'MSSubClass': r_sq_msSubClass, 'OverallQual':r_sq_overallQual, 'OverallCond':r_sq_overallCond}\n",
    "for feature, score in dict_features.items():\n",
    "    print(f\"Input Feature: {feature}\")\n",
    "    print(f\"coefficient of determination: {score}\")\n",
    "    print(\"===============================================================\")"
   ]
  },
  {
   "cell_type": "markdown",
   "id": "7b5901e6",
   "metadata": {
    "papermill": {
     "duration": 0.026283,
     "end_time": "2024-02-05T14:18:37.584361",
     "exception": false,
     "start_time": "2024-02-05T14:18:37.558078",
     "status": "completed"
    },
    "tags": []
   },
   "source": [
    "## Predict a Response"
   ]
  },
  {
   "cell_type": "code",
   "execution_count": 29,
   "id": "c772bb13",
   "metadata": {
    "execution": {
     "iopub.execute_input": "2024-02-05T14:18:37.640305Z",
     "iopub.status.busy": "2024-02-05T14:18:37.639882Z",
     "iopub.status.idle": "2024-02-05T14:18:37.651806Z",
     "shell.execute_reply": "2024-02-05T14:18:37.650476Z"
    },
    "papermill": {
     "duration": 0.044065,
     "end_time": "2024-02-05T14:18:37.655118",
     "exception": false,
     "start_time": "2024-02-05T14:18:37.611053",
     "status": "completed"
    },
    "tags": []
   },
   "outputs": [
    {
     "name": "stdout",
     "output_type": "stream",
     "text": [
      "predicted response with LotArea as input: \n",
      "[[184299.60283635]\n",
      " [191012.62873535]\n",
      " [189919.52517816]\n",
      " ...\n",
      " [204766.30886432]\n",
      " [181227.26768783]\n",
      " [179082.7350444 ]]\n",
      "\n",
      "predicted response with LotFrontage as input: \n",
      "[[180099.16038619]\n",
      " [180378.83347327]\n",
      " [178563.68359076]\n",
      " ...\n",
      " [223925.15295217]\n",
      " [176225.90459633]\n",
      " [178563.68359076]]\n",
      "\n",
      "predicted response with MSSubClass as input: \n",
      "[[180473.81314391]\n",
      " [180473.81314391]\n",
      " [180904.44940935]\n",
      " ...\n",
      " [180473.81314391]\n",
      " [179582.20896376]\n",
      " [180904.44940935]]\n",
      "\n",
      "predicted response with OverallQual as input: \n",
      "[[178121.63787662]\n",
      " [179425.39554932]\n",
      " [178121.63787662]\n",
      " ...\n",
      " [178121.63787662]\n",
      " [178121.63787662]\n",
      " [180408.6378916 ]]\n",
      "\n",
      "predicted response with OverallCond as input: \n",
      "[[178066.64310354]\n",
      " [178066.64310354]\n",
      " [179579.40110694]\n",
      " ...\n",
      " [177445.18201695]\n",
      " [179579.40110694]\n",
      " [179579.40110694]]\n",
      "\n"
     ]
    }
   ],
   "source": [
    "y_pred_lotArea = model_lotArea.predict(x_lotArea)\n",
    "y_pred_lotFrontage = model_lotFrontage.predict(x_lotFrontage)\n",
    "y_pred_msSubClass = model_msSubClass.predict(x_msSubClass)\n",
    "y_pred_overallQual = model_overallQual.predict(x_overallQual)\n",
    "y_pred_overallCond = model_overallCond.predict(x_overallCond)\n",
    "\n",
    "print(f\"predicted response with LotArea as input: \\n{y_pred_lotArea}\\n\")\n",
    "print(f\"predicted response with LotFrontage as input: \\n{y_pred_lotFrontage}\\n\")\n",
    "print(f\"predicted response with MSSubClass as input: \\n{y_pred_msSubClass}\\n\")\n",
    "print(f\"predicted response with OverallQual as input: \\n{y_pred_overallQual}\\n\")\n",
    "print(f\"predicted response with OverallCond as input: \\n{y_pred_overallCond}\\n\")"
   ]
  },
  {
   "cell_type": "markdown",
   "id": "8afb6205",
   "metadata": {
    "papermill": {
     "duration": 0.027464,
     "end_time": "2024-02-05T14:18:37.710018",
     "exception": false,
     "start_time": "2024-02-05T14:18:37.682554",
     "status": "completed"
    },
    "tags": []
   },
   "source": [
    "# Advanced Linear Regression With statsmodels"
   ]
  },
  {
   "cell_type": "markdown",
   "id": "ebd7ac13",
   "metadata": {
    "papermill": {
     "duration": 0.026756,
     "end_time": "2024-02-05T14:18:37.764545",
     "exception": false,
     "start_time": "2024-02-05T14:18:37.737789",
     "status": "completed"
    },
    "tags": []
   },
   "source": [
    "## Import packages"
   ]
  },
  {
   "cell_type": "code",
   "execution_count": 30,
   "id": "fb2ccf31",
   "metadata": {
    "execution": {
     "iopub.execute_input": "2024-02-05T14:18:37.823759Z",
     "iopub.status.busy": "2024-02-05T14:18:37.823270Z",
     "iopub.status.idle": "2024-02-05T14:18:39.788394Z",
     "shell.execute_reply": "2024-02-05T14:18:39.786923Z"
    },
    "papermill": {
     "duration": 1.998618,
     "end_time": "2024-02-05T14:18:39.792332",
     "exception": false,
     "start_time": "2024-02-05T14:18:37.793714",
     "status": "completed"
    },
    "tags": []
   },
   "outputs": [],
   "source": [
    "import numpy as np\n",
    "import statsmodels.api as sm"
   ]
  },
  {
   "cell_type": "markdown",
   "id": "4f687515",
   "metadata": {
    "papermill": {
     "duration": 0.02668,
     "end_time": "2024-02-05T14:18:39.846166",
     "exception": false,
     "start_time": "2024-02-05T14:18:39.819486",
     "status": "completed"
    },
    "tags": []
   },
   "source": [
    "## Provide data and transform inputs"
   ]
  },
  {
   "cell_type": "code",
   "execution_count": 31,
   "id": "5be7d1bd",
   "metadata": {
    "execution": {
     "iopub.execute_input": "2024-02-05T14:18:39.903274Z",
     "iopub.status.busy": "2024-02-05T14:18:39.902789Z",
     "iopub.status.idle": "2024-02-05T14:18:39.916768Z",
     "shell.execute_reply": "2024-02-05T14:18:39.915236Z"
    },
    "papermill": {
     "duration": 0.046493,
     "end_time": "2024-02-05T14:18:39.919690",
     "exception": false,
     "start_time": "2024-02-05T14:18:39.873197",
     "status": "completed"
    },
    "tags": []
   },
   "outputs": [],
   "source": [
    "\"\"\"x_lotArea_lotFrontage = np.array([df_train[['LotArea', 'LotFrontage']]]).reshape((-1, 2))\n",
    "x_lotArea_msSubClass = np.array([df_train[['LotArea', 'MSSubClass']]]).reshape((-1, 2))\n",
    "x_lotArea_overallQual = np.array([df_train[['LotArea', 'OverallQual']]]).reshape((-1, 2))\n",
    "x_lotArea_overallCond = np.array([df_train[['LotArea', 'OverallCond']]]).reshape((-1, 2))\n",
    "x_lotFrontage_msSubClass = np.array([df_train[['LotFrontage', 'MSSubClass']]]).reshape((-1, 2))\n",
    "x_lotFrontage_overallQual = np.array([df_train[['LotFrontage', 'OverallQual']]]).reshape((-1, 2))\n",
    "x_lotFrontage_overallCond = np.array([df_train[['LotFrontage', 'OverallCond']]]).reshape((-1, 2))\n",
    "x_msSubClass_overallQual = np.array([df_train[['MSSubClass', 'OverallQual']]]).reshape((-1, 2))\n",
    "x_msSubClass_overallCond = np.array([df_train[['MSSubClass', 'OverallCond']]]).reshape((-1, 2))\n",
    "x_overallQual_overallCond = np.array([df_train[['OverallQual', 'OverallCond']]]).reshape((-1, 2))\"\"\"\n",
    "x_lotArea_lotFrontage = sm.add_constant(x_lotArea_lotFrontage)\n",
    "x_lotArea_msSubClass = sm.add_constant(x_lotArea_msSubClass)\n",
    "x_lotArea_overallQual = sm.add_constant(x_lotArea_overallQual)\n",
    "x_lotArea_overallCond = sm.add_constant(x_lotArea_overallCond)\n",
    "x_lotFrontage_msSubClass = sm.add_constant(x_lotFrontage_msSubClass)\n",
    "x_lotFrontage_overallQual = sm.add_constant(x_lotFrontage_overallQual)\n",
    "x_lotFrontage_overallCond = sm.add_constant(x_lotFrontage_overallCond)\n",
    "x_msSubClass_overallQual = sm.add_constant(x_msSubClass_overallQual)\n",
    "x_msSubClass_overallCond = sm.add_constant(x_msSubClass_overallCond)\n",
    "x_overallQual_overallCond = sm.add_constant(x_overallQual_overallCond)\n",
    "\n",
    "\n",
    "# y_salePrice = np.array([df_sample_submission['SalePrice']]).reshape((-1, 1))"
   ]
  },
  {
   "cell_type": "markdown",
   "id": "afb0b491",
   "metadata": {
    "papermill": {
     "duration": 0.026531,
     "end_time": "2024-02-05T14:18:39.974459",
     "exception": false,
     "start_time": "2024-02-05T14:18:39.947928",
     "status": "completed"
    },
    "tags": []
   },
   "source": [
    "## Create a model and fit it"
   ]
  },
  {
   "cell_type": "code",
   "execution_count": 32,
   "id": "84f20802",
   "metadata": {
    "execution": {
     "iopub.execute_input": "2024-02-05T14:18:40.033700Z",
     "iopub.status.busy": "2024-02-05T14:18:40.033201Z",
     "iopub.status.idle": "2024-02-05T14:18:40.062900Z",
     "shell.execute_reply": "2024-02-05T14:18:40.061840Z"
    },
    "papermill": {
     "duration": 0.062441,
     "end_time": "2024-02-05T14:18:40.065617",
     "exception": false,
     "start_time": "2024-02-05T14:18:40.003176",
     "status": "completed"
    },
    "tags": []
   },
   "outputs": [],
   "source": [
    "model_r_lotArea_lotFrontage = sm.OLS(y_salePrice, x_lotArea_lotFrontage).fit()\n",
    "model_r_lotArea_msSubClass = sm.OLS(y_salePrice, x_lotArea_msSubClass).fit()\n",
    "model_r_lotArea_overallQual = sm.OLS(y_salePrice, x_lotArea_overallQual).fit()\n",
    "model_r_lotArea_overallCond = sm.OLS(y_salePrice, x_lotArea_overallCond).fit()\n",
    "model_r_lotFrontage_msSubClass = sm.OLS(y_salePrice, x_lotFrontage_msSubClass).fit()\n",
    "model_r_lotFrontage_overallQual = sm.OLS(y_salePrice, x_lotFrontage_overallQual).fit()\n",
    "model_r_lotFrontage_overallCond = sm.OLS(y_salePrice, x_lotFrontage_overallCond).fit()\n",
    "model_r_msSubClass_overallQual = sm.OLS(y_salePrice, x_msSubClass_overallQual).fit()\n",
    "model_r_msSubClass_overallCond = sm.OLS(y_salePrice, x_msSubClass_overallCond).fit()\n",
    "model_r_overallQual_overallCond = sm.OLS(y_salePrice, x_overallQual_overallCond).fit()"
   ]
  },
  {
   "cell_type": "markdown",
   "id": "28401577",
   "metadata": {
    "papermill": {
     "duration": 0.026176,
     "end_time": "2024-02-05T14:18:40.118382",
     "exception": false,
     "start_time": "2024-02-05T14:18:40.092206",
     "status": "completed"
    },
    "tags": []
   },
   "source": [
    "## Get Results"
   ]
  },
  {
   "cell_type": "code",
   "execution_count": 33,
   "id": "34502bed",
   "metadata": {
    "collapsed": true,
    "execution": {
     "iopub.execute_input": "2024-02-05T14:18:40.172843Z",
     "iopub.status.busy": "2024-02-05T14:18:40.172317Z",
     "iopub.status.idle": "2024-02-05T14:18:40.195647Z",
     "shell.execute_reply": "2024-02-05T14:18:40.193612Z"
    },
    "jupyter": {
     "outputs_hidden": true
    },
    "papermill": {
     "duration": 0.053497,
     "end_time": "2024-02-05T14:18:40.198378",
     "exception": false,
     "start_time": "2024-02-05T14:18:40.144881",
     "status": "completed"
    },
    "tags": []
   },
   "outputs": [
    {
     "name": "stdout",
     "output_type": "stream",
     "text": [
      "                            OLS Regression Results                            \n",
      "==============================================================================\n",
      "Dep. Variable:                      y   R-squared:                       0.513\n",
      "Model:                            OLS   Adj. R-squared:                  0.512\n",
      "Method:                 Least Squares   F-statistic:                     766.5\n",
      "Date:                Mon, 05 Feb 2024   Prob (F-statistic):          3.89e-228\n",
      "Time:                        14:18:40   Log-Likelihood:                -15715.\n",
      "No. Observations:                1459   AIC:                         3.144e+04\n",
      "Df Residuals:                    1456   BIC:                         3.145e+04\n",
      "Df Model:                           2                                         \n",
      "Covariance Type:            nonrobust                                         \n",
      "==============================================================================\n",
      "                 coef    std err          t      P>|t|      [0.025      0.975]\n",
      "------------------------------------------------------------------------------\n",
      "const       1.552e+05    789.074    196.726      0.000    1.54e+05    1.57e+05\n",
      "x1             2.3679      0.063     37.800      0.000       2.245       2.491\n",
      "x2            12.1207      9.621      1.260      0.208      -6.751      30.992\n",
      "==============================================================================\n",
      "Omnibus:                       91.299   Durbin-Watson:                   1.774\n",
      "Prob(Omnibus):                  0.000   Jarque-Bera (JB):              204.355\n",
      "Skew:                           0.384   Prob(JB):                     4.22e-45\n",
      "Kurtosis:                       4.665   Cond. No.                     2.87e+04\n",
      "==============================================================================\n",
      "\n",
      "Notes:\n",
      "[1] Standard Errors assume that the covariance matrix of the errors is correctly specified.\n",
      "[2] The condition number is large, 2.87e+04. This might indicate that there are\n",
      "strong multicollinearity or other numerical problems.\n"
     ]
    }
   ],
   "source": [
    "print(model_r_lotArea_lotFrontage.summary())"
   ]
  },
  {
   "cell_type": "code",
   "execution_count": 34,
   "id": "0c13b315",
   "metadata": {
    "collapsed": true,
    "execution": {
     "iopub.execute_input": "2024-02-05T14:18:40.254186Z",
     "iopub.status.busy": "2024-02-05T14:18:40.253700Z",
     "iopub.status.idle": "2024-02-05T14:18:40.274159Z",
     "shell.execute_reply": "2024-02-05T14:18:40.272268Z"
    },
    "jupyter": {
     "outputs_hidden": true
    },
    "papermill": {
     "duration": 0.052896,
     "end_time": "2024-02-05T14:18:40.277036",
     "exception": false,
     "start_time": "2024-02-05T14:18:40.224140",
     "status": "completed"
    },
    "tags": []
   },
   "outputs": [
    {
     "name": "stdout",
     "output_type": "stream",
     "text": [
      "                            OLS Regression Results                            \n",
      "==============================================================================\n",
      "Dep. Variable:                      y   R-squared:                       0.515\n",
      "Model:                            OLS   Adj. R-squared:                  0.515\n",
      "Method:                 Least Squares   F-statistic:                     774.3\n",
      "Date:                Mon, 05 Feb 2024   Prob (F-statistic):          9.08e-230\n",
      "Time:                        14:18:40   Log-Likelihood:                -15711.\n",
      "No. Observations:                1459   AIC:                         3.143e+04\n",
      "Df Residuals:                    1456   BIC:                         3.144e+04\n",
      "Df Model:                           2                                         \n",
      "Covariance Type:            nonrobust                                         \n",
      "==============================================================================\n",
      "                 coef    std err          t      P>|t|      [0.025      0.975]\n",
      "------------------------------------------------------------------------------\n",
      "const       1.538e+05    942.132    163.194      0.000    1.52e+05    1.56e+05\n",
      "x1             2.4568      0.065     37.698      0.000       2.329       2.585\n",
      "x2            22.8276      7.555      3.022      0.003       8.008      37.647\n",
      "==============================================================================\n",
      "Omnibus:                       75.267   Durbin-Watson:                   1.749\n",
      "Prob(Omnibus):                  0.000   Jarque-Bera (JB):              168.709\n",
      "Skew:                           0.311   Prob(JB):                     2.32e-37\n",
      "Kurtosis:                       4.545   Cond. No.                     3.44e+04\n",
      "==============================================================================\n",
      "\n",
      "Notes:\n",
      "[1] Standard Errors assume that the covariance matrix of the errors is correctly specified.\n",
      "[2] The condition number is large, 3.44e+04. This might indicate that there are\n",
      "strong multicollinearity or other numerical problems.\n"
     ]
    }
   ],
   "source": [
    "print(model_r_lotArea_msSubClass.summary())"
   ]
  },
  {
   "cell_type": "code",
   "execution_count": 35,
   "id": "f59e1b7c",
   "metadata": {
    "collapsed": true,
    "execution": {
     "iopub.execute_input": "2024-02-05T14:18:40.332389Z",
     "iopub.status.busy": "2024-02-05T14:18:40.331870Z",
     "iopub.status.idle": "2024-02-05T14:18:40.352731Z",
     "shell.execute_reply": "2024-02-05T14:18:40.350664Z"
    },
    "jupyter": {
     "outputs_hidden": true
    },
    "papermill": {
     "duration": 0.051958,
     "end_time": "2024-02-05T14:18:40.355860",
     "exception": false,
     "start_time": "2024-02-05T14:18:40.303902",
     "status": "completed"
    },
    "tags": []
   },
   "outputs": [
    {
     "name": "stdout",
     "output_type": "stream",
     "text": [
      "                            OLS Regression Results                            \n",
      "==============================================================================\n",
      "Dep. Variable:                      y   R-squared:                       0.513\n",
      "Model:                            OLS   Adj. R-squared:                  0.512\n",
      "Method:                 Least Squares   F-statistic:                     765.7\n",
      "Date:                Mon, 05 Feb 2024   Prob (F-statistic):          5.74e-228\n",
      "Time:                        14:18:40   Log-Likelihood:                -15716.\n",
      "No. Observations:                1459   AIC:                         3.144e+04\n",
      "Df Residuals:                    1456   BIC:                         3.145e+04\n",
      "Df Model:                           2                                         \n",
      "Covariance Type:            nonrobust                                         \n",
      "==============================================================================\n",
      "                 coef    std err          t      P>|t|      [0.025      0.975]\n",
      "------------------------------------------------------------------------------\n",
      "const       1.547e+05   1393.148    111.014      0.000    1.52e+05    1.57e+05\n",
      "x1             2.3800      0.061     38.798      0.000       2.260       2.500\n",
      "x2           190.1297    211.573      0.899      0.369    -224.891     605.150\n",
      "==============================================================================\n",
      "Omnibus:                       91.185   Durbin-Watson:                   1.774\n",
      "Prob(Omnibus):                  0.000   Jarque-Bera (JB):              203.764\n",
      "Skew:                           0.384   Prob(JB):                     5.67e-45\n",
      "Kurtosis:                       4.662   Cond. No.                     5.12e+04\n",
      "==============================================================================\n",
      "\n",
      "Notes:\n",
      "[1] Standard Errors assume that the covariance matrix of the errors is correctly specified.\n",
      "[2] The condition number is large, 5.12e+04. This might indicate that there are\n",
      "strong multicollinearity or other numerical problems.\n"
     ]
    }
   ],
   "source": [
    "print(model_r_lotArea_overallQual.summary())"
   ]
  },
  {
   "cell_type": "code",
   "execution_count": 36,
   "id": "a181892a",
   "metadata": {
    "collapsed": true,
    "execution": {
     "iopub.execute_input": "2024-02-05T14:18:40.413915Z",
     "iopub.status.busy": "2024-02-05T14:18:40.413398Z",
     "iopub.status.idle": "2024-02-05T14:18:40.438305Z",
     "shell.execute_reply": "2024-02-05T14:18:40.436201Z"
    },
    "jupyter": {
     "outputs_hidden": true
    },
    "papermill": {
     "duration": 0.057134,
     "end_time": "2024-02-05T14:18:40.440913",
     "exception": false,
     "start_time": "2024-02-05T14:18:40.383779",
     "status": "completed"
    },
    "tags": []
   },
   "outputs": [
    {
     "name": "stdout",
     "output_type": "stream",
     "text": [
      "                            OLS Regression Results                            \n",
      "==============================================================================\n",
      "Dep. Variable:                      y   R-squared:                       0.512\n",
      "Model:                            OLS   Adj. R-squared:                  0.512\n",
      "Method:                 Least Squares   F-statistic:                     765.2\n",
      "Date:                Mon, 05 Feb 2024   Prob (F-statistic):          7.45e-228\n",
      "Time:                        14:18:40   Log-Likelihood:                -15716.\n",
      "No. Observations:                1459   AIC:                         3.144e+04\n",
      "Df Residuals:                    1456   BIC:                         3.145e+04\n",
      "Df Model:                           2                                         \n",
      "Covariance Type:            nonrobust                                         \n",
      "==============================================================================\n",
      "                 coef    std err          t      P>|t|      [0.025      0.975]\n",
      "------------------------------------------------------------------------------\n",
      "const       1.566e+05   1714.377     91.345      0.000    1.53e+05     1.6e+05\n",
      "x1             2.3826      0.061     38.852      0.000       2.262       2.503\n",
      "x2          -145.9967    272.861     -0.535      0.593    -681.239     389.245\n",
      "==============================================================================\n",
      "Omnibus:                       89.026   Durbin-Watson:                   1.775\n",
      "Prob(Omnibus):                  0.000   Jarque-Bera (JB):              197.417\n",
      "Skew:                           0.377   Prob(JB):                     1.35e-43\n",
      "Kurtosis:                       4.637   Cond. No.                     6.31e+04\n",
      "==============================================================================\n",
      "\n",
      "Notes:\n",
      "[1] Standard Errors assume that the covariance matrix of the errors is correctly specified.\n",
      "[2] The condition number is large, 6.31e+04. This might indicate that there are\n",
      "strong multicollinearity or other numerical problems.\n"
     ]
    }
   ],
   "source": [
    "print(model_r_lotArea_overallCond.summary())"
   ]
  },
  {
   "cell_type": "code",
   "execution_count": 37,
   "id": "155b104c",
   "metadata": {
    "collapsed": true,
    "execution": {
     "iopub.execute_input": "2024-02-05T14:18:40.497310Z",
     "iopub.status.busy": "2024-02-05T14:18:40.496844Z",
     "iopub.status.idle": "2024-02-05T14:18:40.516096Z",
     "shell.execute_reply": "2024-02-05T14:18:40.514758Z"
    },
    "jupyter": {
     "outputs_hidden": true
    },
    "papermill": {
     "duration": 0.051537,
     "end_time": "2024-02-05T14:18:40.519005",
     "exception": false,
     "start_time": "2024-02-05T14:18:40.467468",
     "status": "completed"
    },
    "tags": []
   },
   "outputs": [
    {
     "name": "stdout",
     "output_type": "stream",
     "text": [
      "                            OLS Regression Results                            \n",
      "==============================================================================\n",
      "Dep. Variable:                      y   R-squared:                       0.062\n",
      "Model:                            OLS   Adj. R-squared:                  0.061\n",
      "Method:                 Least Squares   F-statistic:                     48.21\n",
      "Date:                Mon, 05 Feb 2024   Prob (F-statistic):           5.35e-21\n",
      "Time:                        14:18:40   Log-Likelihood:                -16193.\n",
      "No. Observations:                1459   AIC:                         3.239e+04\n",
      "Df Residuals:                    1456   BIC:                         3.241e+04\n",
      "Df Model:                           2                                         \n",
      "Covariance Type:            nonrobust                                         \n",
      "==============================================================================\n",
      "                 coef    std err          t      P>|t|      [0.025      0.975]\n",
      "------------------------------------------------------------------------------\n",
      "const       1.787e+05   1156.346    154.509      0.000    1.76e+05    1.81e+05\n",
      "x1            74.1402     13.405      5.531      0.000      47.845     100.436\n",
      "x2           -65.8022     10.118     -6.503      0.000     -85.651     -45.954\n",
      "==============================================================================\n",
      "Omnibus:                      369.877   Durbin-Watson:                   1.734\n",
      "Prob(Omnibus):                  0.000   Jarque-Bera (JB):             1433.184\n",
      "Skew:                           1.180   Prob(JB):                         0.00\n",
      "Kurtosis:                       7.243   Cond. No.                         243.\n",
      "==============================================================================\n",
      "\n",
      "Notes:\n",
      "[1] Standard Errors assume that the covariance matrix of the errors is correctly specified.\n"
     ]
    }
   ],
   "source": [
    "print(model_r_lotFrontage_msSubClass.summary())"
   ]
  },
  {
   "cell_type": "code",
   "execution_count": 38,
   "id": "643682ea",
   "metadata": {
    "collapsed": true,
    "execution": {
     "iopub.execute_input": "2024-02-05T14:18:40.576724Z",
     "iopub.status.busy": "2024-02-05T14:18:40.576176Z",
     "iopub.status.idle": "2024-02-05T14:18:40.599008Z",
     "shell.execute_reply": "2024-02-05T14:18:40.597325Z"
    },
    "jupyter": {
     "outputs_hidden": true
    },
    "papermill": {
     "duration": 0.056249,
     "end_time": "2024-02-05T14:18:40.601860",
     "exception": false,
     "start_time": "2024-02-05T14:18:40.545611",
     "status": "completed"
    },
    "tags": []
   },
   "outputs": [
    {
     "name": "stdout",
     "output_type": "stream",
     "text": [
      "                            OLS Regression Results                            \n",
      "==============================================================================\n",
      "Dep. Variable:                      y   R-squared:                       0.041\n",
      "Model:                            OLS   Adj. R-squared:                  0.040\n",
      "Method:                 Least Squares   F-statistic:                     31.03\n",
      "Date:                Mon, 05 Feb 2024   Prob (F-statistic):           6.36e-14\n",
      "Time:                        14:18:40   Log-Likelihood:                -16209.\n",
      "No. Observations:                1459   AIC:                         3.242e+04\n",
      "Df Residuals:                    1456   BIC:                         3.244e+04\n",
      "Df Model:                           2                                         \n",
      "Covariance Type:            nonrobust                                         \n",
      "==============================================================================\n",
      "                 coef    std err          t      P>|t|      [0.025      0.975]\n",
      "------------------------------------------------------------------------------\n",
      "const       1.684e+05   1940.123     86.803      0.000    1.65e+05    1.72e+05\n",
      "x1            92.0935     13.190      6.982      0.000      66.220     117.967\n",
      "x2           895.2774    296.208      3.022      0.003     314.238    1476.317\n",
      "==============================================================================\n",
      "Omnibus:                      330.183   Durbin-Watson:                   1.685\n",
      "Prob(Omnibus):                  0.000   Jarque-Bera (JB):             1290.574\n",
      "Skew:                           1.046   Prob(JB):                    5.69e-281\n",
      "Kurtosis:                       7.105   Cond. No.                         307.\n",
      "==============================================================================\n",
      "\n",
      "Notes:\n",
      "[1] Standard Errors assume that the covariance matrix of the errors is correctly specified.\n"
     ]
    }
   ],
   "source": [
    "print(model_r_lotFrontage_overallQual.summary())"
   ]
  },
  {
   "cell_type": "code",
   "execution_count": 39,
   "id": "10786ce4",
   "metadata": {
    "collapsed": true,
    "execution": {
     "iopub.execute_input": "2024-02-05T14:18:40.660394Z",
     "iopub.status.busy": "2024-02-05T14:18:40.658864Z",
     "iopub.status.idle": "2024-02-05T14:18:40.679314Z",
     "shell.execute_reply": "2024-02-05T14:18:40.677304Z"
    },
    "jupyter": {
     "outputs_hidden": true
    },
    "papermill": {
     "duration": 0.052842,
     "end_time": "2024-02-05T14:18:40.682277",
     "exception": false,
     "start_time": "2024-02-05T14:18:40.629435",
     "status": "completed"
    },
    "tags": []
   },
   "outputs": [
    {
     "name": "stdout",
     "output_type": "stream",
     "text": [
      "                            OLS Regression Results                            \n",
      "==============================================================================\n",
      "Dep. Variable:                      y   R-squared:                       0.041\n",
      "Model:                            OLS   Adj. R-squared:                  0.040\n",
      "Method:                 Least Squares   F-statistic:                     31.39\n",
      "Date:                Mon, 05 Feb 2024   Prob (F-statistic):           4.50e-14\n",
      "Time:                        14:18:40   Log-Likelihood:                -16209.\n",
      "No. Observations:                1459   AIC:                         3.242e+04\n",
      "Df Residuals:                    1456   BIC:                         3.244e+04\n",
      "Df Model:                           2                                         \n",
      "Covariance Type:            nonrobust                                         \n",
      "==============================================================================\n",
      "                 coef    std err          t      P>|t|      [0.025      0.975]\n",
      "------------------------------------------------------------------------------\n",
      "const       1.803e+05   2298.745     78.442      0.000    1.76e+05    1.85e+05\n",
      "x1            94.8575     13.138      7.220      0.000      69.085     120.630\n",
      "x2         -1193.4215    380.630     -3.135      0.002   -1940.063    -446.780\n",
      "==============================================================================\n",
      "Omnibus:                      311.196   Durbin-Watson:                   1.679\n",
      "Prob(Omnibus):                  0.000   Jarque-Bera (JB):             1145.602\n",
      "Skew:                           1.003   Prob(JB):                    1.72e-249\n",
      "Kurtosis:                       6.850   Cond. No.                         365.\n",
      "==============================================================================\n",
      "\n",
      "Notes:\n",
      "[1] Standard Errors assume that the covariance matrix of the errors is correctly specified.\n"
     ]
    }
   ],
   "source": [
    "print(model_r_lotFrontage_overallCond.summary())"
   ]
  },
  {
   "cell_type": "code",
   "execution_count": 40,
   "id": "21880483",
   "metadata": {
    "execution": {
     "iopub.execute_input": "2024-02-05T14:18:40.741077Z",
     "iopub.status.busy": "2024-02-05T14:18:40.740589Z",
     "iopub.status.idle": "2024-02-05T14:18:40.763877Z",
     "shell.execute_reply": "2024-02-05T14:18:40.762788Z"
    },
    "papermill": {
     "duration": 0.056743,
     "end_time": "2024-02-05T14:18:40.767072",
     "exception": false,
     "start_time": "2024-02-05T14:18:40.710329",
     "status": "completed"
    },
    "tags": []
   },
   "outputs": [
    {
     "name": "stdout",
     "output_type": "stream",
     "text": [
      "                            OLS Regression Results                            \n",
      "==============================================================================\n",
      "Dep. Variable:                      y   R-squared:                       0.053\n",
      "Model:                            OLS   Adj. R-squared:                  0.051\n",
      "Method:                 Least Squares   F-statistic:                     40.40\n",
      "Date:                Mon, 05 Feb 2024   Prob (F-statistic):           8.43e-18\n",
      "Time:                        14:18:40   Log-Likelihood:                -16200.\n",
      "No. Observations:                1459   AIC:                         3.241e+04\n",
      "Df Residuals:                    1456   BIC:                         3.242e+04\n",
      "Df Model:                           2                                         \n",
      "Covariance Type:            nonrobust                                         \n",
      "==============================================================================\n",
      "                 coef    std err          t      P>|t|      [0.025      0.975]\n",
      "------------------------------------------------------------------------------\n",
      "const       1.768e+05   1899.868     93.046      0.000    1.73e+05    1.81e+05\n",
      "x1           -80.9233      9.863     -8.205      0.000    -100.271     -61.576\n",
      "x2          1160.0909    293.440      3.953      0.000     584.480    1735.701\n",
      "==============================================================================\n",
      "Omnibus:                      377.602   Durbin-Watson:                   1.744\n",
      "Prob(Omnibus):                  0.000   Jarque-Bera (JB):             1511.639\n",
      "Skew:                           1.195   Prob(JB):                         0.00\n",
      "Kurtosis:                       7.377   Cond. No.                         327.\n",
      "==============================================================================\n",
      "\n",
      "Notes:\n",
      "[1] Standard Errors assume that the covariance matrix of the errors is correctly specified.\n"
     ]
    }
   ],
   "source": [
    "print(model_r_msSubClass_overallQual.summary())"
   ]
  },
  {
   "cell_type": "code",
   "execution_count": 41,
   "id": "11d11a5f",
   "metadata": {
    "execution": {
     "iopub.execute_input": "2024-02-05T14:18:40.828299Z",
     "iopub.status.busy": "2024-02-05T14:18:40.827853Z",
     "iopub.status.idle": "2024-02-05T14:18:40.847646Z",
     "shell.execute_reply": "2024-02-05T14:18:40.846157Z"
    },
    "papermill": {
     "duration": 0.052941,
     "end_time": "2024-02-05T14:18:40.850708",
     "exception": false,
     "start_time": "2024-02-05T14:18:40.797767",
     "status": "completed"
    },
    "tags": []
   },
   "outputs": [
    {
     "name": "stdout",
     "output_type": "stream",
     "text": [
      "                            OLS Regression Results                            \n",
      "==============================================================================\n",
      "Dep. Variable:                      y   R-squared:                       0.052\n",
      "Model:                            OLS   Adj. R-squared:                  0.051\n",
      "Method:                 Least Squares   F-statistic:                     40.06\n",
      "Date:                Mon, 05 Feb 2024   Prob (F-statistic):           1.16e-17\n",
      "Time:                        14:18:40   Log-Likelihood:                -16201.\n",
      "No. Observations:                1459   AIC:                         3.241e+04\n",
      "Df Residuals:                    1456   BIC:                         3.242e+04\n",
      "Df Model:                           2                                         \n",
      "Covariance Type:            nonrobust                                         \n",
      "==============================================================================\n",
      "                 coef    std err          t      P>|t|      [0.025      0.975]\n",
      "------------------------------------------------------------------------------\n",
      "const       1.921e+05   2260.642     84.960      0.000    1.88e+05    1.96e+05\n",
      "x1           -82.3173      9.885     -8.328      0.000    -101.707     -62.927\n",
      "x2         -1468.9197    379.393     -3.872      0.000   -2213.136    -724.703\n",
      "==============================================================================\n",
      "Omnibus:                      348.311   Durbin-Watson:                   1.734\n",
      "Prob(Omnibus):                  0.000   Jarque-Bera (JB):             1298.937\n",
      "Skew:                           1.121   Prob(JB):                    8.70e-283\n",
      "Kurtosis:                       7.042   Cond. No.                         390.\n",
      "==============================================================================\n",
      "\n",
      "Notes:\n",
      "[1] Standard Errors assume that the covariance matrix of the errors is correctly specified.\n"
     ]
    }
   ],
   "source": [
    "print(model_r_msSubClass_overallCond.summary())"
   ]
  },
  {
   "cell_type": "code",
   "execution_count": 42,
   "id": "f4ac3e29",
   "metadata": {
    "execution": {
     "iopub.execute_input": "2024-02-05T14:18:40.910751Z",
     "iopub.status.busy": "2024-02-05T14:18:40.909563Z",
     "iopub.status.idle": "2024-02-05T14:18:40.930781Z",
     "shell.execute_reply": "2024-02-05T14:18:40.929875Z"
    },
    "papermill": {
     "duration": 0.054382,
     "end_time": "2024-02-05T14:18:40.933778",
     "exception": false,
     "start_time": "2024-02-05T14:18:40.879396",
     "status": "completed"
    },
    "tags": []
   },
   "outputs": [
    {
     "name": "stdout",
     "output_type": "stream",
     "text": [
      "                            OLS Regression Results                            \n",
      "==============================================================================\n",
      "Dep. Variable:                      y   R-squared:                       0.014\n",
      "Model:                            OLS   Adj. R-squared:                  0.013\n",
      "Method:                 Least Squares   F-statistic:                     10.65\n",
      "Date:                Mon, 05 Feb 2024   Prob (F-statistic):           2.57e-05\n",
      "Time:                        14:18:40   Log-Likelihood:                -16229.\n",
      "No. Observations:                1459   AIC:                         3.246e+04\n",
      "Df Residuals:                    1456   BIC:                         3.248e+04\n",
      "Df Model:                           2                                         \n",
      "Covariance Type:            nonrobust                                         \n",
      "==============================================================================\n",
      "                 coef    std err          t      P>|t|      [0.025      0.975]\n",
      "------------------------------------------------------------------------------\n",
      "const       1.794e+05   2985.092     60.086      0.000    1.74e+05    1.85e+05\n",
      "x1           993.3890    300.495      3.306      0.001     403.939    1582.839\n",
      "x2         -1119.3042    387.663     -2.887      0.004   -1879.741    -358.867\n",
      "==============================================================================\n",
      "Omnibus:                      281.595   Durbin-Watson:                   1.649\n",
      "Prob(Omnibus):                  0.000   Jarque-Bera (JB):             1083.041\n",
      "Skew:                           0.893   Prob(JB):                    6.62e-236\n",
      "Kurtosis:                       6.825   Cond. No.                         58.7\n",
      "==============================================================================\n",
      "\n",
      "Notes:\n",
      "[1] Standard Errors assume that the covariance matrix of the errors is correctly specified.\n"
     ]
    }
   ],
   "source": [
    "print(model_r_overallQual_overallCond.summary())"
   ]
  },
  {
   "cell_type": "markdown",
   "id": "a6a2cd45",
   "metadata": {
    "papermill": {
     "duration": 0.028663,
     "end_time": "2024-02-05T14:18:40.990954",
     "exception": false,
     "start_time": "2024-02-05T14:18:40.962291",
     "status": "completed"
    },
    "tags": []
   },
   "source": [
    "## Predict Response"
   ]
  },
  {
   "cell_type": "code",
   "execution_count": 43,
   "id": "b01e5f20",
   "metadata": {
    "execution": {
     "iopub.execute_input": "2024-02-05T14:18:41.052040Z",
     "iopub.status.busy": "2024-02-05T14:18:41.051607Z",
     "iopub.status.idle": "2024-02-05T14:18:41.058187Z",
     "shell.execute_reply": "2024-02-05T14:18:41.056997Z"
    },
    "papermill": {
     "duration": 0.039431,
     "end_time": "2024-02-05T14:18:41.061113",
     "exception": false,
     "start_time": "2024-02-05T14:18:41.021682",
     "status": "completed"
    },
    "tags": []
   },
   "outputs": [
    {
     "name": "stdout",
     "output_type": "stream",
     "text": [
      "predicted response:\n",
      "[183720.52989267 189995.635597   188876.03634239 ... 204528.10558872\n",
      " 180705.91593207 178923.92829614]\n"
     ]
    }
   ],
   "source": [
    "print(f\"predicted response:\\n{model_r_lotArea_lotFrontage.fittedvalues}\")\n",
    "# print(f\"predicted response:\\n{model_r_lotArea_lotFrontage.predict(x)}\")"
   ]
  },
  {
   "cell_type": "code",
   "execution_count": 44,
   "id": "ce3e4808",
   "metadata": {
    "execution": {
     "iopub.execute_input": "2024-02-05T14:18:41.121899Z",
     "iopub.status.busy": "2024-02-05T14:18:41.121479Z",
     "iopub.status.idle": "2024-02-05T14:18:41.127289Z",
     "shell.execute_reply": "2024-02-05T14:18:41.126105Z"
    },
    "papermill": {
     "duration": 0.038483,
     "end_time": "2024-02-05T14:18:41.129850",
     "exception": false,
     "start_time": "2024-02-05T14:18:41.091367",
     "status": "completed"
    },
    "tags": []
   },
   "outputs": [
    {
     "name": "stdout",
     "output_type": "stream",
     "text": [
      "predicted response:\n",
      "[182759.81969211 189257.97519109 189097.47147067 ... 203342.63510628\n",
      " 181342.16977759 178771.66898968]\n"
     ]
    }
   ],
   "source": [
    "print(f\"predicted response:\\n{model_r_lotArea_msSubClass.fittedvalues}\")\n",
    "# print(f\"predicted response:\\n{model_r_lotArea_msSubClass.predict(x)}\")"
   ]
  },
  {
   "cell_type": "code",
   "execution_count": 45,
   "id": "788654e7",
   "metadata": {
    "execution": {
     "iopub.execute_input": "2024-02-05T14:18:41.188360Z",
     "iopub.status.busy": "2024-02-05T14:18:41.187937Z",
     "iopub.status.idle": "2024-02-05T14:18:41.194761Z",
     "shell.execute_reply": "2024-02-05T14:18:41.193156Z"
    },
    "papermill": {
     "duration": 0.039686,
     "end_time": "2024-02-05T14:18:41.197858",
     "exception": false,
     "start_time": "2024-02-05T14:18:41.158172",
     "status": "completed"
    },
    "tags": []
   },
   "outputs": [
    {
     "name": "stdout",
     "output_type": "stream",
     "text": [
      "predicted response:\n",
      "[183269.59273119 189754.87198856 188524.67409556 ... 203209.38968352\n",
      " 180458.79060649 178901.71476972]\n"
     ]
    }
   ],
   "source": [
    "print(f\"predicted response:\\n{model_r_lotArea_overallQual.fittedvalues}\")\n",
    "# print(f\"predicted response:\\n{model_r_lotArea_overallQual.predict(x)}\")"
   ]
  },
  {
   "cell_type": "code",
   "execution_count": 46,
   "id": "1049eebf",
   "metadata": {
    "execution": {
     "iopub.execute_input": "2024-02-05T14:18:41.260009Z",
     "iopub.status.busy": "2024-02-05T14:18:41.259012Z",
     "iopub.status.idle": "2024-02-05T14:18:41.266467Z",
     "shell.execute_reply": "2024-02-05T14:18:41.265022Z"
    },
    "papermill": {
     "duration": 0.043721,
     "end_time": "2024-02-05T14:18:41.270379",
     "exception": false,
     "start_time": "2024-02-05T14:18:41.226658",
     "status": "completed"
    },
    "tags": []
   },
   "outputs": [
    {
     "name": "stdout",
     "output_type": "stream",
     "text": [
      "predicted response:\n",
      "[183414.18118963 189716.10253805 188820.91225523 ... 203229.43099146\n",
      " 180746.3521608  178806.9328876 ]\n"
     ]
    }
   ],
   "source": [
    "print(f\"predicted response:\\n{model_r_lotArea_overallCond.fittedvalues}\")\n",
    "# print(f\"predicted response:\\n{model_r_lotArea_overallCond.predict(x)}\")"
   ]
  },
  {
   "cell_type": "code",
   "execution_count": 47,
   "id": "ba2a6dd7",
   "metadata": {
    "execution": {
     "iopub.execute_input": "2024-02-05T14:18:41.332485Z",
     "iopub.status.busy": "2024-02-05T14:18:41.332021Z",
     "iopub.status.idle": "2024-02-05T14:18:41.338498Z",
     "shell.execute_reply": "2024-02-05T14:18:41.337290Z"
    },
    "papermill": {
     "duration": 0.041462,
     "end_time": "2024-02-05T14:18:41.340976",
     "exception": false,
     "start_time": "2024-02-05T14:18:41.299514",
     "status": "completed"
    },
    "tags": []
   },
   "outputs": [
    {
     "name": "stdout",
     "output_type": "stream",
     "text": [
      "predicted response:\n",
      "[183281.2356805  183355.37585321 180204.30698275 ... 189212.44949747\n",
      " 177669.57012178 180204.30698275]\n"
     ]
    }
   ],
   "source": [
    "print(f\"predicted response:\\n{model_r_lotFrontage_msSubClass.fittedvalues}\")\n",
    "# print(f\"predicted response:\\n{model_r_lotFrontage_msSubClass.predict(x)}\")"
   ]
  },
  {
   "cell_type": "code",
   "execution_count": 48,
   "id": "0195a4e7",
   "metadata": {
    "execution": {
     "iopub.execute_input": "2024-02-05T14:18:41.403125Z",
     "iopub.status.busy": "2024-02-05T14:18:41.402691Z",
     "iopub.status.idle": "2024-02-05T14:18:41.408797Z",
     "shell.execute_reply": "2024-02-05T14:18:41.407323Z"
    },
    "papermill": {
     "duration": 0.040644,
     "end_time": "2024-02-05T14:18:41.411589",
     "exception": false,
     "start_time": "2024-02-05T14:18:41.370945",
     "status": "completed"
    },
    "tags": []
   },
   "outputs": [
    {
     "name": "stdout",
     "output_type": "stream",
     "text": [
      "predicted response:\n",
      "[180252.39949856 181239.77039683 179699.83861114 ... 187619.87799747\n",
      " 178594.71683631 181490.39344521]\n"
     ]
    }
   ],
   "source": [
    "print(f\"predicted response:\\n{model_r_lotFrontage_overallQual.fittedvalues}\")\n",
    "# print(f\"predicted response:\\n{model_r_lotFrontage_overallQual.predict(x)}\")"
   ]
  },
  {
   "cell_type": "code",
   "execution_count": 49,
   "id": "63afb004",
   "metadata": {
    "execution": {
     "iopub.execute_input": "2024-02-05T14:18:41.474249Z",
     "iopub.status.busy": "2024-02-05T14:18:41.473561Z",
     "iopub.status.idle": "2024-02-05T14:18:41.480449Z",
     "shell.execute_reply": "2024-02-05T14:18:41.479268Z"
    },
    "papermill": {
     "duration": 0.041184,
     "end_time": "2024-02-05T14:18:41.483480",
     "exception": false,
     "start_time": "2024-02-05T14:18:41.442296",
     "status": "completed"
    },
    "tags": []
   },
   "outputs": [
    {
     "name": "stdout",
     "output_type": "stream",
     "text": [
      "predicted response:\n",
      "[180746.80060091 180841.6581139  181371.0770677  ... 187141.98009575\n",
      " 180232.78691176 181371.0770677 ]\n"
     ]
    }
   ],
   "source": [
    "print(f\"predicted response:\\n{model_r_lotFrontage_overallCond.fittedvalues}\")\n",
    "# print(f\"predicted response:\\n{model_r_lotFrontage_overallCond.predict(x)}\")"
   ]
  },
  {
   "cell_type": "code",
   "execution_count": 50,
   "id": "796c41ed",
   "metadata": {
    "execution": {
     "iopub.execute_input": "2024-02-05T14:18:41.547105Z",
     "iopub.status.busy": "2024-02-05T14:18:41.546682Z",
     "iopub.status.idle": "2024-02-05T14:18:41.551574Z",
     "shell.execute_reply": "2024-02-05T14:18:41.550722Z"
    },
    "papermill": {
     "duration": 0.040883,
     "end_time": "2024-02-05T14:18:41.555431",
     "exception": false,
     "start_time": "2024-02-05T14:18:41.514548",
     "status": "completed"
    },
    "tags": []
   },
   "outputs": [
    {
     "name": "stdout",
     "output_type": "stream",
     "text": [
      "predicted response:\n",
      "[180957.16708318 182117.25794013 177720.23442184 ... 180957.16708318\n",
      " 175697.15150851 180040.41613574]\n"
     ]
    }
   ],
   "source": [
    "print(f\"predicted response:\\n{model_r_msSubClass_overallQual.fittedvalues}\")\n",
    "# print(f\"predicted response:\\n{model_r_msSubClass_overallQual.predict(x)}\")"
   ]
  },
  {
   "cell_type": "code",
   "execution_count": 51,
   "id": "ca5a9dcc",
   "metadata": {
    "execution": {
     "iopub.execute_input": "2024-02-05T14:18:41.617275Z",
     "iopub.status.busy": "2024-02-05T14:18:41.616855Z",
     "iopub.status.idle": "2024-02-05T14:18:41.625180Z",
     "shell.execute_reply": "2024-02-05T14:18:41.623683Z"
    },
    "papermill": {
     "duration": 0.042758,
     "end_time": "2024-02-05T14:18:41.628232",
     "exception": false,
     "start_time": "2024-02-05T14:18:41.585474",
     "status": "completed"
    },
    "tags": []
   },
   "outputs": [
    {
     "name": "stdout",
     "output_type": "stream",
     "text": [
      "predicted response:\n",
      "[181605.37707654 181605.37707654 179781.60388405 ... 180136.45738913\n",
      " 177723.67083412 179781.60388405]\n"
     ]
    }
   ],
   "source": [
    "print(f\"predicted response:\\n{model_r_msSubClass_overallCond.fittedvalues}\")\n",
    "# print(f\"predicted response:\\n{model_r_msSubClass_overallCond.predict(x)}\")"
   ]
  },
  {
   "cell_type": "code",
   "execution_count": 52,
   "id": "c300b9fc",
   "metadata": {
    "execution": {
     "iopub.execute_input": "2024-02-05T14:18:41.689688Z",
     "iopub.status.busy": "2024-02-05T14:18:41.689243Z",
     "iopub.status.idle": "2024-02-05T14:18:41.695757Z",
     "shell.execute_reply": "2024-02-05T14:18:41.694636Z"
    },
    "papermill": {
     "duration": 0.040206,
     "end_time": "2024-02-05T14:18:41.698274",
     "exception": false,
     "start_time": "2024-02-05T14:18:41.658068",
     "status": "completed"
    },
    "tags": []
   },
   "outputs": [
    {
     "name": "stdout",
     "output_type": "stream",
     "text": [
      "predicted response:\n",
      "[177612.80013478 178606.18913686 178732.10432852 ... 176493.49594103\n",
      " 178732.10432852 180718.88233269]\n"
     ]
    }
   ],
   "source": [
    "print(f\"predicted response:\\n{model_r_overallQual_overallCond.fittedvalues}\")\n",
    "# print(f\"predicted response:\\n{model_r_overallQual_overallCond.predict(x)}\")"
   ]
  }
 ],
 "metadata": {
  "kaggle": {
   "accelerator": "none",
   "dataSources": [
    {
     "datasetId": 4348542,
     "sourceId": 7470021,
     "sourceType": "datasetVersion"
    }
   ],
   "dockerImageVersionId": 30635,
   "isGpuEnabled": false,
   "isInternetEnabled": false,
   "language": "python",
   "sourceType": "notebook"
  },
  "kernelspec": {
   "display_name": "Python 3",
   "language": "python",
   "name": "python3"
  },
  "language_info": {
   "codemirror_mode": {
    "name": "ipython",
    "version": 3
   },
   "file_extension": ".py",
   "mimetype": "text/x-python",
   "name": "python",
   "nbconvert_exporter": "python",
   "pygments_lexer": "ipython3",
   "version": "3.10.12"
  },
  "papermill": {
   "default_parameters": {},
   "duration": 16.193241,
   "end_time": "2024-02-05T14:18:42.652522",
   "environment_variables": {},
   "exception": null,
   "input_path": "__notebook__.ipynb",
   "output_path": "__notebook__.ipynb",
   "parameters": {},
   "start_time": "2024-02-05T14:18:26.459281",
   "version": "2.4.0"
  }
 },
 "nbformat": 4,
 "nbformat_minor": 5
}

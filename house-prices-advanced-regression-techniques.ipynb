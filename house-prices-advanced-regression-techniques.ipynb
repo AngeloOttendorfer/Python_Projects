{
 "cells": [
  {
   "cell_type": "code",
   "execution_count": 1,
   "id": "c757e9d7",
   "metadata": {
    "_cell_guid": "b1076dfc-b9ad-4769-8c92-a6c4dae69d19",
    "_uuid": "8f2839f25d086af736a60e9eeb907d3b93b6e0e5",
    "execution": {
     "iopub.execute_input": "2024-01-25T13:57:08.379602Z",
     "iopub.status.busy": "2024-01-25T13:57:08.378746Z",
     "iopub.status.idle": "2024-01-25T13:57:09.279941Z",
     "shell.execute_reply": "2024-01-25T13:57:09.279010Z"
    },
    "papermill": {
     "duration": 0.921574,
     "end_time": "2024-01-25T13:57:09.282742",
     "exception": false,
     "start_time": "2024-01-25T13:57:08.361168",
     "status": "completed"
    },
    "tags": []
   },
   "outputs": [
    {
     "name": "stdout",
     "output_type": "stream",
     "text": [
      "/kaggle/input/house-prices-prediction/sample_submission.csv\n",
      "/kaggle/input/house-prices-prediction/data_description.txt\n",
      "/kaggle/input/house-prices-prediction/train.csv\n",
      "/kaggle/input/house-prices-prediction/test.csv\n"
     ]
    }
   ],
   "source": [
    "# This Python 3 environment comes with many helpful analytics libraries installed\n",
    "# It is defined by the kaggle/python Docker image: https://github.com/kaggle/docker-python\n",
    "# For example, here's several helpful packages to load\n",
    "\n",
    "import numpy as np # linear algebra\n",
    "import pandas as pd # data processing, CSV file I/O (e.g. pd.read_csv)\n",
    "\n",
    "# Input data files are available in the read-only \"../input/\" directory\n",
    "# For example, running this (by clicking run or pressing Shift+Enter) will list all files under the input directory\n",
    "\n",
    "import os\n",
    "for dirname, _, filenames in os.walk('/kaggle/input'):\n",
    "    for filename in filenames:\n",
    "        print(os.path.join(dirname, filename))\n",
    "\n",
    "# You can write up to 20GB to the current directory (/kaggle/working/) that gets preserved as output when you create a version using \"Save & Run All\" \n",
    "# You can also write temporary files to /kaggle/temp/, but they won't be saved outside of the current session"
   ]
  },
  {
   "cell_type": "markdown",
   "id": "125d3e41",
   "metadata": {
    "papermill": {
     "duration": 0.014798,
     "end_time": "2024-01-25T13:57:09.312619",
     "exception": false,
     "start_time": "2024-01-25T13:57:09.297821",
     "status": "completed"
    },
    "tags": []
   },
   "source": [
    "# Create a Dataframe containing the data set"
   ]
  },
  {
   "cell_type": "code",
   "execution_count": 2,
   "id": "c7026206",
   "metadata": {
    "execution": {
     "iopub.execute_input": "2024-01-25T13:57:09.345286Z",
     "iopub.status.busy": "2024-01-25T13:57:09.344517Z",
     "iopub.status.idle": "2024-01-25T13:57:09.439565Z",
     "shell.execute_reply": "2024-01-25T13:57:09.438386Z"
    },
    "papermill": {
     "duration": 0.114877,
     "end_time": "2024-01-25T13:57:09.442207",
     "exception": false,
     "start_time": "2024-01-25T13:57:09.327330",
     "status": "completed"
    },
    "tags": []
   },
   "outputs": [],
   "source": [
    "df_train = pd.read_csv('/kaggle/input/house-prices-prediction/test.csv')\n",
    "df_test = pd.read_csv('/kaggle/input/house-prices-prediction/test.csv')\n",
    "df_sample_submission = pd.read_csv('/kaggle/input/house-prices-prediction/sample_submission.csv')"
   ]
  },
  {
   "cell_type": "markdown",
   "id": "ebc38a0d",
   "metadata": {
    "papermill": {
     "duration": 0.014205,
     "end_time": "2024-01-25T13:57:09.471107",
     "exception": false,
     "start_time": "2024-01-25T13:57:09.456902",
     "status": "completed"
    },
    "tags": []
   },
   "source": [
    "# Look up the Train Dataset"
   ]
  },
  {
   "cell_type": "code",
   "execution_count": 3,
   "id": "a2d11864",
   "metadata": {
    "execution": {
     "iopub.execute_input": "2024-01-25T13:57:09.502701Z",
     "iopub.status.busy": "2024-01-25T13:57:09.502265Z",
     "iopub.status.idle": "2024-01-25T13:57:09.543661Z",
     "shell.execute_reply": "2024-01-25T13:57:09.542187Z"
    },
    "papermill": {
     "duration": 0.060668,
     "end_time": "2024-01-25T13:57:09.546327",
     "exception": false,
     "start_time": "2024-01-25T13:57:09.485659",
     "status": "completed"
    },
    "tags": []
   },
   "outputs": [
    {
     "data": {
      "text/html": [
       "<div>\n",
       "<style scoped>\n",
       "    .dataframe tbody tr th:only-of-type {\n",
       "        vertical-align: middle;\n",
       "    }\n",
       "\n",
       "    .dataframe tbody tr th {\n",
       "        vertical-align: top;\n",
       "    }\n",
       "\n",
       "    .dataframe thead th {\n",
       "        text-align: right;\n",
       "    }\n",
       "</style>\n",
       "<table border=\"1\" class=\"dataframe\">\n",
       "  <thead>\n",
       "    <tr style=\"text-align: right;\">\n",
       "      <th></th>\n",
       "      <th>Id</th>\n",
       "      <th>MSSubClass</th>\n",
       "      <th>MSZoning</th>\n",
       "      <th>LotFrontage</th>\n",
       "      <th>LotArea</th>\n",
       "      <th>Street</th>\n",
       "      <th>Alley</th>\n",
       "      <th>LotShape</th>\n",
       "      <th>LandContour</th>\n",
       "      <th>Utilities</th>\n",
       "      <th>...</th>\n",
       "      <th>ScreenPorch</th>\n",
       "      <th>PoolArea</th>\n",
       "      <th>PoolQC</th>\n",
       "      <th>Fence</th>\n",
       "      <th>MiscFeature</th>\n",
       "      <th>MiscVal</th>\n",
       "      <th>MoSold</th>\n",
       "      <th>YrSold</th>\n",
       "      <th>SaleType</th>\n",
       "      <th>SaleCondition</th>\n",
       "    </tr>\n",
       "  </thead>\n",
       "  <tbody>\n",
       "    <tr>\n",
       "      <th>0</th>\n",
       "      <td>1461</td>\n",
       "      <td>20</td>\n",
       "      <td>RH</td>\n",
       "      <td>80.0</td>\n",
       "      <td>11622</td>\n",
       "      <td>Pave</td>\n",
       "      <td>NaN</td>\n",
       "      <td>Reg</td>\n",
       "      <td>Lvl</td>\n",
       "      <td>AllPub</td>\n",
       "      <td>...</td>\n",
       "      <td>120</td>\n",
       "      <td>0</td>\n",
       "      <td>NaN</td>\n",
       "      <td>MnPrv</td>\n",
       "      <td>NaN</td>\n",
       "      <td>0</td>\n",
       "      <td>6</td>\n",
       "      <td>2010</td>\n",
       "      <td>WD</td>\n",
       "      <td>Normal</td>\n",
       "    </tr>\n",
       "    <tr>\n",
       "      <th>1</th>\n",
       "      <td>1462</td>\n",
       "      <td>20</td>\n",
       "      <td>RL</td>\n",
       "      <td>81.0</td>\n",
       "      <td>14267</td>\n",
       "      <td>Pave</td>\n",
       "      <td>NaN</td>\n",
       "      <td>IR1</td>\n",
       "      <td>Lvl</td>\n",
       "      <td>AllPub</td>\n",
       "      <td>...</td>\n",
       "      <td>0</td>\n",
       "      <td>0</td>\n",
       "      <td>NaN</td>\n",
       "      <td>NaN</td>\n",
       "      <td>Gar2</td>\n",
       "      <td>12500</td>\n",
       "      <td>6</td>\n",
       "      <td>2010</td>\n",
       "      <td>WD</td>\n",
       "      <td>Normal</td>\n",
       "    </tr>\n",
       "    <tr>\n",
       "      <th>2</th>\n",
       "      <td>1463</td>\n",
       "      <td>60</td>\n",
       "      <td>RL</td>\n",
       "      <td>74.0</td>\n",
       "      <td>13830</td>\n",
       "      <td>Pave</td>\n",
       "      <td>NaN</td>\n",
       "      <td>IR1</td>\n",
       "      <td>Lvl</td>\n",
       "      <td>AllPub</td>\n",
       "      <td>...</td>\n",
       "      <td>0</td>\n",
       "      <td>0</td>\n",
       "      <td>NaN</td>\n",
       "      <td>MnPrv</td>\n",
       "      <td>NaN</td>\n",
       "      <td>0</td>\n",
       "      <td>3</td>\n",
       "      <td>2010</td>\n",
       "      <td>WD</td>\n",
       "      <td>Normal</td>\n",
       "    </tr>\n",
       "    <tr>\n",
       "      <th>3</th>\n",
       "      <td>1464</td>\n",
       "      <td>60</td>\n",
       "      <td>RL</td>\n",
       "      <td>78.0</td>\n",
       "      <td>9978</td>\n",
       "      <td>Pave</td>\n",
       "      <td>NaN</td>\n",
       "      <td>IR1</td>\n",
       "      <td>Lvl</td>\n",
       "      <td>AllPub</td>\n",
       "      <td>...</td>\n",
       "      <td>0</td>\n",
       "      <td>0</td>\n",
       "      <td>NaN</td>\n",
       "      <td>NaN</td>\n",
       "      <td>NaN</td>\n",
       "      <td>0</td>\n",
       "      <td>6</td>\n",
       "      <td>2010</td>\n",
       "      <td>WD</td>\n",
       "      <td>Normal</td>\n",
       "    </tr>\n",
       "    <tr>\n",
       "      <th>4</th>\n",
       "      <td>1465</td>\n",
       "      <td>120</td>\n",
       "      <td>RL</td>\n",
       "      <td>43.0</td>\n",
       "      <td>5005</td>\n",
       "      <td>Pave</td>\n",
       "      <td>NaN</td>\n",
       "      <td>IR1</td>\n",
       "      <td>HLS</td>\n",
       "      <td>AllPub</td>\n",
       "      <td>...</td>\n",
       "      <td>144</td>\n",
       "      <td>0</td>\n",
       "      <td>NaN</td>\n",
       "      <td>NaN</td>\n",
       "      <td>NaN</td>\n",
       "      <td>0</td>\n",
       "      <td>1</td>\n",
       "      <td>2010</td>\n",
       "      <td>WD</td>\n",
       "      <td>Normal</td>\n",
       "    </tr>\n",
       "  </tbody>\n",
       "</table>\n",
       "<p>5 rows × 80 columns</p>\n",
       "</div>"
      ],
      "text/plain": [
       "     Id  MSSubClass MSZoning  LotFrontage  LotArea Street Alley LotShape  \\\n",
       "0  1461          20       RH         80.0    11622   Pave   NaN      Reg   \n",
       "1  1462          20       RL         81.0    14267   Pave   NaN      IR1   \n",
       "2  1463          60       RL         74.0    13830   Pave   NaN      IR1   \n",
       "3  1464          60       RL         78.0     9978   Pave   NaN      IR1   \n",
       "4  1465         120       RL         43.0     5005   Pave   NaN      IR1   \n",
       "\n",
       "  LandContour Utilities  ... ScreenPorch PoolArea PoolQC  Fence MiscFeature  \\\n",
       "0         Lvl    AllPub  ...         120        0    NaN  MnPrv         NaN   \n",
       "1         Lvl    AllPub  ...           0        0    NaN    NaN        Gar2   \n",
       "2         Lvl    AllPub  ...           0        0    NaN  MnPrv         NaN   \n",
       "3         Lvl    AllPub  ...           0        0    NaN    NaN         NaN   \n",
       "4         HLS    AllPub  ...         144        0    NaN    NaN         NaN   \n",
       "\n",
       "  MiscVal MoSold  YrSold  SaleType  SaleCondition  \n",
       "0       0      6    2010        WD         Normal  \n",
       "1   12500      6    2010        WD         Normal  \n",
       "2       0      3    2010        WD         Normal  \n",
       "3       0      6    2010        WD         Normal  \n",
       "4       0      1    2010        WD         Normal  \n",
       "\n",
       "[5 rows x 80 columns]"
      ]
     },
     "execution_count": 3,
     "metadata": {},
     "output_type": "execute_result"
    }
   ],
   "source": [
    "df_train.head()"
   ]
  },
  {
   "cell_type": "code",
   "execution_count": 4,
   "id": "e704a2d5",
   "metadata": {
    "execution": {
     "iopub.execute_input": "2024-01-25T13:57:09.579035Z",
     "iopub.status.busy": "2024-01-25T13:57:09.578600Z",
     "iopub.status.idle": "2024-01-25T13:57:09.585814Z",
     "shell.execute_reply": "2024-01-25T13:57:09.584772Z"
    },
    "papermill": {
     "duration": 0.026422,
     "end_time": "2024-01-25T13:57:09.588026",
     "exception": false,
     "start_time": "2024-01-25T13:57:09.561604",
     "status": "completed"
    },
    "tags": []
   },
   "outputs": [
    {
     "data": {
      "text/plain": [
       "(1459, 80)"
      ]
     },
     "execution_count": 4,
     "metadata": {},
     "output_type": "execute_result"
    }
   ],
   "source": [
    "df_train.shape"
   ]
  },
  {
   "cell_type": "code",
   "execution_count": 5,
   "id": "f1b5976c",
   "metadata": {
    "execution": {
     "iopub.execute_input": "2024-01-25T13:57:09.621520Z",
     "iopub.status.busy": "2024-01-25T13:57:09.620863Z",
     "iopub.status.idle": "2024-01-25T13:57:09.627581Z",
     "shell.execute_reply": "2024-01-25T13:57:09.626595Z"
    },
    "papermill": {
     "duration": 0.02636,
     "end_time": "2024-01-25T13:57:09.630106",
     "exception": false,
     "start_time": "2024-01-25T13:57:09.603746",
     "status": "completed"
    },
    "tags": []
   },
   "outputs": [
    {
     "data": {
      "text/plain": [
       "Index(['Id', 'MSSubClass', 'MSZoning', 'LotFrontage', 'LotArea', 'Street',\n",
       "       'Alley', 'LotShape', 'LandContour', 'Utilities', 'LotConfig',\n",
       "       'LandSlope', 'Neighborhood', 'Condition1', 'Condition2', 'BldgType',\n",
       "       'HouseStyle', 'OverallQual', 'OverallCond', 'YearBuilt', 'YearRemodAdd',\n",
       "       'RoofStyle', 'RoofMatl', 'Exterior1st', 'Exterior2nd', 'MasVnrType',\n",
       "       'MasVnrArea', 'ExterQual', 'ExterCond', 'Foundation', 'BsmtQual',\n",
       "       'BsmtCond', 'BsmtExposure', 'BsmtFinType1', 'BsmtFinSF1',\n",
       "       'BsmtFinType2', 'BsmtFinSF2', 'BsmtUnfSF', 'TotalBsmtSF', 'Heating',\n",
       "       'HeatingQC', 'CentralAir', 'Electrical', '1stFlrSF', '2ndFlrSF',\n",
       "       'LowQualFinSF', 'GrLivArea', 'BsmtFullBath', 'BsmtHalfBath', 'FullBath',\n",
       "       'HalfBath', 'BedroomAbvGr', 'KitchenAbvGr', 'KitchenQual',\n",
       "       'TotRmsAbvGrd', 'Functional', 'Fireplaces', 'FireplaceQu', 'GarageType',\n",
       "       'GarageYrBlt', 'GarageFinish', 'GarageCars', 'GarageArea', 'GarageQual',\n",
       "       'GarageCond', 'PavedDrive', 'WoodDeckSF', 'OpenPorchSF',\n",
       "       'EnclosedPorch', '3SsnPorch', 'ScreenPorch', 'PoolArea', 'PoolQC',\n",
       "       'Fence', 'MiscFeature', 'MiscVal', 'MoSold', 'YrSold', 'SaleType',\n",
       "       'SaleCondition'],\n",
       "      dtype='object')"
      ]
     },
     "execution_count": 5,
     "metadata": {},
     "output_type": "execute_result"
    }
   ],
   "source": [
    "df_train.columns"
   ]
  },
  {
   "cell_type": "markdown",
   "id": "2ece2f1a",
   "metadata": {
    "papermill": {
     "duration": 0.015652,
     "end_time": "2024-01-25T13:57:09.661330",
     "exception": false,
     "start_time": "2024-01-25T13:57:09.645678",
     "status": "completed"
    },
    "tags": []
   },
   "source": [
    "# Look up the Test Dataset"
   ]
  },
  {
   "cell_type": "code",
   "execution_count": 6,
   "id": "af7d261e",
   "metadata": {
    "execution": {
     "iopub.execute_input": "2024-01-25T13:57:09.694622Z",
     "iopub.status.busy": "2024-01-25T13:57:09.694189Z",
     "iopub.status.idle": "2024-01-25T13:57:09.719247Z",
     "shell.execute_reply": "2024-01-25T13:57:09.718110Z"
    },
    "papermill": {
     "duration": 0.044503,
     "end_time": "2024-01-25T13:57:09.721855",
     "exception": false,
     "start_time": "2024-01-25T13:57:09.677352",
     "status": "completed"
    },
    "tags": []
   },
   "outputs": [
    {
     "data": {
      "text/html": [
       "<div>\n",
       "<style scoped>\n",
       "    .dataframe tbody tr th:only-of-type {\n",
       "        vertical-align: middle;\n",
       "    }\n",
       "\n",
       "    .dataframe tbody tr th {\n",
       "        vertical-align: top;\n",
       "    }\n",
       "\n",
       "    .dataframe thead th {\n",
       "        text-align: right;\n",
       "    }\n",
       "</style>\n",
       "<table border=\"1\" class=\"dataframe\">\n",
       "  <thead>\n",
       "    <tr style=\"text-align: right;\">\n",
       "      <th></th>\n",
       "      <th>Id</th>\n",
       "      <th>MSSubClass</th>\n",
       "      <th>MSZoning</th>\n",
       "      <th>LotFrontage</th>\n",
       "      <th>LotArea</th>\n",
       "      <th>Street</th>\n",
       "      <th>Alley</th>\n",
       "      <th>LotShape</th>\n",
       "      <th>LandContour</th>\n",
       "      <th>Utilities</th>\n",
       "      <th>...</th>\n",
       "      <th>ScreenPorch</th>\n",
       "      <th>PoolArea</th>\n",
       "      <th>PoolQC</th>\n",
       "      <th>Fence</th>\n",
       "      <th>MiscFeature</th>\n",
       "      <th>MiscVal</th>\n",
       "      <th>MoSold</th>\n",
       "      <th>YrSold</th>\n",
       "      <th>SaleType</th>\n",
       "      <th>SaleCondition</th>\n",
       "    </tr>\n",
       "  </thead>\n",
       "  <tbody>\n",
       "    <tr>\n",
       "      <th>0</th>\n",
       "      <td>1461</td>\n",
       "      <td>20</td>\n",
       "      <td>RH</td>\n",
       "      <td>80.0</td>\n",
       "      <td>11622</td>\n",
       "      <td>Pave</td>\n",
       "      <td>NaN</td>\n",
       "      <td>Reg</td>\n",
       "      <td>Lvl</td>\n",
       "      <td>AllPub</td>\n",
       "      <td>...</td>\n",
       "      <td>120</td>\n",
       "      <td>0</td>\n",
       "      <td>NaN</td>\n",
       "      <td>MnPrv</td>\n",
       "      <td>NaN</td>\n",
       "      <td>0</td>\n",
       "      <td>6</td>\n",
       "      <td>2010</td>\n",
       "      <td>WD</td>\n",
       "      <td>Normal</td>\n",
       "    </tr>\n",
       "    <tr>\n",
       "      <th>1</th>\n",
       "      <td>1462</td>\n",
       "      <td>20</td>\n",
       "      <td>RL</td>\n",
       "      <td>81.0</td>\n",
       "      <td>14267</td>\n",
       "      <td>Pave</td>\n",
       "      <td>NaN</td>\n",
       "      <td>IR1</td>\n",
       "      <td>Lvl</td>\n",
       "      <td>AllPub</td>\n",
       "      <td>...</td>\n",
       "      <td>0</td>\n",
       "      <td>0</td>\n",
       "      <td>NaN</td>\n",
       "      <td>NaN</td>\n",
       "      <td>Gar2</td>\n",
       "      <td>12500</td>\n",
       "      <td>6</td>\n",
       "      <td>2010</td>\n",
       "      <td>WD</td>\n",
       "      <td>Normal</td>\n",
       "    </tr>\n",
       "    <tr>\n",
       "      <th>2</th>\n",
       "      <td>1463</td>\n",
       "      <td>60</td>\n",
       "      <td>RL</td>\n",
       "      <td>74.0</td>\n",
       "      <td>13830</td>\n",
       "      <td>Pave</td>\n",
       "      <td>NaN</td>\n",
       "      <td>IR1</td>\n",
       "      <td>Lvl</td>\n",
       "      <td>AllPub</td>\n",
       "      <td>...</td>\n",
       "      <td>0</td>\n",
       "      <td>0</td>\n",
       "      <td>NaN</td>\n",
       "      <td>MnPrv</td>\n",
       "      <td>NaN</td>\n",
       "      <td>0</td>\n",
       "      <td>3</td>\n",
       "      <td>2010</td>\n",
       "      <td>WD</td>\n",
       "      <td>Normal</td>\n",
       "    </tr>\n",
       "    <tr>\n",
       "      <th>3</th>\n",
       "      <td>1464</td>\n",
       "      <td>60</td>\n",
       "      <td>RL</td>\n",
       "      <td>78.0</td>\n",
       "      <td>9978</td>\n",
       "      <td>Pave</td>\n",
       "      <td>NaN</td>\n",
       "      <td>IR1</td>\n",
       "      <td>Lvl</td>\n",
       "      <td>AllPub</td>\n",
       "      <td>...</td>\n",
       "      <td>0</td>\n",
       "      <td>0</td>\n",
       "      <td>NaN</td>\n",
       "      <td>NaN</td>\n",
       "      <td>NaN</td>\n",
       "      <td>0</td>\n",
       "      <td>6</td>\n",
       "      <td>2010</td>\n",
       "      <td>WD</td>\n",
       "      <td>Normal</td>\n",
       "    </tr>\n",
       "    <tr>\n",
       "      <th>4</th>\n",
       "      <td>1465</td>\n",
       "      <td>120</td>\n",
       "      <td>RL</td>\n",
       "      <td>43.0</td>\n",
       "      <td>5005</td>\n",
       "      <td>Pave</td>\n",
       "      <td>NaN</td>\n",
       "      <td>IR1</td>\n",
       "      <td>HLS</td>\n",
       "      <td>AllPub</td>\n",
       "      <td>...</td>\n",
       "      <td>144</td>\n",
       "      <td>0</td>\n",
       "      <td>NaN</td>\n",
       "      <td>NaN</td>\n",
       "      <td>NaN</td>\n",
       "      <td>0</td>\n",
       "      <td>1</td>\n",
       "      <td>2010</td>\n",
       "      <td>WD</td>\n",
       "      <td>Normal</td>\n",
       "    </tr>\n",
       "  </tbody>\n",
       "</table>\n",
       "<p>5 rows × 80 columns</p>\n",
       "</div>"
      ],
      "text/plain": [
       "     Id  MSSubClass MSZoning  LotFrontage  LotArea Street Alley LotShape  \\\n",
       "0  1461          20       RH         80.0    11622   Pave   NaN      Reg   \n",
       "1  1462          20       RL         81.0    14267   Pave   NaN      IR1   \n",
       "2  1463          60       RL         74.0    13830   Pave   NaN      IR1   \n",
       "3  1464          60       RL         78.0     9978   Pave   NaN      IR1   \n",
       "4  1465         120       RL         43.0     5005   Pave   NaN      IR1   \n",
       "\n",
       "  LandContour Utilities  ... ScreenPorch PoolArea PoolQC  Fence MiscFeature  \\\n",
       "0         Lvl    AllPub  ...         120        0    NaN  MnPrv         NaN   \n",
       "1         Lvl    AllPub  ...           0        0    NaN    NaN        Gar2   \n",
       "2         Lvl    AllPub  ...           0        0    NaN  MnPrv         NaN   \n",
       "3         Lvl    AllPub  ...           0        0    NaN    NaN         NaN   \n",
       "4         HLS    AllPub  ...         144        0    NaN    NaN         NaN   \n",
       "\n",
       "  MiscVal MoSold  YrSold  SaleType  SaleCondition  \n",
       "0       0      6    2010        WD         Normal  \n",
       "1   12500      6    2010        WD         Normal  \n",
       "2       0      3    2010        WD         Normal  \n",
       "3       0      6    2010        WD         Normal  \n",
       "4       0      1    2010        WD         Normal  \n",
       "\n",
       "[5 rows x 80 columns]"
      ]
     },
     "execution_count": 6,
     "metadata": {},
     "output_type": "execute_result"
    }
   ],
   "source": [
    "df_test.head()"
   ]
  },
  {
   "cell_type": "code",
   "execution_count": 7,
   "id": "145174bd",
   "metadata": {
    "execution": {
     "iopub.execute_input": "2024-01-25T13:57:09.756247Z",
     "iopub.status.busy": "2024-01-25T13:57:09.755158Z",
     "iopub.status.idle": "2024-01-25T13:57:09.762039Z",
     "shell.execute_reply": "2024-01-25T13:57:09.761201Z"
    },
    "papermill": {
     "duration": 0.02639,
     "end_time": "2024-01-25T13:57:09.764272",
     "exception": false,
     "start_time": "2024-01-25T13:57:09.737882",
     "status": "completed"
    },
    "tags": []
   },
   "outputs": [
    {
     "data": {
      "text/plain": [
       "(1459, 80)"
      ]
     },
     "execution_count": 7,
     "metadata": {},
     "output_type": "execute_result"
    }
   ],
   "source": [
    "df_test.shape"
   ]
  },
  {
   "cell_type": "code",
   "execution_count": 8,
   "id": "db610596",
   "metadata": {
    "execution": {
     "iopub.execute_input": "2024-01-25T13:57:09.799672Z",
     "iopub.status.busy": "2024-01-25T13:57:09.799222Z",
     "iopub.status.idle": "2024-01-25T13:57:09.806687Z",
     "shell.execute_reply": "2024-01-25T13:57:09.805787Z"
    },
    "papermill": {
     "duration": 0.027646,
     "end_time": "2024-01-25T13:57:09.808915",
     "exception": false,
     "start_time": "2024-01-25T13:57:09.781269",
     "status": "completed"
    },
    "tags": []
   },
   "outputs": [
    {
     "data": {
      "text/plain": [
       "Index(['Id', 'MSSubClass', 'MSZoning', 'LotFrontage', 'LotArea', 'Street',\n",
       "       'Alley', 'LotShape', 'LandContour', 'Utilities', 'LotConfig',\n",
       "       'LandSlope', 'Neighborhood', 'Condition1', 'Condition2', 'BldgType',\n",
       "       'HouseStyle', 'OverallQual', 'OverallCond', 'YearBuilt', 'YearRemodAdd',\n",
       "       'RoofStyle', 'RoofMatl', 'Exterior1st', 'Exterior2nd', 'MasVnrType',\n",
       "       'MasVnrArea', 'ExterQual', 'ExterCond', 'Foundation', 'BsmtQual',\n",
       "       'BsmtCond', 'BsmtExposure', 'BsmtFinType1', 'BsmtFinSF1',\n",
       "       'BsmtFinType2', 'BsmtFinSF2', 'BsmtUnfSF', 'TotalBsmtSF', 'Heating',\n",
       "       'HeatingQC', 'CentralAir', 'Electrical', '1stFlrSF', '2ndFlrSF',\n",
       "       'LowQualFinSF', 'GrLivArea', 'BsmtFullBath', 'BsmtHalfBath', 'FullBath',\n",
       "       'HalfBath', 'BedroomAbvGr', 'KitchenAbvGr', 'KitchenQual',\n",
       "       'TotRmsAbvGrd', 'Functional', 'Fireplaces', 'FireplaceQu', 'GarageType',\n",
       "       'GarageYrBlt', 'GarageFinish', 'GarageCars', 'GarageArea', 'GarageQual',\n",
       "       'GarageCond', 'PavedDrive', 'WoodDeckSF', 'OpenPorchSF',\n",
       "       'EnclosedPorch', '3SsnPorch', 'ScreenPorch', 'PoolArea', 'PoolQC',\n",
       "       'Fence', 'MiscFeature', 'MiscVal', 'MoSold', 'YrSold', 'SaleType',\n",
       "       'SaleCondition'],\n",
       "      dtype='object')"
      ]
     },
     "execution_count": 8,
     "metadata": {},
     "output_type": "execute_result"
    }
   ],
   "source": [
    "df_test.columns"
   ]
  },
  {
   "cell_type": "markdown",
   "id": "a3b45506",
   "metadata": {
    "papermill": {
     "duration": 0.016055,
     "end_time": "2024-01-25T13:57:09.901900",
     "exception": false,
     "start_time": "2024-01-25T13:57:09.885845",
     "status": "completed"
    },
    "tags": []
   },
   "source": [
    "# Look up the sample submission containing the predicting value"
   ]
  },
  {
   "cell_type": "code",
   "execution_count": 9,
   "id": "0608a4ce",
   "metadata": {
    "execution": {
     "iopub.execute_input": "2024-01-25T13:57:09.937146Z",
     "iopub.status.busy": "2024-01-25T13:57:09.935896Z",
     "iopub.status.idle": "2024-01-25T13:57:09.946501Z",
     "shell.execute_reply": "2024-01-25T13:57:09.945422Z"
    },
    "papermill": {
     "duration": 0.030731,
     "end_time": "2024-01-25T13:57:09.948970",
     "exception": false,
     "start_time": "2024-01-25T13:57:09.918239",
     "status": "completed"
    },
    "tags": []
   },
   "outputs": [
    {
     "data": {
      "text/html": [
       "<div>\n",
       "<style scoped>\n",
       "    .dataframe tbody tr th:only-of-type {\n",
       "        vertical-align: middle;\n",
       "    }\n",
       "\n",
       "    .dataframe tbody tr th {\n",
       "        vertical-align: top;\n",
       "    }\n",
       "\n",
       "    .dataframe thead th {\n",
       "        text-align: right;\n",
       "    }\n",
       "</style>\n",
       "<table border=\"1\" class=\"dataframe\">\n",
       "  <thead>\n",
       "    <tr style=\"text-align: right;\">\n",
       "      <th></th>\n",
       "      <th>Id</th>\n",
       "      <th>SalePrice</th>\n",
       "    </tr>\n",
       "  </thead>\n",
       "  <tbody>\n",
       "    <tr>\n",
       "      <th>0</th>\n",
       "      <td>1461</td>\n",
       "      <td>169277.052498</td>\n",
       "    </tr>\n",
       "    <tr>\n",
       "      <th>1</th>\n",
       "      <td>1462</td>\n",
       "      <td>187758.393989</td>\n",
       "    </tr>\n",
       "    <tr>\n",
       "      <th>2</th>\n",
       "      <td>1463</td>\n",
       "      <td>183583.683570</td>\n",
       "    </tr>\n",
       "    <tr>\n",
       "      <th>3</th>\n",
       "      <td>1464</td>\n",
       "      <td>179317.477511</td>\n",
       "    </tr>\n",
       "    <tr>\n",
       "      <th>4</th>\n",
       "      <td>1465</td>\n",
       "      <td>150730.079977</td>\n",
       "    </tr>\n",
       "  </tbody>\n",
       "</table>\n",
       "</div>"
      ],
      "text/plain": [
       "     Id      SalePrice\n",
       "0  1461  169277.052498\n",
       "1  1462  187758.393989\n",
       "2  1463  183583.683570\n",
       "3  1464  179317.477511\n",
       "4  1465  150730.079977"
      ]
     },
     "execution_count": 9,
     "metadata": {},
     "output_type": "execute_result"
    }
   ],
   "source": [
    "df_sample_submission.head()"
   ]
  },
  {
   "cell_type": "code",
   "execution_count": 10,
   "id": "3213d657",
   "metadata": {
    "execution": {
     "iopub.execute_input": "2024-01-25T13:57:09.984685Z",
     "iopub.status.busy": "2024-01-25T13:57:09.984231Z",
     "iopub.status.idle": "2024-01-25T13:57:09.992161Z",
     "shell.execute_reply": "2024-01-25T13:57:09.990854Z"
    },
    "papermill": {
     "duration": 0.0287,
     "end_time": "2024-01-25T13:57:09.994675",
     "exception": false,
     "start_time": "2024-01-25T13:57:09.965975",
     "status": "completed"
    },
    "tags": []
   },
   "outputs": [
    {
     "data": {
      "text/plain": [
       "(1459, 2)"
      ]
     },
     "execution_count": 10,
     "metadata": {},
     "output_type": "execute_result"
    }
   ],
   "source": [
    "df_sample_submission.shape"
   ]
  },
  {
   "cell_type": "code",
   "execution_count": 11,
   "id": "e1a3e660",
   "metadata": {
    "execution": {
     "iopub.execute_input": "2024-01-25T13:57:10.030306Z",
     "iopub.status.busy": "2024-01-25T13:57:10.029921Z",
     "iopub.status.idle": "2024-01-25T13:57:10.038100Z",
     "shell.execute_reply": "2024-01-25T13:57:10.036496Z"
    },
    "papermill": {
     "duration": 0.029376,
     "end_time": "2024-01-25T13:57:10.040890",
     "exception": false,
     "start_time": "2024-01-25T13:57:10.011514",
     "status": "completed"
    },
    "tags": []
   },
   "outputs": [
    {
     "data": {
      "text/plain": [
       "Index(['Id', 'SalePrice'], dtype='object')"
      ]
     },
     "execution_count": 11,
     "metadata": {},
     "output_type": "execute_result"
    }
   ],
   "source": [
    "df_sample_submission.columns"
   ]
  },
  {
   "cell_type": "markdown",
   "id": "8584c08e",
   "metadata": {
    "papermill": {
     "duration": 0.017175,
     "end_time": "2024-01-25T13:57:10.075131",
     "exception": false,
     "start_time": "2024-01-25T13:57:10.057956",
     "status": "completed"
    },
    "tags": []
   },
   "source": [
    "# NaN Value Handling"
   ]
  },
  {
   "cell_type": "code",
   "execution_count": 12,
   "id": "d3bf73e4",
   "metadata": {
    "execution": {
     "iopub.execute_input": "2024-01-25T13:57:10.111099Z",
     "iopub.status.busy": "2024-01-25T13:57:10.110705Z",
     "iopub.status.idle": "2024-01-25T13:57:10.126889Z",
     "shell.execute_reply": "2024-01-25T13:57:10.125597Z"
    },
    "papermill": {
     "duration": 0.037518,
     "end_time": "2024-01-25T13:57:10.129705",
     "exception": false,
     "start_time": "2024-01-25T13:57:10.092187",
     "status": "completed"
    },
    "tags": []
   },
   "outputs": [],
   "source": [
    "df_train = df_train.fillna(0)"
   ]
  },
  {
   "cell_type": "markdown",
   "id": "a307bda2",
   "metadata": {
    "papermill": {
     "duration": 0.016885,
     "end_time": "2024-01-25T13:57:10.163652",
     "exception": false,
     "start_time": "2024-01-25T13:57:10.146767",
     "status": "completed"
    },
    "tags": []
   },
   "source": [
    "# Simple Linear Regression With scikit-learn"
   ]
  },
  {
   "cell_type": "markdown",
   "id": "06a5f9e0",
   "metadata": {
    "papermill": {
     "duration": 0.017088,
     "end_time": "2024-01-25T13:57:10.198215",
     "exception": false,
     "start_time": "2024-01-25T13:57:10.181127",
     "status": "completed"
    },
    "tags": []
   },
   "source": [
    "## Import Linear Regression Module"
   ]
  },
  {
   "cell_type": "code",
   "execution_count": 13,
   "id": "e4470b99",
   "metadata": {
    "execution": {
     "iopub.execute_input": "2024-01-25T13:57:10.235127Z",
     "iopub.status.busy": "2024-01-25T13:57:10.234249Z",
     "iopub.status.idle": "2024-01-25T13:57:11.854585Z",
     "shell.execute_reply": "2024-01-25T13:57:11.853483Z"
    },
    "papermill": {
     "duration": 1.641797,
     "end_time": "2024-01-25T13:57:11.857524",
     "exception": false,
     "start_time": "2024-01-25T13:57:10.215727",
     "status": "completed"
    },
    "tags": []
   },
   "outputs": [],
   "source": [
    "from sklearn.linear_model import LinearRegression"
   ]
  },
  {
   "cell_type": "markdown",
   "id": "9026bd39",
   "metadata": {
    "papermill": {
     "duration": 0.01643,
     "end_time": "2024-01-25T13:57:11.890909",
     "exception": false,
     "start_time": "2024-01-25T13:57:11.874479",
     "status": "completed"
    },
    "tags": []
   },
   "source": [
    "## Provide the input Variables"
   ]
  },
  {
   "cell_type": "code",
   "execution_count": 14,
   "id": "bc2a1063",
   "metadata": {
    "execution": {
     "iopub.execute_input": "2024-01-25T13:57:11.926689Z",
     "iopub.status.busy": "2024-01-25T13:57:11.926263Z",
     "iopub.status.idle": "2024-01-25T13:57:11.934988Z",
     "shell.execute_reply": "2024-01-25T13:57:11.933679Z"
    },
    "papermill": {
     "duration": 0.029666,
     "end_time": "2024-01-25T13:57:11.937467",
     "exception": false,
     "start_time": "2024-01-25T13:57:11.907801",
     "status": "completed"
    },
    "tags": []
   },
   "outputs": [],
   "source": [
    "x_lotArea = np.array([df_train['LotArea']]).reshape((-1, 1))\n",
    "x_lotFrontage = np.array([df_train['LotFrontage']]).reshape((-1, 1))\n",
    "x_msSubClass = np.array([df_train['MSSubClass']]).reshape((-1, 1))\n",
    "x_overallQual = np.array([df_train['OverallQual']]).reshape(-1, 1)\n",
    "x_overallCond = np.array([df_train['OverallCond']]).reshape(-1, 1)\n",
    "y_salePrice = np.array([df_sample_submission['SalePrice']]).reshape((-1, 1))"
   ]
  },
  {
   "cell_type": "markdown",
   "id": "e71c39d5",
   "metadata": {
    "papermill": {
     "duration": 0.021134,
     "end_time": "2024-01-25T13:57:11.976177",
     "exception": false,
     "start_time": "2024-01-25T13:57:11.955043",
     "status": "completed"
    },
    "tags": []
   },
   "source": [
    "## Create a Model and fit it"
   ]
  },
  {
   "cell_type": "code",
   "execution_count": 15,
   "id": "32c5c15d",
   "metadata": {
    "execution": {
     "iopub.execute_input": "2024-01-25T13:57:12.017050Z",
     "iopub.status.busy": "2024-01-25T13:57:12.016046Z",
     "iopub.status.idle": "2024-01-25T13:57:12.043365Z",
     "shell.execute_reply": "2024-01-25T13:57:12.042039Z"
    },
    "papermill": {
     "duration": 0.049,
     "end_time": "2024-01-25T13:57:12.045926",
     "exception": false,
     "start_time": "2024-01-25T13:57:11.996926",
     "status": "completed"
    },
    "tags": []
   },
   "outputs": [],
   "source": [
    "model_lotArea = LinearRegression().fit(x_lotArea, y_salePrice)\n",
    "model_lotFrontage = LinearRegression().fit(x_lotFrontage, y_salePrice)\n",
    "model_msSubClass = LinearRegression().fit(x_msSubClass, y_salePrice)\n",
    "model_overallQual = LinearRegression().fit(x_overallQual, y_salePrice)\n",
    "model_overallCond = LinearRegression().fit(x_overallCond, y_salePrice)"
   ]
  },
  {
   "cell_type": "markdown",
   "id": "dc0e33d3",
   "metadata": {
    "papermill": {
     "duration": 0.016453,
     "end_time": "2024-01-25T13:57:12.079337",
     "exception": false,
     "start_time": "2024-01-25T13:57:12.062884",
     "status": "completed"
    },
    "tags": []
   },
   "source": [
    "## Get results"
   ]
  },
  {
   "cell_type": "code",
   "execution_count": 16,
   "id": "839c4e3c",
   "metadata": {
    "execution": {
     "iopub.execute_input": "2024-01-25T13:57:12.115569Z",
     "iopub.status.busy": "2024-01-25T13:57:12.114744Z",
     "iopub.status.idle": "2024-01-25T13:57:12.126765Z",
     "shell.execute_reply": "2024-01-25T13:57:12.125406Z"
    },
    "papermill": {
     "duration": 0.0334,
     "end_time": "2024-01-25T13:57:12.129409",
     "exception": false,
     "start_time": "2024-01-25T13:57:12.096009",
     "status": "completed"
    },
    "tags": []
   },
   "outputs": [
    {
     "name": "stdout",
     "output_type": "stream",
     "text": [
      "Input Feature: LotArea\n",
      "coefficient of determination: 0.5123629952730855\n",
      "===============================================================\n",
      "Input Feature: LotFrontage\n",
      "coefficient of determination: 0.03486342370470641\n",
      "===============================================================\n",
      "Input Feature: MSSubClass\n",
      "coefficient of determination: 0.04240173426407168\n",
      "===============================================================\n",
      "Input Feature: OverallQual\n",
      "coefficient of determination: 0.008769092824928881\n",
      "===============================================================\n",
      "Input Feature: OverallCond\n",
      "coefficient of determination: 0.007014545671814809\n",
      "===============================================================\n"
     ]
    }
   ],
   "source": [
    "r_sq_lotArea = model_lotArea.score(x_lotArea, y_salePrice)\n",
    "r_sq_lotFrontage = model_lotFrontage.score(x_lotFrontage, y_salePrice)\n",
    "r_sq_msSubClass = model_msSubClass.score(x_msSubClass, y_salePrice)\n",
    "r_sq_overallQual = model_overallQual.score(x_overallQual, y_salePrice)\n",
    "r_sq_overallCond = model_overallCond.score(x_overallCond, y_salePrice)\n",
    "\n",
    "dict_features = {'LotArea':r_sq_lotArea, 'LotFrontage':r_sq_lotFrontage, 'MSSubClass': r_sq_msSubClass, 'OverallQual':r_sq_overallQual, 'OverallCond':r_sq_overallCond}\n",
    "for feature, score in dict_features.items():\n",
    "    print(f\"Input Feature: {feature}\")\n",
    "    print(f\"coefficient of determination: {score}\")\n",
    "    print(\"===============================================================\")"
   ]
  },
  {
   "cell_type": "markdown",
   "id": "c2d90dbb",
   "metadata": {
    "papermill": {
     "duration": 0.016812,
     "end_time": "2024-01-25T13:57:12.163359",
     "exception": false,
     "start_time": "2024-01-25T13:57:12.146547",
     "status": "completed"
    },
    "tags": []
   },
   "source": [
    "## Predict the response"
   ]
  },
  {
   "cell_type": "code",
   "execution_count": 17,
   "id": "bcc2ca3f",
   "metadata": {
    "execution": {
     "iopub.execute_input": "2024-01-25T13:57:12.200108Z",
     "iopub.status.busy": "2024-01-25T13:57:12.199697Z",
     "iopub.status.idle": "2024-01-25T13:57:12.212335Z",
     "shell.execute_reply": "2024-01-25T13:57:12.210236Z"
    },
    "papermill": {
     "duration": 0.034449,
     "end_time": "2024-01-25T13:57:12.214697",
     "exception": false,
     "start_time": "2024-01-25T13:57:12.180248",
     "status": "completed"
    },
    "tags": []
   },
   "outputs": [
    {
     "name": "stdout",
     "output_type": "stream",
     "text": [
      "predicted response with LotArea as input: \n",
      "[[183485.44111251]\n",
      " [189796.33655443]\n",
      " [188753.66687273]\n",
      " ...\n",
      " [203475.11295086]\n",
      " [180667.6084029 ]\n",
      " [178725.42734819]]\n",
      "\n",
      "predicted response with LotFrontage as input: \n",
      "[[181295.44275988]\n",
      " [181391.0310273 ]\n",
      " [180721.91315537]\n",
      " ...\n",
      " [188942.50415335]\n",
      " [179574.85394635]\n",
      " [180721.91315537]]\n",
      "\n",
      "predicted response with MSSubClass as input: \n",
      "[[182158.13658041]\n",
      " [182158.13658041]\n",
      " [178975.31119871]\n",
      " ...\n",
      " [182158.13658041]\n",
      " [176986.04533515]\n",
      " [178975.31119871]]\n",
      "\n",
      "predicted response with OverallQual as input: \n",
      "[[178022.49005643]\n",
      " [179099.06167251]\n",
      " [178022.49005643]\n",
      " ...\n",
      " [178022.49005643]\n",
      " [178022.49005643]\n",
      " [180175.6332886 ]]\n",
      "\n",
      "predicted response with OverallCond as input: \n",
      "[[178629.66628348]\n",
      " [178629.66628348]\n",
      " [179871.83772502]\n",
      " ...\n",
      " [177387.49484194]\n",
      " [179871.83772502]\n",
      " [179871.83772502]]\n",
      "\n"
     ]
    }
   ],
   "source": [
    "y_pred_lotArea = model_lotArea.predict(x_lotArea)\n",
    "y_pred_lotFrontage = model_lotFrontage.predict(x_lotFrontage)\n",
    "y_pred_msSubClass = model_msSubClass.predict(x_msSubClass)\n",
    "y_pred_overallQual = model_overallQual.predict(x_overallQual)\n",
    "y_pred_overallCond = model_overallCond.predict(x_overallCond)\n",
    "\n",
    "print(f\"predicted response with LotArea as input: \\n{y_pred_lotArea}\\n\")\n",
    "print(f\"predicted response with LotFrontage as input: \\n{y_pred_lotFrontage}\\n\")\n",
    "print(f\"predicted response with MSSubClass as input: \\n{y_pred_msSubClass}\\n\")\n",
    "print(f\"predicted response with OverallQual as input: \\n{y_pred_overallQual}\\n\")\n",
    "print(f\"predicted response with OverallCond as input: \\n{y_pred_overallCond}\\n\")"
   ]
  },
  {
   "cell_type": "markdown",
   "id": "4e37601e",
   "metadata": {
    "papermill": {
     "duration": 0.016895,
     "end_time": "2024-01-25T13:57:12.248784",
     "exception": false,
     "start_time": "2024-01-25T13:57:12.231889",
     "status": "completed"
    },
    "tags": []
   },
   "source": [
    "# Multiple Linear Regression"
   ]
  },
  {
   "cell_type": "markdown",
   "id": "288e429b",
   "metadata": {
    "papermill": {
     "duration": 0.016768,
     "end_time": "2024-01-25T13:57:12.283050",
     "exception": false,
     "start_time": "2024-01-25T13:57:12.266282",
     "status": "completed"
    },
    "tags": []
   },
   "source": [
    "## Import necessary modules"
   ]
  },
  {
   "cell_type": "code",
   "execution_count": 18,
   "id": "f3ba0947",
   "metadata": {
    "execution": {
     "iopub.execute_input": "2024-01-25T13:57:12.319626Z",
     "iopub.status.busy": "2024-01-25T13:57:12.318568Z",
     "iopub.status.idle": "2024-01-25T13:57:12.323123Z",
     "shell.execute_reply": "2024-01-25T13:57:12.322339Z"
    },
    "papermill": {
     "duration": 0.025327,
     "end_time": "2024-01-25T13:57:12.325331",
     "exception": false,
     "start_time": "2024-01-25T13:57:12.300004",
     "status": "completed"
    },
    "tags": []
   },
   "outputs": [],
   "source": [
    "import numpy as np\n",
    "from sklearn.linear_model import LinearRegression"
   ]
  },
  {
   "cell_type": "markdown",
   "id": "4764516a",
   "metadata": {
    "papermill": {
     "duration": 0.01753,
     "end_time": "2024-01-25T13:57:12.360035",
     "exception": false,
     "start_time": "2024-01-25T13:57:12.342505",
     "status": "completed"
    },
    "tags": []
   },
   "source": [
    "## Provide the input variables"
   ]
  },
  {
   "cell_type": "code",
   "execution_count": 19,
   "id": "eb9bf32a",
   "metadata": {
    "execution": {
     "iopub.execute_input": "2024-01-25T13:57:12.397104Z",
     "iopub.status.busy": "2024-01-25T13:57:12.396675Z",
     "iopub.status.idle": "2024-01-25T13:57:12.418417Z",
     "shell.execute_reply": "2024-01-25T13:57:12.417435Z"
    },
    "papermill": {
     "duration": 0.04324,
     "end_time": "2024-01-25T13:57:12.421206",
     "exception": false,
     "start_time": "2024-01-25T13:57:12.377966",
     "status": "completed"
    },
    "tags": []
   },
   "outputs": [],
   "source": [
    "x_lotArea_lotFrontage = np.array([df_train[['LotArea', 'LotFrontage']]]).reshape((-1, 2))\n",
    "x_lotArea_msSubClass = np.array([df_train[['LotArea', 'MSSubClass']]]).reshape((-1, 2))\n",
    "x_lotArea_overallQual = np.array([df_train[['LotArea', 'OverallQual']]]).reshape((-1, 2))\n",
    "x_lotArea_overallCond = np.array([df_train[['LotArea', 'OverallCond']]]).reshape((-1, 2))\n",
    "x_lotFrontage_msSubClass = np.array([df_train[['LotFrontage', 'MSSubClass']]]).reshape((-1, 2))\n",
    "x_lotFrontage_overallQual = np.array([df_train[['LotFrontage', 'OverallQual']]]).reshape((-1, 2))\n",
    "x_lotFrontage_overallCond = np.array([df_train[['LotFrontage', 'OverallCond']]]).reshape((-1, 2))\n",
    "x_msSubClass_overallQual = np.array([df_train[['MSSubClass', 'OverallQual']]]).reshape((-1, 2))\n",
    "x_msSubClass_overallCond = np.array([df_train[['MSSubClass', 'OverallCond']]]).reshape((-1, 2))\n",
    "x_overallQual_overallCond = np.array([df_train[['OverallQual', 'OverallCond']]]).reshape((-1, 2))\n",
    "\n",
    "# y_salePrice = np.array([df_sample_submission['SalePrice']]).reshape((-1, 1))"
   ]
  },
  {
   "cell_type": "markdown",
   "id": "dbc53db5",
   "metadata": {
    "papermill": {
     "duration": 0.017474,
     "end_time": "2024-01-25T13:57:12.456557",
     "exception": false,
     "start_time": "2024-01-25T13:57:12.439083",
     "status": "completed"
    },
    "tags": []
   },
   "source": [
    "## Inspect the x input variables"
   ]
  },
  {
   "cell_type": "code",
   "execution_count": 20,
   "id": "1fa1b725",
   "metadata": {
    "execution": {
     "iopub.execute_input": "2024-01-25T13:57:12.492451Z",
     "iopub.status.busy": "2024-01-25T13:57:12.492027Z",
     "iopub.status.idle": "2024-01-25T13:57:12.502732Z",
     "shell.execute_reply": "2024-01-25T13:57:12.501494Z"
    },
    "papermill": {
     "duration": 0.031636,
     "end_time": "2024-01-25T13:57:12.505195",
     "exception": false,
     "start_time": "2024-01-25T13:57:12.473559",
     "status": "completed"
    },
    "tags": []
   },
   "outputs": [
    {
     "name": "stdout",
     "output_type": "stream",
     "text": [
      "LotArea and LotFrontage: \n",
      "[[11622.    80.]\n",
      " [14267.    81.]\n",
      " [13830.    74.]\n",
      " ...\n",
      " [20000.   160.]\n",
      " [10441.    62.]\n",
      " [ 9627.    74.]]\n",
      "\n",
      "LotArea and MSSubClass: \n",
      "[[11622    20]\n",
      " [14267    20]\n",
      " [13830    60]\n",
      " ...\n",
      " [20000    20]\n",
      " [10441    85]\n",
      " [ 9627    60]]\n",
      "\n",
      "LotArea and OverallQual: \n",
      "[[11622     5]\n",
      " [14267     6]\n",
      " [13830     5]\n",
      " ...\n",
      " [20000     5]\n",
      " [10441     5]\n",
      " [ 9627     7]]\n",
      "\n",
      "LotArea and OverallCond: \n",
      "[[11622     6]\n",
      " [14267     6]\n",
      " [13830     5]\n",
      " ...\n",
      " [20000     7]\n",
      " [10441     5]\n",
      " [ 9627     5]]\n",
      "\n",
      "LotFrontage and MSSubClass: \n",
      "[[ 80.  20.]\n",
      " [ 81.  20.]\n",
      " [ 74.  60.]\n",
      " ...\n",
      " [160.  20.]\n",
      " [ 62.  85.]\n",
      " [ 74.  60.]]\n",
      "\n",
      "LotFrontage and OverallQual: \n",
      "[[ 80.   5.]\n",
      " [ 81.   6.]\n",
      " [ 74.   5.]\n",
      " ...\n",
      " [160.   5.]\n",
      " [ 62.   5.]\n",
      " [ 74.   7.]]\n",
      "\n",
      "LotFrontage and OverallCond: \n",
      "[[ 80.   6.]\n",
      " [ 81.   6.]\n",
      " [ 74.   5.]\n",
      " ...\n",
      " [160.   7.]\n",
      " [ 62.   5.]\n",
      " [ 74.   5.]]\n",
      "\n",
      "MSSubClass and OverallQual: \n",
      "[[20  5]\n",
      " [20  6]\n",
      " [60  5]\n",
      " ...\n",
      " [20  5]\n",
      " [85  5]\n",
      " [60  7]]\n",
      "\n",
      "MSSubClass and OverallCond: \n",
      "[[20  6]\n",
      " [20  6]\n",
      " [60  5]\n",
      " ...\n",
      " [20  7]\n",
      " [85  5]\n",
      " [60  5]]\n",
      "\n",
      "OverallQual and OverallCond: \n",
      "[[5 6]\n",
      " [6 6]\n",
      " [5 5]\n",
      " ...\n",
      " [5 7]\n",
      " [5 5]\n",
      " [7 5]]\n",
      "\n"
     ]
    }
   ],
   "source": [
    "print(f\"LotArea and LotFrontage: \\n{x_lotArea_lotFrontage}\\n\")\n",
    "print(f\"LotArea and MSSubClass: \\n{x_lotArea_msSubClass}\\n\")\n",
    "print(f\"LotArea and OverallQual: \\n{x_lotArea_overallQual}\\n\")\n",
    "print(f\"LotArea and OverallCond: \\n{x_lotArea_overallCond}\\n\")\n",
    "print(f\"LotFrontage and MSSubClass: \\n{x_lotFrontage_msSubClass}\\n\")\n",
    "print(f\"LotFrontage and OverallQual: \\n{x_lotFrontage_overallQual}\\n\")\n",
    "print(f\"LotFrontage and OverallCond: \\n{x_lotFrontage_overallCond}\\n\")\n",
    "print(f\"MSSubClass and OverallQual: \\n{x_msSubClass_overallQual}\\n\")\n",
    "print(f\"MSSubClass and OverallCond: \\n{x_msSubClass_overallCond}\\n\")\n",
    "print(f\"OverallQual and OverallCond: \\n{x_overallQual_overallCond}\\n\")"
   ]
  },
  {
   "cell_type": "markdown",
   "id": "aa60c7af",
   "metadata": {
    "papermill": {
     "duration": 0.017124,
     "end_time": "2024-01-25T13:57:12.539588",
     "exception": false,
     "start_time": "2024-01-25T13:57:12.522464",
     "status": "completed"
    },
    "tags": []
   },
   "source": [
    "## Create a multilinear model and fit it"
   ]
  },
  {
   "cell_type": "code",
   "execution_count": 21,
   "id": "d99d604d",
   "metadata": {
    "execution": {
     "iopub.execute_input": "2024-01-25T13:57:12.576514Z",
     "iopub.status.busy": "2024-01-25T13:57:12.576052Z",
     "iopub.status.idle": "2024-01-25T13:57:12.608290Z",
     "shell.execute_reply": "2024-01-25T13:57:12.607340Z"
    },
    "papermill": {
     "duration": 0.053874,
     "end_time": "2024-01-25T13:57:12.611049",
     "exception": false,
     "start_time": "2024-01-25T13:57:12.557175",
     "status": "completed"
    },
    "tags": []
   },
   "outputs": [],
   "source": [
    "model_lotArea_lotFrontage = LinearRegression().fit(x_lotArea_lotFrontage, y_salePrice)\n",
    "model_lotArea_msSubClass = LinearRegression().fit(x_lotArea_msSubClass, y_salePrice)\n",
    "model_lotArea_overallQual = LinearRegression().fit(x_lotArea_overallQual, y_salePrice)\n",
    "model_lotArea_overallCond = LinearRegression().fit(x_lotArea_overallCond, y_salePrice)\n",
    "\n",
    "model_lotFrontage_msSubClass = LinearRegression().fit(x_lotFrontage_msSubClass, y_salePrice)\n",
    "model_lotFrontage_overallQual = LinearRegression().fit(x_lotFrontage_overallQual, y_salePrice)\n",
    "model_lotFrontage_overallCond = LinearRegression().fit(x_lotFrontage_overallCond, y_salePrice)\n",
    "\n",
    "model_msSubClass_overallQual = LinearRegression().fit(x_msSubClass_overallQual, y_salePrice)\n",
    "model_msSubClass_overallCond = LinearRegression().fit(x_msSubClass_overallCond, y_salePrice)\n",
    "\n",
    "model_overallQual_overallCond = LinearRegression().fit(x_overallQual_overallCond, y_salePrice)"
   ]
  },
  {
   "cell_type": "markdown",
   "id": "68eaf3c9",
   "metadata": {
    "papermill": {
     "duration": 0.01708,
     "end_time": "2024-01-25T13:57:12.645561",
     "exception": false,
     "start_time": "2024-01-25T13:57:12.628481",
     "status": "completed"
    },
    "tags": []
   },
   "source": [
    "## Get results"
   ]
  },
  {
   "cell_type": "code",
   "execution_count": 22,
   "id": "166e1067",
   "metadata": {
    "execution": {
     "iopub.execute_input": "2024-01-25T13:57:12.682511Z",
     "iopub.status.busy": "2024-01-25T13:57:12.682080Z",
     "iopub.status.idle": "2024-01-25T13:57:12.699182Z",
     "shell.execute_reply": "2024-01-25T13:57:12.698294Z"
    },
    "papermill": {
     "duration": 0.03822,
     "end_time": "2024-01-25T13:57:12.701457",
     "exception": false,
     "start_time": "2024-01-25T13:57:12.663237",
     "status": "completed"
    },
    "tags": []
   },
   "outputs": [
    {
     "name": "stdout",
     "output_type": "stream",
     "text": [
      "Input Feature: LotArea and LotFrontage\n",
      "coefficient of determination: 0.5128940223745833\n",
      "===============================================================\n",
      "Input Feature: LotArea and MSSubClass\n",
      "coefficient of determination: 0.515401669427938\n",
      "===============================================================\n",
      "Input Feature: LotArea and OverallQual\n",
      "coefficient of determination: 0.5126333129216907\n",
      "===============================================================\n",
      "Input Feature: LotArea and OverallCond\n",
      "coefficient of determination: 0.5124588589872286\n",
      "===============================================================\n",
      "Input Feature: LotFrontage and MSSubClass\n",
      "coefficient of determination: 0.0621055520398438\n",
      "===============================================================\n",
      "Input Feature: LotFrontage and OverallQual\n",
      "coefficient of determination: 0.04088116942415998\n",
      "===============================================================\n",
      "Input Feature: LotFrontage and OverallCond\n",
      "coefficient of determination: 0.0413361542178583\n",
      "===============================================================\n",
      "Input Feature: MSSubClass and OverallQual\n",
      "coefficient of determination: 0.05257194312346136\n",
      "===============================================================\n",
      "Input Feature: MSSubClass and OverallCond\n",
      "coefficient of determination: 0.05216038738153139\n",
      "===============================================================\n",
      "Input Feature: OverallQual and OverallCond\n",
      "coefficient of determination: 0.014412252186155938\n",
      "===============================================================\n"
     ]
    }
   ],
   "source": [
    "r_sq_lotArea_lotFrontage = model_lotArea_lotFrontage.score(x_lotArea_lotFrontage, y_salePrice)\n",
    "r_sq_lotArea_msSubClass = model_lotArea_msSubClass.score(x_lotArea_msSubClass, y_salePrice)\n",
    "r_sq_lotArea_overallQual = model_lotArea_overallQual.score(x_lotArea_overallQual, y_salePrice)\n",
    "r_sq_lotArea_overallCond = model_lotArea_overallCond.score(x_lotArea_overallCond, y_salePrice)\n",
    "\n",
    "r_sq_lotFrontage_msSubClass = model_lotFrontage_msSubClass.score(x_lotFrontage_msSubClass, y_salePrice)\n",
    "r_sq_lotFrontage_overallQual = model_lotFrontage_overallQual.score(x_lotFrontage_overallQual, y_salePrice)\n",
    "r_sq_lotFrontage_overallCond = model_lotFrontage_overallCond.score(x_lotFrontage_overallCond, y_salePrice)\n",
    "\n",
    "r_sq_msSubClass_overallQual = model_msSubClass_overallQual.score(x_msSubClass_overallQual, y_salePrice)\n",
    "r_sq_msSubClass_overallCond = model_msSubClass_overallCond.score(x_msSubClass_overallCond, y_salePrice)\n",
    "\n",
    "r_sq_overallQual_overallCond = model_overallQual_overallCond.score(x_overallQual_overallCond, y_salePrice)\n",
    "\n",
    "dict_features = {'LotArea and LotFrontage':r_sq_lotArea_lotFrontage, \n",
    "                 'LotArea and MSSubClass':r_sq_lotArea_msSubClass, \n",
    "                 'LotArea and OverallQual':r_sq_lotArea_overallQual, \n",
    "                 'LotArea and OverallCond':r_sq_lotArea_overallCond, \n",
    "                 'LotFrontage and MSSubClass':r_sq_lotFrontage_msSubClass, \n",
    "                 'LotFrontage and OverallQual':r_sq_lotFrontage_overallQual, \n",
    "                 'LotFrontage and OverallCond':r_sq_lotFrontage_overallCond, \n",
    "                 'MSSubClass and OverallQual':r_sq_msSubClass_overallQual,\n",
    "                 'MSSubClass and OverallCond':r_sq_msSubClass_overallCond, \n",
    "                 'OverallQual and OverallCond':r_sq_overallQual_overallCond}\n",
    "for duo_feature, score in dict_features.items():\n",
    "    print(f\"Input Feature: {duo_feature}\")\n",
    "    print(f\"coefficient of determination: {score}\")\n",
    "    print(\"===============================================================\")"
   ]
  },
  {
   "cell_type": "markdown",
   "id": "f7f1442c",
   "metadata": {
    "papermill": {
     "duration": 0.017368,
     "end_time": "2024-01-25T13:57:12.736580",
     "exception": false,
     "start_time": "2024-01-25T13:57:12.719212",
     "status": "completed"
    },
    "tags": []
   },
   "source": [
    "## Predict the response for considering two input features"
   ]
  },
  {
   "cell_type": "code",
   "execution_count": 23,
   "id": "5996aa55",
   "metadata": {
    "execution": {
     "iopub.execute_input": "2024-01-25T13:57:12.773766Z",
     "iopub.status.busy": "2024-01-25T13:57:12.773344Z",
     "iopub.status.idle": "2024-01-25T13:57:12.788020Z",
     "shell.execute_reply": "2024-01-25T13:57:12.786959Z"
    },
    "papermill": {
     "duration": 0.036424,
     "end_time": "2024-01-25T13:57:12.790541",
     "exception": false,
     "start_time": "2024-01-25T13:57:12.754117",
     "status": "completed"
    },
    "tags": []
   },
   "outputs": [
    {
     "name": "stdout",
     "output_type": "stream",
     "text": [
      "predicted response with LotArea and Lot Frontage as input: \n",
      "[[183720.52989267]\n",
      " [189995.635597  ]\n",
      " [188876.03634239]\n",
      " ...\n",
      " [204528.10558872]\n",
      " [180705.91593207]\n",
      " [178923.92829614]]\n",
      "\n",
      "predicted response with LotArea and MSSubClass as input: \n",
      "[[182759.81969211]\n",
      " [189257.97519109]\n",
      " [189097.47147067]\n",
      " ...\n",
      " [203342.63510628]\n",
      " [181342.16977759]\n",
      " [178771.66898968]]\n",
      "\n",
      "predicted response with LotArea and OverallQual as input: \n",
      "[[183269.59273119]\n",
      " [189754.87198856]\n",
      " [188524.67409557]\n",
      " ...\n",
      " [203209.38968352]\n",
      " [180458.79060649]\n",
      " [178901.71476972]]\n",
      "\n",
      "predicted response with LotArea and OverallCond as input: \n",
      "[[183414.18118963]\n",
      " [189716.10253805]\n",
      " [188820.91225524]\n",
      " ...\n",
      " [203229.43099146]\n",
      " [180746.3521608 ]\n",
      " [178806.9328876 ]]\n",
      "\n",
      "predicted response with Lot Frontage and MSSubClass as input: \n",
      "[[183281.2356805 ]\n",
      " [183355.37585321]\n",
      " [180204.30698275]\n",
      " ...\n",
      " [189212.44949747]\n",
      " [177669.57012178]\n",
      " [180204.30698275]]\n",
      "\n",
      "predicted response with Lot Frontage and OverallQual as input: \n",
      "[[180252.39949856]\n",
      " [181239.77039683]\n",
      " [179699.83861114]\n",
      " ...\n",
      " [187619.87799747]\n",
      " [178594.71683631]\n",
      " [181490.39344521]]\n",
      "\n",
      "predicted response with Lot Frontage and OverallQual as input: \n",
      "[[180746.80060091]\n",
      " [180841.6581139 ]\n",
      " [181371.0770677 ]\n",
      " ...\n",
      " [187141.98009575]\n",
      " [180232.78691176]\n",
      " [181371.0770677 ]]\n",
      "\n",
      "predicted response with MSSubClass and OverallQual as input: \n",
      "[[180957.16708318]\n",
      " [182117.25794013]\n",
      " [177720.23442184]\n",
      " ...\n",
      " [180957.16708318]\n",
      " [175697.15150851]\n",
      " [180040.41613574]]\n",
      "\n",
      "predicted response with MSSubClass and OverallCond as input: \n",
      "[[181605.37707654]\n",
      " [181605.37707654]\n",
      " [179781.60388405]\n",
      " ...\n",
      " [180136.45738913]\n",
      " [177723.67083412]\n",
      " [179781.60388405]]\n",
      "\n",
      "predicted response with OverallQual and OverallCond as input: \n",
      "[[177612.80013478]\n",
      " [178606.18913686]\n",
      " [178732.10432852]\n",
      " ...\n",
      " [176493.49594103]\n",
      " [178732.10432852]\n",
      " [180718.88233269]]\n",
      "\n"
     ]
    }
   ],
   "source": [
    "y_pred_lotArea_lotFrontage = model_lotArea_lotFrontage.predict(x_lotArea_lotFrontage)\n",
    "y_pred_lotArea_msSubClass = model_lotArea_msSubClass.predict(x_lotArea_msSubClass)\n",
    "y_pred_lotArea_overallQual = model_lotArea_overallQual.predict(x_lotArea_overallQual)\n",
    "y_pred_lotArea_overallCond = model_lotArea_overallCond.predict(x_lotArea_overallCond)\n",
    "\n",
    "y_pred_lotFrontage_msSubClass = model_lotFrontage_msSubClass.predict(x_lotFrontage_msSubClass)\n",
    "y_pred_lotFrontage_overallQual = model_lotFrontage_overallQual.predict(x_lotFrontage_overallQual)\n",
    "y_pred_lotFrontage_overallCond = model_lotFrontage_overallCond.predict(x_lotFrontage_overallCond)\n",
    "\n",
    "y_pred_msSubClass_overallQual = model_msSubClass_overallQual.predict(x_msSubClass_overallQual)\n",
    "y_pred_msSubClass_overallCond = model_msSubClass_overallCond.predict(x_msSubClass_overallCond)\n",
    "\n",
    "y_pred_overallQual_overallCond = model_overallQual_overallCond.predict(x_overallQual_overallCond)\n",
    "\n",
    "print(f\"predicted response with LotArea and Lot Frontage as input: \\n{y_pred_lotArea_lotFrontage}\\n\")\n",
    "print(f\"predicted response with LotArea and MSSubClass as input: \\n{y_pred_lotArea_msSubClass}\\n\")\n",
    "print(f\"predicted response with LotArea and OverallQual as input: \\n{y_pred_lotArea_overallQual}\\n\")\n",
    "print(f\"predicted response with LotArea and OverallCond as input: \\n{y_pred_lotArea_overallCond}\\n\")\n",
    "\n",
    "print(f\"predicted response with Lot Frontage and MSSubClass as input: \\n{y_pred_lotFrontage_msSubClass}\\n\")\n",
    "print(f\"predicted response with Lot Frontage and OverallQual as input: \\n{y_pred_lotFrontage_overallQual}\\n\")\n",
    "print(f\"predicted response with Lot Frontage and OverallQual as input: \\n{y_pred_lotFrontage_overallCond}\\n\")\n",
    "\n",
    "print(f\"predicted response with MSSubClass and OverallQual as input: \\n{y_pred_msSubClass_overallQual}\\n\")\n",
    "print(f\"predicted response with MSSubClass and OverallCond as input: \\n{y_pred_msSubClass_overallCond}\\n\")\n",
    "\n",
    "print(f\"predicted response with OverallQual and OverallCond as input: \\n{y_pred_overallQual_overallCond}\\n\")"
   ]
  },
  {
   "cell_type": "markdown",
   "id": "af2c9cc1",
   "metadata": {
    "papermill": {
     "duration": 0.017382,
     "end_time": "2024-01-25T13:57:12.825602",
     "exception": false,
     "start_time": "2024-01-25T13:57:12.808220",
     "status": "completed"
    },
    "tags": []
   },
   "source": [
    "# Polynomial Regression"
   ]
  },
  {
   "cell_type": "markdown",
   "id": "4d42da80",
   "metadata": {
    "papermill": {
     "duration": 0.017434,
     "end_time": "2024-01-25T13:57:12.860714",
     "exception": false,
     "start_time": "2024-01-25T13:57:12.843280",
     "status": "completed"
    },
    "tags": []
   },
   "source": [
    "## Import necessary modules"
   ]
  },
  {
   "cell_type": "code",
   "execution_count": 24,
   "id": "9d6e6385",
   "metadata": {
    "execution": {
     "iopub.execute_input": "2024-01-25T13:57:12.898257Z",
     "iopub.status.busy": "2024-01-25T13:57:12.897580Z",
     "iopub.status.idle": "2024-01-25T13:57:12.902357Z",
     "shell.execute_reply": "2024-01-25T13:57:12.901377Z"
    },
    "papermill": {
     "duration": 0.026402,
     "end_time": "2024-01-25T13:57:12.904671",
     "exception": false,
     "start_time": "2024-01-25T13:57:12.878269",
     "status": "completed"
    },
    "tags": []
   },
   "outputs": [],
   "source": [
    "import numpy as np\n",
    "from sklearn.linear_model import LinearRegression\n",
    "from sklearn.preprocessing import PolynomialFeatures"
   ]
  },
  {
   "cell_type": "markdown",
   "id": "21227a21",
   "metadata": {
    "papermill": {
     "duration": 0.01757,
     "end_time": "2024-01-25T13:57:12.939797",
     "exception": false,
     "start_time": "2024-01-25T13:57:12.922227",
     "status": "completed"
    },
    "tags": []
   },
   "source": [
    "## Provide input features"
   ]
  },
  {
   "cell_type": "code",
   "execution_count": 25,
   "id": "e9e0e618",
   "metadata": {
    "execution": {
     "iopub.execute_input": "2024-01-25T13:57:12.978575Z",
     "iopub.status.busy": "2024-01-25T13:57:12.977777Z",
     "iopub.status.idle": "2024-01-25T13:57:12.986051Z",
     "shell.execute_reply": "2024-01-25T13:57:12.984767Z"
    },
    "papermill": {
     "duration": 0.030771,
     "end_time": "2024-01-25T13:57:12.988663",
     "exception": false,
     "start_time": "2024-01-25T13:57:12.957892",
     "status": "completed"
    },
    "tags": []
   },
   "outputs": [],
   "source": [
    "x_lotArea = np.array([df_train['LotArea']]).reshape((-1, 1))\n",
    "x_lotFrontage = np.array([df_train['LotFrontage']]).reshape((-1, 1))\n",
    "x_msSubClass = np.array([df_train['MSSubClass']]).reshape((-1, 1))\n",
    "x_overallQual = np.array([df_train['OverallQual']]).reshape(-1, 1)\n",
    "x_overallCond = np.array([df_train['OverallCond']]).reshape(-1, 1)\n",
    "y_salePrice = np.array([df_sample_submission['SalePrice']]).reshape((-1, 1))"
   ]
  },
  {
   "cell_type": "markdown",
   "id": "9632e3f7",
   "metadata": {
    "papermill": {
     "duration": 0.017203,
     "end_time": "2024-01-25T13:57:13.023984",
     "exception": false,
     "start_time": "2024-01-25T13:57:13.006781",
     "status": "completed"
    },
    "tags": []
   },
   "source": [
    "## Transform input data"
   ]
  },
  {
   "cell_type": "code",
   "execution_count": 26,
   "id": "8602b063",
   "metadata": {
    "execution": {
     "iopub.execute_input": "2024-01-25T13:57:13.061152Z",
     "iopub.status.busy": "2024-01-25T13:57:13.060754Z",
     "iopub.status.idle": "2024-01-25T13:57:13.075110Z",
     "shell.execute_reply": "2024-01-25T13:57:13.073965Z"
    },
    "papermill": {
     "duration": 0.036119,
     "end_time": "2024-01-25T13:57:13.077743",
     "exception": false,
     "start_time": "2024-01-25T13:57:13.041624",
     "status": "completed"
    },
    "tags": []
   },
   "outputs": [
    {
     "data": {
      "text/plain": [
       "[array([[1.16220000e+04, 1.35070884e+08],\n",
       "        [1.42670000e+04, 2.03547289e+08],\n",
       "        [1.38300000e+04, 1.91268900e+08],\n",
       "        ...,\n",
       "        [2.00000000e+04, 4.00000000e+08],\n",
       "        [1.04410000e+04, 1.09014481e+08],\n",
       "        [9.62700000e+03, 9.26791290e+07]]),\n",
       " array([[   80.,  6400.],\n",
       "        [   81.,  6561.],\n",
       "        [   74.,  5476.],\n",
       "        ...,\n",
       "        [  160., 25600.],\n",
       "        [   62.,  3844.],\n",
       "        [   74.,  5476.]]),\n",
       " array([[  20.,  400.],\n",
       "        [  20.,  400.],\n",
       "        [  60., 3600.],\n",
       "        ...,\n",
       "        [  20.,  400.],\n",
       "        [  85., 7225.],\n",
       "        [  60., 3600.]]),\n",
       " array([[ 5., 25.],\n",
       "        [ 6., 36.],\n",
       "        [ 5., 25.],\n",
       "        ...,\n",
       "        [ 5., 25.],\n",
       "        [ 5., 25.],\n",
       "        [ 7., 49.]]),\n",
       " array([[ 6., 36.],\n",
       "        [ 6., 36.],\n",
       "        [ 5., 25.],\n",
       "        ...,\n",
       "        [ 7., 49.],\n",
       "        [ 5., 25.],\n",
       "        [ 5., 25.]])]"
      ]
     },
     "execution_count": 26,
     "metadata": {},
     "output_type": "execute_result"
    }
   ],
   "source": [
    "x_lotArea = PolynomialFeatures(degree=2, include_bias=False).fit_transform(x_lotArea)\n",
    "x_lotFrontage = PolynomialFeatures(degree=2, include_bias=False).fit_transform(x_lotFrontage)\n",
    "x_msSubClass = PolynomialFeatures(degree=2, include_bias=False).fit_transform(x_msSubClass)\n",
    "x_overallQual = PolynomialFeatures(degree=2, include_bias=False).fit_transform(x_overallQual)\n",
    "x_overallCond = PolynomialFeatures(degree=2, include_bias=False).fit_transform(x_overallCond)\n",
    "\n",
    "transformer_list = [x_lotArea, x_lotFrontage, x_msSubClass, x_overallQual, x_overallCond]\n",
    "transformer_list"
   ]
  },
  {
   "cell_type": "markdown",
   "id": "8da24582",
   "metadata": {
    "papermill": {
     "duration": 0.01805,
     "end_time": "2024-01-25T13:57:13.113920",
     "exception": false,
     "start_time": "2024-01-25T13:57:13.095870",
     "status": "completed"
    },
    "tags": []
   },
   "source": [
    "## Create a Model and fit it"
   ]
  },
  {
   "cell_type": "code",
   "execution_count": 27,
   "id": "c3dbc3b2",
   "metadata": {
    "execution": {
     "iopub.execute_input": "2024-01-25T13:57:13.151606Z",
     "iopub.status.busy": "2024-01-25T13:57:13.151190Z",
     "iopub.status.idle": "2024-01-25T13:57:13.167819Z",
     "shell.execute_reply": "2024-01-25T13:57:13.166482Z"
    },
    "papermill": {
     "duration": 0.038863,
     "end_time": "2024-01-25T13:57:13.170736",
     "exception": false,
     "start_time": "2024-01-25T13:57:13.131873",
     "status": "completed"
    },
    "tags": []
   },
   "outputs": [],
   "source": [
    "model_lotArea = LinearRegression().fit(x_lotArea, y_salePrice)\n",
    "model_lotFrontage = LinearRegression().fit(x_lotFrontage, y_salePrice)\n",
    "model_msSubClass = LinearRegression().fit(x_msSubClass, y_salePrice)\n",
    "model_overallQual = LinearRegression().fit(x_overallQual, y_salePrice)\n",
    "model_overallCond = LinearRegression().fit(x_overallCond, y_salePrice)"
   ]
  },
  {
   "cell_type": "markdown",
   "id": "25672158",
   "metadata": {
    "papermill": {
     "duration": 0.01787,
     "end_time": "2024-01-25T13:57:13.206481",
     "exception": false,
     "start_time": "2024-01-25T13:57:13.188611",
     "status": "completed"
    },
    "tags": []
   },
   "source": [
    "## Get results"
   ]
  },
  {
   "cell_type": "code",
   "execution_count": 28,
   "id": "2dd178e4",
   "metadata": {
    "execution": {
     "iopub.execute_input": "2024-01-25T13:57:13.244726Z",
     "iopub.status.busy": "2024-01-25T13:57:13.243359Z",
     "iopub.status.idle": "2024-01-25T13:57:13.257660Z",
     "shell.execute_reply": "2024-01-25T13:57:13.256189Z"
    },
    "papermill": {
     "duration": 0.03598,
     "end_time": "2024-01-25T13:57:13.260220",
     "exception": false,
     "start_time": "2024-01-25T13:57:13.224240",
     "status": "completed"
    },
    "tags": []
   },
   "outputs": [
    {
     "name": "stdout",
     "output_type": "stream",
     "text": [
      "Input Feature: LotArea\n",
      "coefficient of determination: 0.5202549233183307\n",
      "===============================================================\n",
      "Input Feature: LotFrontage\n",
      "coefficient of determination: 0.1331497860212988\n",
      "===============================================================\n",
      "Input Feature: MSSubClass\n",
      "coefficient of determination: 0.06035064062190987\n",
      "===============================================================\n",
      "Input Feature: OverallQual\n",
      "coefficient of determination: 0.009571097339512669\n",
      "===============================================================\n",
      "Input Feature: OverallCond\n",
      "coefficient of determination: 0.011088314171518898\n",
      "===============================================================\n"
     ]
    }
   ],
   "source": [
    "r_sq_lotArea = model_lotArea.score(x_lotArea, y_salePrice)\n",
    "r_sq_lotFrontage = model_lotFrontage.score(x_lotFrontage, y_salePrice)\n",
    "r_sq_msSubClass = model_msSubClass.score(x_msSubClass, y_salePrice)\n",
    "r_sq_overallQual = model_overallQual.score(x_overallQual, y_salePrice)\n",
    "r_sq_overallCond = model_overallCond.score(x_overallCond, y_salePrice)\n",
    "\n",
    "dict_features = {'LotArea':r_sq_lotArea, 'LotFrontage':r_sq_lotFrontage, 'MSSubClass': r_sq_msSubClass, 'OverallQual':r_sq_overallQual, 'OverallCond':r_sq_overallCond}\n",
    "for feature, score in dict_features.items():\n",
    "    print(f\"Input Feature: {feature}\")\n",
    "    print(f\"coefficient of determination: {score}\")\n",
    "    print(\"===============================================================\")"
   ]
  },
  {
   "cell_type": "markdown",
   "id": "dcf4a7c0",
   "metadata": {
    "papermill": {
     "duration": 0.017532,
     "end_time": "2024-01-25T13:57:13.295669",
     "exception": false,
     "start_time": "2024-01-25T13:57:13.278137",
     "status": "completed"
    },
    "tags": []
   },
   "source": [
    "## Predict a Response"
   ]
  },
  {
   "cell_type": "code",
   "execution_count": 29,
   "id": "03f23b52",
   "metadata": {
    "execution": {
     "iopub.execute_input": "2024-01-25T13:57:13.333882Z",
     "iopub.status.busy": "2024-01-25T13:57:13.333455Z",
     "iopub.status.idle": "2024-01-25T13:57:13.344666Z",
     "shell.execute_reply": "2024-01-25T13:57:13.343350Z"
    },
    "papermill": {
     "duration": 0.034023,
     "end_time": "2024-01-25T13:57:13.347617",
     "exception": false,
     "start_time": "2024-01-25T13:57:13.313594",
     "status": "completed"
    },
    "tags": []
   },
   "outputs": [
    {
     "name": "stdout",
     "output_type": "stream",
     "text": [
      "predicted response with LotArea as input: \n",
      "[[184299.60283635]\n",
      " [191012.62873535]\n",
      " [189919.52517816]\n",
      " ...\n",
      " [204766.30886432]\n",
      " [181227.26768783]\n",
      " [179082.7350444 ]]\n",
      "\n",
      "predicted response with LotFrontage as input: \n",
      "[[180099.16038619]\n",
      " [180378.83347327]\n",
      " [178563.68359076]\n",
      " ...\n",
      " [223925.15295217]\n",
      " [176225.90459633]\n",
      " [178563.68359076]]\n",
      "\n",
      "predicted response with MSSubClass as input: \n",
      "[[180473.81314391]\n",
      " [180473.81314391]\n",
      " [180904.44940935]\n",
      " ...\n",
      " [180473.81314391]\n",
      " [179582.20896376]\n",
      " [180904.44940935]]\n",
      "\n",
      "predicted response with OverallQual as input: \n",
      "[[178121.63787662]\n",
      " [179425.39554932]\n",
      " [178121.63787662]\n",
      " ...\n",
      " [178121.63787662]\n",
      " [178121.63787662]\n",
      " [180408.6378916 ]]\n",
      "\n",
      "predicted response with OverallCond as input: \n",
      "[[178066.64310354]\n",
      " [178066.64310354]\n",
      " [179579.40110694]\n",
      " ...\n",
      " [177445.18201695]\n",
      " [179579.40110694]\n",
      " [179579.40110694]]\n",
      "\n"
     ]
    }
   ],
   "source": [
    "y_pred_lotArea = model_lotArea.predict(x_lotArea)\n",
    "y_pred_lotFrontage = model_lotFrontage.predict(x_lotFrontage)\n",
    "y_pred_msSubClass = model_msSubClass.predict(x_msSubClass)\n",
    "y_pred_overallQual = model_overallQual.predict(x_overallQual)\n",
    "y_pred_overallCond = model_overallCond.predict(x_overallCond)\n",
    "\n",
    "print(f\"predicted response with LotArea as input: \\n{y_pred_lotArea}\\n\")\n",
    "print(f\"predicted response with LotFrontage as input: \\n{y_pred_lotFrontage}\\n\")\n",
    "print(f\"predicted response with MSSubClass as input: \\n{y_pred_msSubClass}\\n\")\n",
    "print(f\"predicted response with OverallQual as input: \\n{y_pred_overallQual}\\n\")\n",
    "print(f\"predicted response with OverallCond as input: \\n{y_pred_overallCond}\\n\")"
   ]
  }
 ],
 "metadata": {
  "kaggle": {
   "accelerator": "none",
   "dataSources": [
    {
     "datasetId": 4348542,
     "sourceId": 7470021,
     "sourceType": "datasetVersion"
    }
   ],
   "dockerImageVersionId": 30635,
   "isGpuEnabled": false,
   "isInternetEnabled": false,
   "language": "python",
   "sourceType": "notebook"
  },
  "kernelspec": {
   "display_name": "Python 3",
   "language": "python",
   "name": "python3"
  },
  "language_info": {
   "codemirror_mode": {
    "name": "ipython",
    "version": 3
   },
   "file_extension": ".py",
   "mimetype": "text/x-python",
   "name": "python",
   "nbconvert_exporter": "python",
   "pygments_lexer": "ipython3",
   "version": "3.10.12"
  },
  "papermill": {
   "default_parameters": {},
   "duration": 10.309079,
   "end_time": "2024-01-25T13:57:13.989431",
   "environment_variables": {},
   "exception": null,
   "input_path": "__notebook__.ipynb",
   "output_path": "__notebook__.ipynb",
   "parameters": {},
   "start_time": "2024-01-25T13:57:03.680352",
   "version": "2.4.0"
  }
 },
 "nbformat": 4,
 "nbformat_minor": 5
}
